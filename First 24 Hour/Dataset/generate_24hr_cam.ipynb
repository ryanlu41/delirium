{
 "metadata": {
  "language_info": {
   "codemirror_mode": {
    "name": "ipython",
    "version": 3
   },
   "file_extension": ".py",
   "mimetype": "text/x-python",
   "name": "python",
   "nbconvert_exporter": "python",
   "pygments_lexer": "ipython3",
   "version": "3.7.6-final"
  },
  "orig_nbformat": 2,
  "kernelspec": {
   "name": "Python 3.7.6 64-bit ('pcm': conda)",
   "display_name": "Python 3.7.6 64-bit ('pcm': conda)",
   "metadata": {
    "interpreter": {
     "hash": "4467672794477fd1b01c90d0c4b26aed05773f52aff902582ff13e5415ca7077"
    }
   }
  }
 },
 "nbformat": 4,
 "nbformat_minor": 2,
 "cells": [
  {
   "cell_type": "code",
   "execution_count": 22,
   "metadata": {},
   "outputs": [],
   "source": [
    "import numpy as np\n",
    "import pandas as pd\n",
    "import matplotlib.pyplot as plt\n",
    "sys.path.insert(1, '../scripts/')\n",
    "from utils import *\n",
    "from processing import *"
   ]
  },
  {
   "cell_type": "code",
   "execution_count": 26,
   "metadata": {},
   "outputs": [
    {
     "output_type": "stream",
     "name": "stdout",
     "text": [
      "PatientStayID\nClass\nAge\nAPACHEIVscore\nAPACHEIVaScore\nComa\nMetabolic\nUrgentAdmission\nAdmissionCategory\nInfection\nNumBeds\nTeachingStatus\nGender\nEthnicity\nAdmitHeight\nAdmitTime24\nAdmitSource\nUnitType\nUnitAdmitTime\nUnitAdmitSource\nAdmitWeight\nHistAICD\nHistAngina\nHistArrythmia\nHistCHF\nHistCABG\nHistExerciseTol\nHistHypertension\nHistMI\nHistPacemaker\nHistPVD\nHistPCI\nHistPulmEmb\nHistHeartTransp\nHistValveDis\nHistVenThromb\nHistCushing\nHistHypercalcemia\nHisthyperthyroid\nHisthypothyroid\nHistdiabetes\nHistSteroid Use\nHistCirrhosis\nHistHypersplenism\nHistPUD\nHistLiverTransp\nHistAplasticAnemia\nHistChemotherapy\nHistRadiationTherapy\nHistCancer\nHistClottingDisorder\nHistHemolyticAnemia\nHistHypercoagulableCondition\nHistOncology\nHistMyeloproliferativeDisease\nHistSickleCellDisease\nHistImmuneSuppr\nHistDementia\nHistIntracranialMass\nHistNeuromuscularDis\nHistSeizures\nHistStrokes\nHistTIA\nHistAsthma\nHistCOPD\nHistRespiratoryFail\nHistRestrictiveDis\nHistLungTransp\nHistSarcoidosis\nHistStoneDisease\nHistNeurogenicBladd\nHistRenalFail\nHistRenalInsuff\nHistRTA\nHistRenalTransp\nHistRheumatic\n24hrWorstMotorGCS\n24hrWorstVerbalGCS\n24hrWorstEyesGCS\n24hrBestMotorGCS\n24hrBestVerbalGCS\n24hrBestEyesGCS\nFirstDayAdrenergicBronchodilators\nFirstDayaminoglycosides\nFirstDayAnticholinergicBronchodilators\nFirstDayAnticholinergics\nFirstDayAnticoagulants\nFirstDayAntidiarrheals\nFirstDayAntiemetics\nFirstDayAntihistamines\nFirstDayBarbiturates\nFirstDayBenzodiazepines\nFirstDayBetaBlockers\nFirstDayCalciumChannelBlockers\nFirstDayCarbapenems\nFirstDayCephalosporins\nFirstDayClassVAntiarrhythmics\nFirstDayColloidFluids\nFirstDayCrystalloidFluids\nFirstDayDiuretics\nFirstDayGeneralAnesthetics\nFirstDayGlucocorticoids\nFirstDayGlucoseElevating\nFirstDayGlycopeptides\nFirstDayH2Blockers\nFirstDayHaloperidol\nFirstDayInsulins\nFirstDayLaxatives\nFirstDayLincomycins\nFirstDayMacrolides\nFirstDayMAOIAntidepressants\nFirstDayMethylxanthines\nFirstDayMiscAntidepressants\nFirstDayNeuromuscularBlockers\nFirstDayNSAIDs\nFirstDayOpioids\nFirstDayPenicillins\nFirstDayPhenylpiperazineAntidepressants\nFirstDayPotassiumChannelBlockers\nFirstDayPrecedex\nFirstDayProtonPumpInhibitor\nFirstDayQuinolones\nFirstDaySNRIAntidepressants\nFirstDaySodiumChannelBlockers\nFirstDaySomatostatin\nFirstDaySSRIAntidepressants\nFirstDaySulfonamides\nFirstDayTetracyclicAntidepressants\nFirstDayTetracyclines\nFirstDayThrombolytics\nFirstDayTricyclicAntidepressants\nFirstDayVasodilators\nFirstDayVasopressors\nmean_-lymphs\nmin_-lymphs\nmax_-lymphs\nmean_-monos\nmin_-monos\nmax_-monos\nmean_-polys\nmin_-polys\nmax_-polys\nmean_albumin\nmin_albumin\nmax_albumin\nmean_alkaline phos.\nmin_alkaline phos.\nmax_alkaline phos.\nmean_ALT (SGPT)\nmin_ALT (SGPT)\nmax_ALT (SGPT)\nmean_anion gap\nmin_anion gap\nmax_anion gap\nmean_AST (SGOT)\nmin_AST (SGOT)\nmax_AST (SGOT)\nmean_bedside glucose\nmin_bedside glucose\nmax_bedside glucose\nmean_bicarbonate_totalCO2_HCO3\nmin_bicarbonate_totalCO2_HCO3\nmax_bicarbonate_totalCO2_HCO3\nmean_BUN\nmin_BUN\nmax_BUN\nmean_calcium\nmin_calcium\nmax_calcium\nmean_chloride\nmin_chloride\nmax_chloride\nmean_creatinine\nmin_creatinine\nmax_creatinine\nmean_FiO2\nmin_FiO2\nmax_FiO2\nmean_glucose\nmin_glucose\nmax_glucose\nmean_Hct\nmin_Hct\nmax_Hct\nmean_Hgb\nmin_Hgb\nmax_Hgb\nmean_lactate\nmin_lactate\nmax_lactate\nmean_magnesium\nmin_magnesium\nmax_magnesium\nmean_MCH\nmin_MCH\nmax_MCH\nmean_MCHC\nmin_MCHC\nmax_MCHC\nmean_MCV\nmin_MCV\nmax_MCV\nmean_MPV\nmin_MPV\nmax_MPV\nmean_O2 Sat (%)\nmin_O2 Sat (%)\nmax_O2 Sat (%)\nmean_paCO2\nmin_paCO2\nmax_paCO2\nmean_paO2\nmin_paO2\nmax_paO2\nmean_pH\nmin_pH\nmax_pH\nmean_phosphate\nmin_phosphate\nmax_phosphate\nmean_platelets x 1000\nmin_platelets x 1000\nmax_platelets x 1000\nmean_potassium\nmin_potassium\nmax_potassium\nmean_PT - INR\nmin_PT - INR\nmax_PT - INR\nmean_PT\nmin_PT\nmax_PT\nmean_RBC\nmin_RBC\nmax_RBC\nmean_RDW\nmin_RDW\nmax_RDW\nmean_sodium\nmin_sodium\nmax_sodium\nmean_total bilirubin\nmin_total bilirubin\nmax_total bilirubin\nmean_total protein\nmin_total protein\nmax_total protein\nmean_WBC x 1000\nmin_WBC x 1000\nmax_WBC x 1000\nsuspected_sepsis\n24hr_sepsis\nsuspected_septic_shock\n24hr_septic_shock\nventilator\nphysicalexamoffset\n24hrNetFluidTotal\n24hr_minimum_temp\n24hr_maximum_temp\n24hr_mean_temp\n24hr_AKI\n"
     ]
    }
   ],
   "source": [
    "old_data = pd.read_csv(\"../csv/complete_features.csv\")\n",
    "old_data\n",
    "for col in old_data.columns:\n",
    "    print(col)"
   ]
  },
  {
   "cell_type": "code",
   "execution_count": 21,
   "metadata": {},
   "outputs": [
    {
     "output_type": "execute_result",
     "data": {
      "text/plain": [
       "7267"
      ]
     },
     "metadata": {},
     "execution_count": 21
    }
   ],
   "source": [
    "np.sum(old_data[\"Class\"])"
   ]
  },
  {
   "cell_type": "code",
   "execution_count": 16,
   "metadata": {},
   "outputs": [
    {
     "output_type": "stream",
     "name": "stdout",
     "text": [
      "PatientStayID\nClass\nAge\nAPACHEIVscore\nAPACHEIVaScore\nComa\nMetabolic\nUrgentAdmission\nAdmissionCategory\nInfection\nNumBeds\nTeachingStatus\nGender\nEthnicity\nAdmitHeight\nAdmitTime24\nAdmitSource\nUnitType\nUnitAdmitTime\nUnitAdmitSource\nAdmitWeight\nHistAICD\nHistAngina\nHistArrythmia\nHistCHF\nHistCABG\nHistExerciseTol\nHistHypertension\nHistMI\nHistPacemaker\nHistPVD\nHistPCI\nHistPulmEmb\nHistHeartTransp\nHistValveDis\nHistVenThromb\nHistCushing\nHistHypercalcemia\nHisthyperthyroid\nHisthypothyroid\nHistdiabetes\nHistSteroid Use\nHistCirrhosis\nHistHypersplenism\nHistPUD\nHistLiverTransp\nHistAplasticAnemia\nHistChemotherapy\nHistRadiationTherapy\nHistCancer\nHistClottingDisorder\nHistHemolyticAnemia\nHistHypercoagulableCondition\nHistOncology\nHistMyeloproliferativeDisease\nHistSickleCellDisease\nHistImmuneSuppr\nHistDementia\nHistIntracranialMass\nHistNeuromuscularDis\nHistSeizures\nHistStrokes\nHistTIA\nHistAsthma\nHistCOPD\nHistRespiratoryFail\nHistRestrictiveDis\nHistLungTransp\nHistSarcoidosis\nHistStoneDisease\nHistNeurogenicBladd\nHistRenalFail\nHistRenalInsuff\nHistRTA\nHistRenalTransp\nHistRheumatic\n24hrWorstMotorGCS\n24hrWorstVerbalGCS\n24hrWorstEyesGCS\n24hrBestMotorGCS\n24hrBestVerbalGCS\n24hrBestEyesGCS\nFirstDayAdrenergicBronchodilators\nFirstDayaminoglycosides\nFirstDayAnticholinergicBronchodilators\nFirstDayAnticholinergics\nFirstDayAnticoagulants\nFirstDayAntidiarrheals\nFirstDayAntiemetics\nFirstDayAntihistamines\nFirstDayBarbiturates\nFirstDayBenzodiazepines\nFirstDayBetaBlockers\nFirstDayCalciumChannelBlockers\nFirstDayCarbapenems\nFirstDayCephalosporins\nFirstDayClassVAntiarrhythmics\nFirstDayColloidFluids\nFirstDayCrystalloidFluids\nFirstDayDiuretics\nFirstDayGeneralAnesthetics\nFirstDayGlucocorticoids\nFirstDayGlucoseElevating\nFirstDayGlycopeptides\nFirstDayH2Blockers\nFirstDayHaloperidol\nFirstDayInsulins\nFirstDayLaxatives\nFirstDayLincomycins\nFirstDayMacrolides\nFirstDayMAOIAntidepressants\nFirstDayMethylxanthines\nFirstDayMiscAntidepressants\nFirstDayNeuromuscularBlockers\nFirstDayNSAIDs\nFirstDayOpioids\nFirstDayPenicillins\nFirstDayPhenylpiperazineAntidepressants\nFirstDayPotassiumChannelBlockers\nFirstDayPrecedex\nFirstDayProtonPumpInhibitor\nFirstDayQuinolones\nFirstDaySNRIAntidepressants\nFirstDaySodiumChannelBlockers\nFirstDaySomatostatin\nFirstDaySSRIAntidepressants\nFirstDaySulfonamides\nFirstDayTetracyclicAntidepressants\nFirstDayTetracyclines\nFirstDayThrombolytics\nFirstDayTricyclicAntidepressants\nFirstDayVasodilators\nFirstDayVasopressors\nmean_-lymphs\nmin_-lymphs\nmax_-lymphs\nmean_-monos\nmin_-monos\nmax_-monos\nmean_-polys\nmin_-polys\nmax_-polys\nmean_albumin\nmin_albumin\nmax_albumin\nmean_alkaline phos.\nmin_alkaline phos.\nmax_alkaline phos.\nmean_ALT (SGPT)\nmin_ALT (SGPT)\nmax_ALT (SGPT)\nmean_anion gap\nmin_anion gap\nmax_anion gap\nmean_AST (SGOT)\nmin_AST (SGOT)\nmax_AST (SGOT)\nmean_bedside glucose\nmin_bedside glucose\nmax_bedside glucose\nmean_bicarbonate_totalCO2_HCO3\nmin_bicarbonate_totalCO2_HCO3\nmax_bicarbonate_totalCO2_HCO3\nmean_BUN\nmin_BUN\nmax_BUN\nmean_calcium\nmin_calcium\nmax_calcium\nmean_chloride\nmin_chloride\nmax_chloride\nmean_creatinine\nmin_creatinine\nmax_creatinine\nmean_FiO2\nmin_FiO2\nmax_FiO2\nmean_glucose\nmin_glucose\nmax_glucose\nmean_Hct\nmin_Hct\nmax_Hct\nmean_Hgb\nmin_Hgb\nmax_Hgb\nmean_lactate\nmin_lactate\nmax_lactate\nmean_magnesium\nmin_magnesium\nmax_magnesium\nmean_MCH\nmin_MCH\nmax_MCH\nmean_MCHC\nmin_MCHC\nmax_MCHC\nmean_MCV\nmin_MCV\nmax_MCV\nmean_MPV\nmin_MPV\nmax_MPV\nmean_O2 Sat (%)\nmin_O2 Sat (%)\nmax_O2 Sat (%)\nmean_paCO2\nmin_paCO2\nmax_paCO2\nmean_paO2\nmin_paO2\nmax_paO2\nmean_pH\nmin_pH\nmax_pH\nmean_phosphate\nmin_phosphate\nmax_phosphate\nmean_platelets x 1000\nmin_platelets x 1000\nmax_platelets x 1000\nmean_potassium\nmin_potassium\nmax_potassium\nmean_PT - INR\nmin_PT - INR\nmax_PT - INR\nmean_PT\nmin_PT\nmax_PT\nmean_RBC\nmin_RBC\nmax_RBC\nmean_RDW\nmin_RDW\nmax_RDW\nmean_sodium\nmin_sodium\nmax_sodium\nmean_total bilirubin\nmin_total bilirubin\nmax_total bilirubin\nmean_total protein\nmin_total protein\nmax_total protein\nmean_WBC x 1000\nmin_WBC x 1000\nmax_WBC x 1000\n"
     ]
    }
   ],
   "source": [
    "import glob\n",
    "labs = glob.glob(\"../csv/early_24hr_data/early_24hr_labs/*\")\n",
    "\n",
    "for lab in labs:\n",
    "    lab_df = pd.read_csv(lab)\n",
    "    lab_df.rename(columns={'patientunitstayid' : \"PatientStayID\"}, inplace=True)\n",
    "    old_data = old_data.merge(lab_df, how=\"inner\", left_on=\"PatientStayID\", right_on=\"PatientStayID\")\n",
    "for col in old_data.columns:\n",
    "    print(col)\n",
    "old_data.to_csv(\"../csv/complete_features.csv\")"
   ]
  },
  {
   "cell_type": "code",
   "execution_count": 6,
   "metadata": {},
   "outputs": [
    {
     "output_type": "stream",
     "name": "stdout",
     "text": [
      "PatientStayID\nClass\nAge\nAPACHEIVscore\nAPACHEIVaScore\nComa\nMetabolic\nUrgentAdmission\nAdmissionCategory\nInfection\nNumBeds\nTeachingStatus\nGender\nEthnicity\nAdmitHeight\nAdmitTime24\nAdmitSource\nUnitType\nUnitAdmitTime\nUnitAdmitSource\nUnitStayType\nAdmitWeight\n24hrMinAlbumin\n24hrMaxAlbumin\n24hrMinAlkPhosp\n24hrMaxAlkPhos\n24hrMinALT\n24hrMaxALT\n24hrMinAnionGap\n24hrMaxAnionGap\n24hrMinAST\n24hrMaxAST\n24hrMinBedGlucose\n24hrMaxBedGlucose\n24hrMinBUN\n24hrMaxBUN\n24hrMinCalcium\n24hrMaxCalcium\n24hrMinChloride\n24hrMaxChloride\n24hrMinCreatinine\n24hrMaxCreatinine\n24hrMinFiO2\n24hrMaxFiO2\n24hrMinGlucose\n24hrMaxGlucose\n24hrMinHct\n24hrMaxHct\n24hrMinHgb\n24hrMaxHgb\n24hrMinLactate\n24hrMaxLactate\n24hrMinLymphs\n24hrMaxLymphs\n24hrMinMCH\n24hrMaxMCH\n24hrMinMCHC\n24hrMaxMCHC\n24hrMinMCV\n24hrMaxMCV\n24hrMinMonos\n24hrMaxMonos\n24hrMinMPV\n24hrMaxMPV\n24hrMinO2Sat\n24hrMaxO2Sat\n24hrMinpaCO2\n24hrMaxpaCO2\n24hrMinpaO2\n24hrMaxpaO2\n24hrMinpH\n24hrMaxpH\n24hrMinPhosphate\n24hrMaxPhosphate\n24hrMinPlatelets\n24hrMaxPlatelets\n24hrMinPotassium\n24hrMaxPotassium\n24hrMinPT\n24hrMaxPT\n24hrMinPTINR\n24hrMaxPTINR\n24hrMinRBC\n24hrMaxRBC\n24hrMinRDW\n24hrMaxRDW\n24hrMinSodium\n24hrMaxSodium\n24hrMinbilirubin\n24hrMaxBilirubin\n24hrMinProtein\n24hrMaxProtein\n24hrMinWBC\n24hrMaxWBC\nHistAICD\nHistAngina\nHistArrythmia\nHistCHF\nHistCABG\nHistExerciseTol\nHistHypertension\nHistMI\nHistPacemaker\nHistPVD\nHistPCI\nHistPulmEmb\nHistHeartTransp\nHistValveDis\nHistVenThromb\nHistCushing\nHistHypercalcemia\nHisthyperthyroid\nHisthypothyroid\nHistdiabetes\nHistSteroid Use\nHistCirrhosis\nHistHypersplenism\nHistPUD\nHistLiverTransp\nHistAplasticAnemia\nHistChemotherapy\nHistRadiationTherapy\nHistCancer\nHistClottingDisorder\nHistHemolyticAnemia\nHistHypercoagulableCondition\nHistOncology\nHistMyeloproliferativeDisease\nHistSickleCellDisease\nHistImmuneSuppr\nHistDementia\nHistIntracranialMass\nHistNeuromuscularDis\nHistSeizures\nHistStrokes\nHistTIA\nHistAsthma\nHistCOPD\nHistRespiratoryFail\nHistRestrictiveDis\nHistLungTransp\nHistSarcoidosis\nHistStoneDisease\nHistNeurogenicBladd\nHistRenalFail\nHistRenalInsuff\nHistRTA\nHistRenalTransp\nHistRheumatic\nFirstDayAdrenergicBronchodilators\nFirstDayaminoglycosides\nFirstDayAnticholinergicBronchodilators\nFirstDayAnticholinergics\nFirstDayAnticoagulants\nFirstDayAntidiarrheals\nFirstDayAntiemetics\nFirstDayAntihistamines\nFirstDayBarbiturates\nFirstDayBenzodiazepines\nFirstDayBetaBlockers\nFirstDayCalciumChannelBlockers\nFirstDayCarbapenems\nFirstDayCephalosporins\nFirstDayClassVAntiarrhythmics\nFirstDayColloidFluids\nFirstDayCrystalloidFluids\nFirstDayDiuretics\nFirstDayGeneralAnesthetics\nFirstDayGlucocorticoids\nFirstDayGlucoseElevating\nFirstDayGlycopeptides\nFirstDayH2Blockers\nFirstDayHaloperidol\nFirstDayInsulins\nFirstDayLaxatives\nFirstDayLincomycins\nFirstDayMacrolides\nFirstDayMAOIAntidepressants\nFirstDayMethylxanthines\nFirstDayMiscAntidepressants\nFirstDayNeuromuscularBlockers\nFirstDayNSAIDs\nFirstDayOpioids\nFirstDayPenicillins\nFirstDayPhenylpiperazineAntidepressants\nFirstDayPotassiumChannelBlockers\nFirstDayPrecedex\nFirstDayProtonPumpInhibitor\nFirstDayQuinolones\nFirstDaySNRIAntidepressants\nFirstDaySodiumChannelBlockers\nFirstDaySomatostatin\nFirstDaySSRIAntidepressants\nFirstDaySulfonamides\nFirstDayTetracyclicAntidepressants\nFirstDayTetracyclines\nFirstDayThrombolytics\nFirstDayTricyclicAntidepressants\nFirstDayVasodilators\nFirstDayVasopressors\n24hrWorstMotorGCS\n24hrWorstVerbalGCS\n24hrWorstEyesGCS\n24hrBestMotorGCS\n24hrBestVerbalGCS\n24hrBestEyesGCS\n24hrVentilation\n24hrMeanEyes\n24hrMeanMotor\n24hrMeanVerbal\n24hrMinTemp\n24hrMaxTemp\n24hrMeanTemp\nPhysicalExam\n24hrNetFluidTotal\nSuspectedSepsis\n24hrSepsis\n24hrSepticShock\n24hrAKI\ncomorbidity_chf\ncomorbidity_carit\ncomorbidity_valv\ncomorbidity_pcd\ncomorbidity_pvd\ncomorbidity_hypunc\ncomorbidity_hypc\ncomorbidity_para\ncomorbidity_ond\ncomorbidity_cpd\ncomorbidity_diabunc\ncomorbidity_diabc\ncomorbidity_hypothy\ncomorbidity_rf\ncomorbidity_ld\ncomorbidity_pud\ncomorbidity_aids\ncomorbidity_lymph\ncomorbidity_metacanc\ncomorbidity_solidtum\ncomorbidity_rheumd\ncomorbidity_coag\ncomorbidity_obes\ncomorbidity_wloss\ncomorbidity_fed\ncomorbidity_blane\ncomorbidity_dane\ncomorbidity_alcohol\ncomorbidity_drug\ncomorbidity_depre\nmean_bicarbonate_totalCO2_HCO3\nmin_bicarbonate_totalCO2_HCO3\nmax_bicarbonate_totalCO2_HCO3\n"
     ]
    }
   ],
   "source": [
    "data = load_data(\"prediction_cam\")\n",
    "for col in data.columns:\n",
    "    print(col)"
   ]
  },
  {
   "cell_type": "code",
   "execution_count": 27,
   "metadata": {},
   "outputs": [
    {
     "output_type": "execute_result",
     "data": {
      "text/plain": [
       "       PatientStayID  comorbidity_chf  comorbidity_carit  comorbidity_valv  \\\n",
       "0             149321                0                  0                 0   \n",
       "1             150934                0                  0                 0   \n",
       "2             151213                0                  0                 0   \n",
       "3             151708                0                  0                 0   \n",
       "4             152171                0                  0                 0   \n",
       "...              ...              ...                ...               ...   \n",
       "24835        3353038                0                  0                 0   \n",
       "24836        3353044                0                  0                 0   \n",
       "24837        3353077                0                  0                 0   \n",
       "24838        3353097                0                  0                 0   \n",
       "24839        3353197                0                  0                 0   \n",
       "\n",
       "       comorbidity_pcd  comorbidity_pvd  comorbidity_hypunc  comorbidity_hypc  \\\n",
       "0                    0                0                   1                 0   \n",
       "1                    0                0                   1                 0   \n",
       "2                    0                0                   0                 0   \n",
       "3                    0                0                   0                 0   \n",
       "4                    0                0                   1                 0   \n",
       "...                ...              ...                 ...               ...   \n",
       "24835                0                0                   0                 0   \n",
       "24836                0                0                   0                 0   \n",
       "24837                0                0                   0                 0   \n",
       "24838                0                0                   0                 0   \n",
       "24839                0                0                   0                 0   \n",
       "\n",
       "       comorbidity_para  comorbidity_ond  ...  comorbidity_rheumd  \\\n",
       "0                     0                0  ...                   0   \n",
       "1                     0                1  ...                   0   \n",
       "2                     0                1  ...                   0   \n",
       "3                     0                1  ...                   0   \n",
       "4                     0                0  ...                   0   \n",
       "...                 ...              ...  ...                 ...   \n",
       "24835                 0                0  ...                   0   \n",
       "24836                 0                0  ...                   0   \n",
       "24837                 0                0  ...                   0   \n",
       "24838                 0                0  ...                   0   \n",
       "24839                 0                0  ...                   0   \n",
       "\n",
       "       comorbidity_coag  comorbidity_obes  comorbidity_wloss  comorbidity_fed  \\\n",
       "0                     0                 0                  0                0   \n",
       "1                     0                 0                  0                0   \n",
       "2                     1                 0                  0                0   \n",
       "3                     0                 0                  0                0   \n",
       "4                     0                 0                  0                0   \n",
       "...                 ...               ...                ...              ...   \n",
       "24835                 0                 0                  0                0   \n",
       "24836                 0                 0                  0                1   \n",
       "24837                 0                 0                  0                0   \n",
       "24838                 0                 0                  0                0   \n",
       "24839                 0                 0                  0                0   \n",
       "\n",
       "       comorbidity_blane  comorbidity_dane  comorbidity_alcohol  \\\n",
       "0                      0                 0                    1   \n",
       "1                      0                 0                    0   \n",
       "2                      0                 0                    1   \n",
       "3                      0                 0                    0   \n",
       "4                      0                 0                    0   \n",
       "...                  ...               ...                  ...   \n",
       "24835                  0                 0                    0   \n",
       "24836                  0                 0                    0   \n",
       "24837                  0                 0                    0   \n",
       "24838                  0                 0                    0   \n",
       "24839                  0                 0                    0   \n",
       "\n",
       "       comorbidity_drug  comorbidity_depre  \n",
       "0                     0                  0  \n",
       "1                     0                  0  \n",
       "2                     0                  0  \n",
       "3                     0                  0  \n",
       "4                     0                  0  \n",
       "...                 ...                ...  \n",
       "24835                 0                  0  \n",
       "24836                 0                  0  \n",
       "24837                 0                  0  \n",
       "24838                 0                  0  \n",
       "24839                 0                  0  \n",
       "\n",
       "[24840 rows x 31 columns]"
      ],
      "text/html": "<div>\n<style scoped>\n    .dataframe tbody tr th:only-of-type {\n        vertical-align: middle;\n    }\n\n    .dataframe tbody tr th {\n        vertical-align: top;\n    }\n\n    .dataframe thead th {\n        text-align: right;\n    }\n</style>\n<table border=\"1\" class=\"dataframe\">\n  <thead>\n    <tr style=\"text-align: right;\">\n      <th></th>\n      <th>PatientStayID</th>\n      <th>comorbidity_chf</th>\n      <th>comorbidity_carit</th>\n      <th>comorbidity_valv</th>\n      <th>comorbidity_pcd</th>\n      <th>comorbidity_pvd</th>\n      <th>comorbidity_hypunc</th>\n      <th>comorbidity_hypc</th>\n      <th>comorbidity_para</th>\n      <th>comorbidity_ond</th>\n      <th>...</th>\n      <th>comorbidity_rheumd</th>\n      <th>comorbidity_coag</th>\n      <th>comorbidity_obes</th>\n      <th>comorbidity_wloss</th>\n      <th>comorbidity_fed</th>\n      <th>comorbidity_blane</th>\n      <th>comorbidity_dane</th>\n      <th>comorbidity_alcohol</th>\n      <th>comorbidity_drug</th>\n      <th>comorbidity_depre</th>\n    </tr>\n  </thead>\n  <tbody>\n    <tr>\n      <th>0</th>\n      <td>149321</td>\n      <td>0</td>\n      <td>0</td>\n      <td>0</td>\n      <td>0</td>\n      <td>0</td>\n      <td>1</td>\n      <td>0</td>\n      <td>0</td>\n      <td>0</td>\n      <td>...</td>\n      <td>0</td>\n      <td>0</td>\n      <td>0</td>\n      <td>0</td>\n      <td>0</td>\n      <td>0</td>\n      <td>0</td>\n      <td>1</td>\n      <td>0</td>\n      <td>0</td>\n    </tr>\n    <tr>\n      <th>1</th>\n      <td>150934</td>\n      <td>0</td>\n      <td>0</td>\n      <td>0</td>\n      <td>0</td>\n      <td>0</td>\n      <td>1</td>\n      <td>0</td>\n      <td>0</td>\n      <td>1</td>\n      <td>...</td>\n      <td>0</td>\n      <td>0</td>\n      <td>0</td>\n      <td>0</td>\n      <td>0</td>\n      <td>0</td>\n      <td>0</td>\n      <td>0</td>\n      <td>0</td>\n      <td>0</td>\n    </tr>\n    <tr>\n      <th>2</th>\n      <td>151213</td>\n      <td>0</td>\n      <td>0</td>\n      <td>0</td>\n      <td>0</td>\n      <td>0</td>\n      <td>0</td>\n      <td>0</td>\n      <td>0</td>\n      <td>1</td>\n      <td>...</td>\n      <td>0</td>\n      <td>1</td>\n      <td>0</td>\n      <td>0</td>\n      <td>0</td>\n      <td>0</td>\n      <td>0</td>\n      <td>1</td>\n      <td>0</td>\n      <td>0</td>\n    </tr>\n    <tr>\n      <th>3</th>\n      <td>151708</td>\n      <td>0</td>\n      <td>0</td>\n      <td>0</td>\n      <td>0</td>\n      <td>0</td>\n      <td>0</td>\n      <td>0</td>\n      <td>0</td>\n      <td>1</td>\n      <td>...</td>\n      <td>0</td>\n      <td>0</td>\n      <td>0</td>\n      <td>0</td>\n      <td>0</td>\n      <td>0</td>\n      <td>0</td>\n      <td>0</td>\n      <td>0</td>\n      <td>0</td>\n    </tr>\n    <tr>\n      <th>4</th>\n      <td>152171</td>\n      <td>0</td>\n      <td>0</td>\n      <td>0</td>\n      <td>0</td>\n      <td>0</td>\n      <td>1</td>\n      <td>0</td>\n      <td>0</td>\n      <td>0</td>\n      <td>...</td>\n      <td>0</td>\n      <td>0</td>\n      <td>0</td>\n      <td>0</td>\n      <td>0</td>\n      <td>0</td>\n      <td>0</td>\n      <td>0</td>\n      <td>0</td>\n      <td>0</td>\n    </tr>\n    <tr>\n      <th>...</th>\n      <td>...</td>\n      <td>...</td>\n      <td>...</td>\n      <td>...</td>\n      <td>...</td>\n      <td>...</td>\n      <td>...</td>\n      <td>...</td>\n      <td>...</td>\n      <td>...</td>\n      <td>...</td>\n      <td>...</td>\n      <td>...</td>\n      <td>...</td>\n      <td>...</td>\n      <td>...</td>\n      <td>...</td>\n      <td>...</td>\n      <td>...</td>\n      <td>...</td>\n      <td>...</td>\n    </tr>\n    <tr>\n      <th>24835</th>\n      <td>3353038</td>\n      <td>0</td>\n      <td>0</td>\n      <td>0</td>\n      <td>0</td>\n      <td>0</td>\n      <td>0</td>\n      <td>0</td>\n      <td>0</td>\n      <td>0</td>\n      <td>...</td>\n      <td>0</td>\n      <td>0</td>\n      <td>0</td>\n      <td>0</td>\n      <td>0</td>\n      <td>0</td>\n      <td>0</td>\n      <td>0</td>\n      <td>0</td>\n      <td>0</td>\n    </tr>\n    <tr>\n      <th>24836</th>\n      <td>3353044</td>\n      <td>0</td>\n      <td>0</td>\n      <td>0</td>\n      <td>0</td>\n      <td>0</td>\n      <td>0</td>\n      <td>0</td>\n      <td>0</td>\n      <td>0</td>\n      <td>...</td>\n      <td>0</td>\n      <td>0</td>\n      <td>0</td>\n      <td>0</td>\n      <td>1</td>\n      <td>0</td>\n      <td>0</td>\n      <td>0</td>\n      <td>0</td>\n      <td>0</td>\n    </tr>\n    <tr>\n      <th>24837</th>\n      <td>3353077</td>\n      <td>0</td>\n      <td>0</td>\n      <td>0</td>\n      <td>0</td>\n      <td>0</td>\n      <td>0</td>\n      <td>0</td>\n      <td>0</td>\n      <td>0</td>\n      <td>...</td>\n      <td>0</td>\n      <td>0</td>\n      <td>0</td>\n      <td>0</td>\n      <td>0</td>\n      <td>0</td>\n      <td>0</td>\n      <td>0</td>\n      <td>0</td>\n      <td>0</td>\n    </tr>\n    <tr>\n      <th>24838</th>\n      <td>3353097</td>\n      <td>0</td>\n      <td>0</td>\n      <td>0</td>\n      <td>0</td>\n      <td>0</td>\n      <td>0</td>\n      <td>0</td>\n      <td>0</td>\n      <td>0</td>\n      <td>...</td>\n      <td>0</td>\n      <td>0</td>\n      <td>0</td>\n      <td>0</td>\n      <td>0</td>\n      <td>0</td>\n      <td>0</td>\n      <td>0</td>\n      <td>0</td>\n      <td>0</td>\n    </tr>\n    <tr>\n      <th>24839</th>\n      <td>3353197</td>\n      <td>0</td>\n      <td>0</td>\n      <td>0</td>\n      <td>0</td>\n      <td>0</td>\n      <td>0</td>\n      <td>0</td>\n      <td>0</td>\n      <td>0</td>\n      <td>...</td>\n      <td>0</td>\n      <td>0</td>\n      <td>0</td>\n      <td>0</td>\n      <td>0</td>\n      <td>0</td>\n      <td>0</td>\n      <td>0</td>\n      <td>0</td>\n      <td>0</td>\n    </tr>\n  </tbody>\n</table>\n<p>24840 rows × 31 columns</p>\n</div>"
     },
     "metadata": {},
     "execution_count": 27
    }
   ],
   "source": [
    "# Format Comorbidity\n",
    "comorbidity = pd.read_csv(\"../csv/early_24hr_data/early_24hr_comorbidity.csv\")\n",
    "comorbidity.drop([\"Unnamed: 0\"], axis=1, inplace=True)\n",
    "comorbidity = comorbidity.iloc[:, :32]\n",
    "comorbidity.drop([\"psycho\"], axis=1, inplace=True)\n",
    "comorbidity = comorbidity.add_prefix(\"comorbidity_\")\n",
    "comorbidity.rename(columns={\"comorbidity_patientunitstayid\" : \"PatientStayID\"}, inplace=True)\n",
    "comorbidity"
   ]
  },
  {
   "cell_type": "code",
   "execution_count": 30,
   "metadata": {},
   "outputs": [
    {
     "output_type": "execute_result",
     "data": {
      "text/plain": [
       "       PatientStayID  Class   Age  APACHEIVscore  APACHEIVaScore  Coma  \\\n",
       "0             149321      1  34.0           32.0            32.0   0.0   \n",
       "1             150934      1  69.0           78.0            78.0   0.0   \n",
       "2             151213      1  61.0          101.0           101.0   0.0   \n",
       "3             151708      1  79.0           38.0            38.0   0.0   \n",
       "4             152171      1  84.0           38.0            38.0   0.0   \n",
       "...              ...    ...   ...            ...             ...   ...   \n",
       "27934        3353038      0  27.0           39.0            39.0   0.0   \n",
       "27935        3353044      0  52.0           41.0            41.0   0.0   \n",
       "27936        3353077      0  60.0           36.0            36.0   0.0   \n",
       "27937        3353097      1  41.0           89.0            89.0   0.0   \n",
       "27938        3353197      1  66.0            NaN             NaN   0.0   \n",
       "\n",
       "       Metabolic  UrgentAdmission  AdmissionCategory  Infection  ...  \\\n",
       "0              0              0.0                4.0      False  ...   \n",
       "1              0              0.0                4.0      False  ...   \n",
       "2              0              0.0                2.0      False  ...   \n",
       "3              0              0.0                4.0      False  ...   \n",
       "4              0              1.0                4.0      False  ...   \n",
       "...          ...              ...                ...        ...  ...   \n",
       "27934          0              0.0                2.0      False  ...   \n",
       "27935          0              0.0                4.0      False  ...   \n",
       "27936          0              0.0                4.0       True  ...   \n",
       "27937          0              0.0                4.0      False  ...   \n",
       "27938          0              1.0                1.0      False  ...   \n",
       "\n",
       "       comorbidity_rheumd  comorbidity_coag comorbidity_obes  \\\n",
       "0                     0.0               0.0              0.0   \n",
       "1                     0.0               0.0              0.0   \n",
       "2                     0.0               1.0              0.0   \n",
       "3                     0.0               0.0              0.0   \n",
       "4                     0.0               0.0              0.0   \n",
       "...                   ...               ...              ...   \n",
       "27934                 0.0               0.0              0.0   \n",
       "27935                 0.0               0.0              0.0   \n",
       "27936                 0.0               0.0              0.0   \n",
       "27937                 0.0               0.0              0.0   \n",
       "27938                 0.0               0.0              0.0   \n",
       "\n",
       "      comorbidity_wloss comorbidity_fed comorbidity_blane comorbidity_dane  \\\n",
       "0                   0.0             0.0               0.0              0.0   \n",
       "1                   0.0             0.0               0.0              0.0   \n",
       "2                   0.0             0.0               0.0              0.0   \n",
       "3                   0.0             0.0               0.0              0.0   \n",
       "4                   0.0             0.0               0.0              0.0   \n",
       "...                 ...             ...               ...              ...   \n",
       "27934               0.0             0.0               0.0              0.0   \n",
       "27935               0.0             1.0               0.0              0.0   \n",
       "27936               0.0             0.0               0.0              0.0   \n",
       "27937               0.0             0.0               0.0              0.0   \n",
       "27938               0.0             0.0               0.0              0.0   \n",
       "\n",
       "      comorbidity_alcohol comorbidity_drug comorbidity_depre  \n",
       "0                     1.0              0.0               0.0  \n",
       "1                     0.0              0.0               0.0  \n",
       "2                     1.0              0.0               0.0  \n",
       "3                     0.0              0.0               0.0  \n",
       "4                     0.0              0.0               0.0  \n",
       "...                   ...              ...               ...  \n",
       "27934                 0.0              0.0               0.0  \n",
       "27935                 0.0              0.0               0.0  \n",
       "27936                 0.0              0.0               0.0  \n",
       "27937                 0.0              0.0               0.0  \n",
       "27938                 0.0              0.0               0.0  \n",
       "\n",
       "[27939 rows x 291 columns]"
      ],
      "text/html": "<div>\n<style scoped>\n    .dataframe tbody tr th:only-of-type {\n        vertical-align: middle;\n    }\n\n    .dataframe tbody tr th {\n        vertical-align: top;\n    }\n\n    .dataframe thead th {\n        text-align: right;\n    }\n</style>\n<table border=\"1\" class=\"dataframe\">\n  <thead>\n    <tr style=\"text-align: right;\">\n      <th></th>\n      <th>PatientStayID</th>\n      <th>Class</th>\n      <th>Age</th>\n      <th>APACHEIVscore</th>\n      <th>APACHEIVaScore</th>\n      <th>Coma</th>\n      <th>Metabolic</th>\n      <th>UrgentAdmission</th>\n      <th>AdmissionCategory</th>\n      <th>Infection</th>\n      <th>...</th>\n      <th>comorbidity_rheumd</th>\n      <th>comorbidity_coag</th>\n      <th>comorbidity_obes</th>\n      <th>comorbidity_wloss</th>\n      <th>comorbidity_fed</th>\n      <th>comorbidity_blane</th>\n      <th>comorbidity_dane</th>\n      <th>comorbidity_alcohol</th>\n      <th>comorbidity_drug</th>\n      <th>comorbidity_depre</th>\n    </tr>\n  </thead>\n  <tbody>\n    <tr>\n      <th>0</th>\n      <td>149321</td>\n      <td>1</td>\n      <td>34.0</td>\n      <td>32.0</td>\n      <td>32.0</td>\n      <td>0.0</td>\n      <td>0</td>\n      <td>0.0</td>\n      <td>4.0</td>\n      <td>False</td>\n      <td>...</td>\n      <td>0.0</td>\n      <td>0.0</td>\n      <td>0.0</td>\n      <td>0.0</td>\n      <td>0.0</td>\n      <td>0.0</td>\n      <td>0.0</td>\n      <td>1.0</td>\n      <td>0.0</td>\n      <td>0.0</td>\n    </tr>\n    <tr>\n      <th>1</th>\n      <td>150934</td>\n      <td>1</td>\n      <td>69.0</td>\n      <td>78.0</td>\n      <td>78.0</td>\n      <td>0.0</td>\n      <td>0</td>\n      <td>0.0</td>\n      <td>4.0</td>\n      <td>False</td>\n      <td>...</td>\n      <td>0.0</td>\n      <td>0.0</td>\n      <td>0.0</td>\n      <td>0.0</td>\n      <td>0.0</td>\n      <td>0.0</td>\n      <td>0.0</td>\n      <td>0.0</td>\n      <td>0.0</td>\n      <td>0.0</td>\n    </tr>\n    <tr>\n      <th>2</th>\n      <td>151213</td>\n      <td>1</td>\n      <td>61.0</td>\n      <td>101.0</td>\n      <td>101.0</td>\n      <td>0.0</td>\n      <td>0</td>\n      <td>0.0</td>\n      <td>2.0</td>\n      <td>False</td>\n      <td>...</td>\n      <td>0.0</td>\n      <td>1.0</td>\n      <td>0.0</td>\n      <td>0.0</td>\n      <td>0.0</td>\n      <td>0.0</td>\n      <td>0.0</td>\n      <td>1.0</td>\n      <td>0.0</td>\n      <td>0.0</td>\n    </tr>\n    <tr>\n      <th>3</th>\n      <td>151708</td>\n      <td>1</td>\n      <td>79.0</td>\n      <td>38.0</td>\n      <td>38.0</td>\n      <td>0.0</td>\n      <td>0</td>\n      <td>0.0</td>\n      <td>4.0</td>\n      <td>False</td>\n      <td>...</td>\n      <td>0.0</td>\n      <td>0.0</td>\n      <td>0.0</td>\n      <td>0.0</td>\n      <td>0.0</td>\n      <td>0.0</td>\n      <td>0.0</td>\n      <td>0.0</td>\n      <td>0.0</td>\n      <td>0.0</td>\n    </tr>\n    <tr>\n      <th>4</th>\n      <td>152171</td>\n      <td>1</td>\n      <td>84.0</td>\n      <td>38.0</td>\n      <td>38.0</td>\n      <td>0.0</td>\n      <td>0</td>\n      <td>1.0</td>\n      <td>4.0</td>\n      <td>False</td>\n      <td>...</td>\n      <td>0.0</td>\n      <td>0.0</td>\n      <td>0.0</td>\n      <td>0.0</td>\n      <td>0.0</td>\n      <td>0.0</td>\n      <td>0.0</td>\n      <td>0.0</td>\n      <td>0.0</td>\n      <td>0.0</td>\n    </tr>\n    <tr>\n      <th>...</th>\n      <td>...</td>\n      <td>...</td>\n      <td>...</td>\n      <td>...</td>\n      <td>...</td>\n      <td>...</td>\n      <td>...</td>\n      <td>...</td>\n      <td>...</td>\n      <td>...</td>\n      <td>...</td>\n      <td>...</td>\n      <td>...</td>\n      <td>...</td>\n      <td>...</td>\n      <td>...</td>\n      <td>...</td>\n      <td>...</td>\n      <td>...</td>\n      <td>...</td>\n      <td>...</td>\n    </tr>\n    <tr>\n      <th>27934</th>\n      <td>3353038</td>\n      <td>0</td>\n      <td>27.0</td>\n      <td>39.0</td>\n      <td>39.0</td>\n      <td>0.0</td>\n      <td>0</td>\n      <td>0.0</td>\n      <td>2.0</td>\n      <td>False</td>\n      <td>...</td>\n      <td>0.0</td>\n      <td>0.0</td>\n      <td>0.0</td>\n      <td>0.0</td>\n      <td>0.0</td>\n      <td>0.0</td>\n      <td>0.0</td>\n      <td>0.0</td>\n      <td>0.0</td>\n      <td>0.0</td>\n    </tr>\n    <tr>\n      <th>27935</th>\n      <td>3353044</td>\n      <td>0</td>\n      <td>52.0</td>\n      <td>41.0</td>\n      <td>41.0</td>\n      <td>0.0</td>\n      <td>0</td>\n      <td>0.0</td>\n      <td>4.0</td>\n      <td>False</td>\n      <td>...</td>\n      <td>0.0</td>\n      <td>0.0</td>\n      <td>0.0</td>\n      <td>0.0</td>\n      <td>1.0</td>\n      <td>0.0</td>\n      <td>0.0</td>\n      <td>0.0</td>\n      <td>0.0</td>\n      <td>0.0</td>\n    </tr>\n    <tr>\n      <th>27936</th>\n      <td>3353077</td>\n      <td>0</td>\n      <td>60.0</td>\n      <td>36.0</td>\n      <td>36.0</td>\n      <td>0.0</td>\n      <td>0</td>\n      <td>0.0</td>\n      <td>4.0</td>\n      <td>True</td>\n      <td>...</td>\n      <td>0.0</td>\n      <td>0.0</td>\n      <td>0.0</td>\n      <td>0.0</td>\n      <td>0.0</td>\n      <td>0.0</td>\n      <td>0.0</td>\n      <td>0.0</td>\n      <td>0.0</td>\n      <td>0.0</td>\n    </tr>\n    <tr>\n      <th>27937</th>\n      <td>3353097</td>\n      <td>1</td>\n      <td>41.0</td>\n      <td>89.0</td>\n      <td>89.0</td>\n      <td>0.0</td>\n      <td>0</td>\n      <td>0.0</td>\n      <td>4.0</td>\n      <td>False</td>\n      <td>...</td>\n      <td>0.0</td>\n      <td>0.0</td>\n      <td>0.0</td>\n      <td>0.0</td>\n      <td>0.0</td>\n      <td>0.0</td>\n      <td>0.0</td>\n      <td>0.0</td>\n      <td>0.0</td>\n      <td>0.0</td>\n    </tr>\n    <tr>\n      <th>27938</th>\n      <td>3353197</td>\n      <td>1</td>\n      <td>66.0</td>\n      <td>NaN</td>\n      <td>NaN</td>\n      <td>0.0</td>\n      <td>0</td>\n      <td>1.0</td>\n      <td>1.0</td>\n      <td>False</td>\n      <td>...</td>\n      <td>0.0</td>\n      <td>0.0</td>\n      <td>0.0</td>\n      <td>0.0</td>\n      <td>0.0</td>\n      <td>0.0</td>\n      <td>0.0</td>\n      <td>0.0</td>\n      <td>0.0</td>\n      <td>0.0</td>\n    </tr>\n  </tbody>\n</table>\n<p>27939 rows × 291 columns</p>\n</div>"
     },
     "metadata": {},
     "execution_count": 30
    }
   ],
   "source": [
    "old_data = old_data.merge(comorbidity, how=\"left\", on=\"PatientStayID\")\n",
    "old_data"
   ]
  },
  {
   "cell_type": "code",
   "execution_count": 32,
   "metadata": {},
   "outputs": [
    {
     "output_type": "execute_result",
     "data": {
      "text/plain": [
       "       PatientStayID  First24hrComa  First24hrMinRASS  First24hrMeanRASS  \\\n",
       "0             149321            NaN               NaN                NaN   \n",
       "1             150934            NaN               NaN                NaN   \n",
       "2             151213            NaN               NaN                NaN   \n",
       "3             151708            NaN               NaN                NaN   \n",
       "4             152171            NaN               NaN                NaN   \n",
       "...              ...            ...               ...                ...   \n",
       "27934        3353038            NaN               NaN                NaN   \n",
       "27935        3353044            NaN               NaN                NaN   \n",
       "27936        3353077            NaN               NaN                NaN   \n",
       "27937        3353097            NaN               NaN                NaN   \n",
       "27938        3353197            NaN               NaN                NaN   \n",
       "\n",
       "       First24hrMaxRASS  \n",
       "0                   NaN  \n",
       "1                   NaN  \n",
       "2                   NaN  \n",
       "3                   NaN  \n",
       "4                   NaN  \n",
       "...                 ...  \n",
       "27934               NaN  \n",
       "27935               NaN  \n",
       "27936               NaN  \n",
       "27937               NaN  \n",
       "27938               NaN  \n",
       "\n",
       "[27939 rows x 5 columns]"
      ],
      "text/html": "<div>\n<style scoped>\n    .dataframe tbody tr th:only-of-type {\n        vertical-align: middle;\n    }\n\n    .dataframe tbody tr th {\n        vertical-align: top;\n    }\n\n    .dataframe thead th {\n        text-align: right;\n    }\n</style>\n<table border=\"1\" class=\"dataframe\">\n  <thead>\n    <tr style=\"text-align: right;\">\n      <th></th>\n      <th>PatientStayID</th>\n      <th>First24hrComa</th>\n      <th>First24hrMinRASS</th>\n      <th>First24hrMeanRASS</th>\n      <th>First24hrMaxRASS</th>\n    </tr>\n  </thead>\n  <tbody>\n    <tr>\n      <th>0</th>\n      <td>149321</td>\n      <td>NaN</td>\n      <td>NaN</td>\n      <td>NaN</td>\n      <td>NaN</td>\n    </tr>\n    <tr>\n      <th>1</th>\n      <td>150934</td>\n      <td>NaN</td>\n      <td>NaN</td>\n      <td>NaN</td>\n      <td>NaN</td>\n    </tr>\n    <tr>\n      <th>2</th>\n      <td>151213</td>\n      <td>NaN</td>\n      <td>NaN</td>\n      <td>NaN</td>\n      <td>NaN</td>\n    </tr>\n    <tr>\n      <th>3</th>\n      <td>151708</td>\n      <td>NaN</td>\n      <td>NaN</td>\n      <td>NaN</td>\n      <td>NaN</td>\n    </tr>\n    <tr>\n      <th>4</th>\n      <td>152171</td>\n      <td>NaN</td>\n      <td>NaN</td>\n      <td>NaN</td>\n      <td>NaN</td>\n    </tr>\n    <tr>\n      <th>...</th>\n      <td>...</td>\n      <td>...</td>\n      <td>...</td>\n      <td>...</td>\n      <td>...</td>\n    </tr>\n    <tr>\n      <th>27934</th>\n      <td>3353038</td>\n      <td>NaN</td>\n      <td>NaN</td>\n      <td>NaN</td>\n      <td>NaN</td>\n    </tr>\n    <tr>\n      <th>27935</th>\n      <td>3353044</td>\n      <td>NaN</td>\n      <td>NaN</td>\n      <td>NaN</td>\n      <td>NaN</td>\n    </tr>\n    <tr>\n      <th>27936</th>\n      <td>3353077</td>\n      <td>NaN</td>\n      <td>NaN</td>\n      <td>NaN</td>\n      <td>NaN</td>\n    </tr>\n    <tr>\n      <th>27937</th>\n      <td>3353097</td>\n      <td>NaN</td>\n      <td>NaN</td>\n      <td>NaN</td>\n      <td>NaN</td>\n    </tr>\n    <tr>\n      <th>27938</th>\n      <td>3353197</td>\n      <td>NaN</td>\n      <td>NaN</td>\n      <td>NaN</td>\n      <td>NaN</td>\n    </tr>\n  </tbody>\n</table>\n<p>27939 rows × 5 columns</p>\n</div>"
     },
     "metadata": {},
     "execution_count": 32
    }
   ],
   "source": [
    "# Check RASS\n",
    "rass = pd.read_csv(\"../csv/early_24hr_data/early_24hr_rass_and_coma_feature.csv\")\n",
    "rass.rename(columns={\"patientunitstayid\": \"PatientStayID\"}, inplace=True)\n",
    "rass"
   ]
  },
  {
   "cell_type": "code",
   "execution_count": 33,
   "metadata": {},
   "outputs": [],
   "source": [
    "old_data = old_data.merge(rass, how=\"left\", on=\"PatientStayID\")"
   ]
  },
  {
   "cell_type": "code",
   "execution_count": 34,
   "metadata": {},
   "outputs": [
    {
     "output_type": "execute_result",
     "data": {
      "text/plain": [
       "       PatientStayID  Class   Age  APACHEIVscore  APACHEIVaScore  Coma  \\\n",
       "0             149321      1  34.0           32.0            32.0   0.0   \n",
       "1             150934      1  69.0           78.0            78.0   0.0   \n",
       "2             151213      1  61.0          101.0           101.0   0.0   \n",
       "3             151708      1  79.0           38.0            38.0   0.0   \n",
       "4             152171      1  84.0           38.0            38.0   0.0   \n",
       "...              ...    ...   ...            ...             ...   ...   \n",
       "27934        3353038      0  27.0           39.0            39.0   0.0   \n",
       "27935        3353044      0  52.0           41.0            41.0   0.0   \n",
       "27936        3353077      0  60.0           36.0            36.0   0.0   \n",
       "27937        3353097      1  41.0           89.0            89.0   0.0   \n",
       "27938        3353197      1  66.0            NaN             NaN   0.0   \n",
       "\n",
       "       Metabolic  UrgentAdmission  AdmissionCategory  Infection  ...  \\\n",
       "0              0              0.0                4.0      False  ...   \n",
       "1              0              0.0                4.0      False  ...   \n",
       "2              0              0.0                2.0      False  ...   \n",
       "3              0              0.0                4.0      False  ...   \n",
       "4              0              1.0                4.0      False  ...   \n",
       "...          ...              ...                ...        ...  ...   \n",
       "27934          0              0.0                2.0      False  ...   \n",
       "27935          0              0.0                4.0      False  ...   \n",
       "27936          0              0.0                4.0       True  ...   \n",
       "27937          0              0.0                4.0      False  ...   \n",
       "27938          0              1.0                1.0      False  ...   \n",
       "\n",
       "       comorbidity_fed  comorbidity_blane comorbidity_dane  \\\n",
       "0                  0.0                0.0              0.0   \n",
       "1                  0.0                0.0              0.0   \n",
       "2                  0.0                0.0              0.0   \n",
       "3                  0.0                0.0              0.0   \n",
       "4                  0.0                0.0              0.0   \n",
       "...                ...                ...              ...   \n",
       "27934              0.0                0.0              0.0   \n",
       "27935              1.0                0.0              0.0   \n",
       "27936              0.0                0.0              0.0   \n",
       "27937              0.0                0.0              0.0   \n",
       "27938              0.0                0.0              0.0   \n",
       "\n",
       "      comorbidity_alcohol comorbidity_drug comorbidity_depre First24hrComa  \\\n",
       "0                     1.0              0.0               0.0           NaN   \n",
       "1                     0.0              0.0               0.0           NaN   \n",
       "2                     1.0              0.0               0.0           NaN   \n",
       "3                     0.0              0.0               0.0           NaN   \n",
       "4                     0.0              0.0               0.0           NaN   \n",
       "...                   ...              ...               ...           ...   \n",
       "27934                 0.0              0.0               0.0           NaN   \n",
       "27935                 0.0              0.0               0.0           NaN   \n",
       "27936                 0.0              0.0               0.0           NaN   \n",
       "27937                 0.0              0.0               0.0           NaN   \n",
       "27938                 0.0              0.0               0.0           NaN   \n",
       "\n",
       "      First24hrMinRASS First24hrMeanRASS First24hrMaxRASS  \n",
       "0                  NaN               NaN              NaN  \n",
       "1                  NaN               NaN              NaN  \n",
       "2                  NaN               NaN              NaN  \n",
       "3                  NaN               NaN              NaN  \n",
       "4                  NaN               NaN              NaN  \n",
       "...                ...               ...              ...  \n",
       "27934              NaN               NaN              NaN  \n",
       "27935              NaN               NaN              NaN  \n",
       "27936              NaN               NaN              NaN  \n",
       "27937              NaN               NaN              NaN  \n",
       "27938              NaN               NaN              NaN  \n",
       "\n",
       "[27939 rows x 295 columns]"
      ],
      "text/html": "<div>\n<style scoped>\n    .dataframe tbody tr th:only-of-type {\n        vertical-align: middle;\n    }\n\n    .dataframe tbody tr th {\n        vertical-align: top;\n    }\n\n    .dataframe thead th {\n        text-align: right;\n    }\n</style>\n<table border=\"1\" class=\"dataframe\">\n  <thead>\n    <tr style=\"text-align: right;\">\n      <th></th>\n      <th>PatientStayID</th>\n      <th>Class</th>\n      <th>Age</th>\n      <th>APACHEIVscore</th>\n      <th>APACHEIVaScore</th>\n      <th>Coma</th>\n      <th>Metabolic</th>\n      <th>UrgentAdmission</th>\n      <th>AdmissionCategory</th>\n      <th>Infection</th>\n      <th>...</th>\n      <th>comorbidity_fed</th>\n      <th>comorbidity_blane</th>\n      <th>comorbidity_dane</th>\n      <th>comorbidity_alcohol</th>\n      <th>comorbidity_drug</th>\n      <th>comorbidity_depre</th>\n      <th>First24hrComa</th>\n      <th>First24hrMinRASS</th>\n      <th>First24hrMeanRASS</th>\n      <th>First24hrMaxRASS</th>\n    </tr>\n  </thead>\n  <tbody>\n    <tr>\n      <th>0</th>\n      <td>149321</td>\n      <td>1</td>\n      <td>34.0</td>\n      <td>32.0</td>\n      <td>32.0</td>\n      <td>0.0</td>\n      <td>0</td>\n      <td>0.0</td>\n      <td>4.0</td>\n      <td>False</td>\n      <td>...</td>\n      <td>0.0</td>\n      <td>0.0</td>\n      <td>0.0</td>\n      <td>1.0</td>\n      <td>0.0</td>\n      <td>0.0</td>\n      <td>NaN</td>\n      <td>NaN</td>\n      <td>NaN</td>\n      <td>NaN</td>\n    </tr>\n    <tr>\n      <th>1</th>\n      <td>150934</td>\n      <td>1</td>\n      <td>69.0</td>\n      <td>78.0</td>\n      <td>78.0</td>\n      <td>0.0</td>\n      <td>0</td>\n      <td>0.0</td>\n      <td>4.0</td>\n      <td>False</td>\n      <td>...</td>\n      <td>0.0</td>\n      <td>0.0</td>\n      <td>0.0</td>\n      <td>0.0</td>\n      <td>0.0</td>\n      <td>0.0</td>\n      <td>NaN</td>\n      <td>NaN</td>\n      <td>NaN</td>\n      <td>NaN</td>\n    </tr>\n    <tr>\n      <th>2</th>\n      <td>151213</td>\n      <td>1</td>\n      <td>61.0</td>\n      <td>101.0</td>\n      <td>101.0</td>\n      <td>0.0</td>\n      <td>0</td>\n      <td>0.0</td>\n      <td>2.0</td>\n      <td>False</td>\n      <td>...</td>\n      <td>0.0</td>\n      <td>0.0</td>\n      <td>0.0</td>\n      <td>1.0</td>\n      <td>0.0</td>\n      <td>0.0</td>\n      <td>NaN</td>\n      <td>NaN</td>\n      <td>NaN</td>\n      <td>NaN</td>\n    </tr>\n    <tr>\n      <th>3</th>\n      <td>151708</td>\n      <td>1</td>\n      <td>79.0</td>\n      <td>38.0</td>\n      <td>38.0</td>\n      <td>0.0</td>\n      <td>0</td>\n      <td>0.0</td>\n      <td>4.0</td>\n      <td>False</td>\n      <td>...</td>\n      <td>0.0</td>\n      <td>0.0</td>\n      <td>0.0</td>\n      <td>0.0</td>\n      <td>0.0</td>\n      <td>0.0</td>\n      <td>NaN</td>\n      <td>NaN</td>\n      <td>NaN</td>\n      <td>NaN</td>\n    </tr>\n    <tr>\n      <th>4</th>\n      <td>152171</td>\n      <td>1</td>\n      <td>84.0</td>\n      <td>38.0</td>\n      <td>38.0</td>\n      <td>0.0</td>\n      <td>0</td>\n      <td>1.0</td>\n      <td>4.0</td>\n      <td>False</td>\n      <td>...</td>\n      <td>0.0</td>\n      <td>0.0</td>\n      <td>0.0</td>\n      <td>0.0</td>\n      <td>0.0</td>\n      <td>0.0</td>\n      <td>NaN</td>\n      <td>NaN</td>\n      <td>NaN</td>\n      <td>NaN</td>\n    </tr>\n    <tr>\n      <th>...</th>\n      <td>...</td>\n      <td>...</td>\n      <td>...</td>\n      <td>...</td>\n      <td>...</td>\n      <td>...</td>\n      <td>...</td>\n      <td>...</td>\n      <td>...</td>\n      <td>...</td>\n      <td>...</td>\n      <td>...</td>\n      <td>...</td>\n      <td>...</td>\n      <td>...</td>\n      <td>...</td>\n      <td>...</td>\n      <td>...</td>\n      <td>...</td>\n      <td>...</td>\n      <td>...</td>\n    </tr>\n    <tr>\n      <th>27934</th>\n      <td>3353038</td>\n      <td>0</td>\n      <td>27.0</td>\n      <td>39.0</td>\n      <td>39.0</td>\n      <td>0.0</td>\n      <td>0</td>\n      <td>0.0</td>\n      <td>2.0</td>\n      <td>False</td>\n      <td>...</td>\n      <td>0.0</td>\n      <td>0.0</td>\n      <td>0.0</td>\n      <td>0.0</td>\n      <td>0.0</td>\n      <td>0.0</td>\n      <td>NaN</td>\n      <td>NaN</td>\n      <td>NaN</td>\n      <td>NaN</td>\n    </tr>\n    <tr>\n      <th>27935</th>\n      <td>3353044</td>\n      <td>0</td>\n      <td>52.0</td>\n      <td>41.0</td>\n      <td>41.0</td>\n      <td>0.0</td>\n      <td>0</td>\n      <td>0.0</td>\n      <td>4.0</td>\n      <td>False</td>\n      <td>...</td>\n      <td>1.0</td>\n      <td>0.0</td>\n      <td>0.0</td>\n      <td>0.0</td>\n      <td>0.0</td>\n      <td>0.0</td>\n      <td>NaN</td>\n      <td>NaN</td>\n      <td>NaN</td>\n      <td>NaN</td>\n    </tr>\n    <tr>\n      <th>27936</th>\n      <td>3353077</td>\n      <td>0</td>\n      <td>60.0</td>\n      <td>36.0</td>\n      <td>36.0</td>\n      <td>0.0</td>\n      <td>0</td>\n      <td>0.0</td>\n      <td>4.0</td>\n      <td>True</td>\n      <td>...</td>\n      <td>0.0</td>\n      <td>0.0</td>\n      <td>0.0</td>\n      <td>0.0</td>\n      <td>0.0</td>\n      <td>0.0</td>\n      <td>NaN</td>\n      <td>NaN</td>\n      <td>NaN</td>\n      <td>NaN</td>\n    </tr>\n    <tr>\n      <th>27937</th>\n      <td>3353097</td>\n      <td>1</td>\n      <td>41.0</td>\n      <td>89.0</td>\n      <td>89.0</td>\n      <td>0.0</td>\n      <td>0</td>\n      <td>0.0</td>\n      <td>4.0</td>\n      <td>False</td>\n      <td>...</td>\n      <td>0.0</td>\n      <td>0.0</td>\n      <td>0.0</td>\n      <td>0.0</td>\n      <td>0.0</td>\n      <td>0.0</td>\n      <td>NaN</td>\n      <td>NaN</td>\n      <td>NaN</td>\n      <td>NaN</td>\n    </tr>\n    <tr>\n      <th>27938</th>\n      <td>3353197</td>\n      <td>1</td>\n      <td>66.0</td>\n      <td>NaN</td>\n      <td>NaN</td>\n      <td>0.0</td>\n      <td>0</td>\n      <td>1.0</td>\n      <td>1.0</td>\n      <td>False</td>\n      <td>...</td>\n      <td>0.0</td>\n      <td>0.0</td>\n      <td>0.0</td>\n      <td>0.0</td>\n      <td>0.0</td>\n      <td>0.0</td>\n      <td>NaN</td>\n      <td>NaN</td>\n      <td>NaN</td>\n      <td>NaN</td>\n    </tr>\n  </tbody>\n</table>\n<p>27939 rows × 295 columns</p>\n</div>"
     },
     "metadata": {},
     "execution_count": 34
    }
   ],
   "source": [
    "old_data"
   ]
  },
  {
   "cell_type": "code",
   "execution_count": 36,
   "metadata": {},
   "outputs": [],
   "source": [
    "old_data.to_csv(\"../csv/early_24hr_data/early_24hr_complete_features.csv\", index=False)"
   ]
  },
  {
   "cell_type": "code",
   "execution_count": 18,
   "metadata": {},
   "outputs": [
    {
     "output_type": "execute_result",
     "data": {
      "text/plain": "       PatientStayID  mean_bicarbonate_totalCO2_HCO3  \\\n0             149321                             NaN   \n1             150934                       22.666667   \n2             151213                       23.000000   \n3             151708                       27.000000   \n4             152171                       30.000000   \n...              ...                             ...   \n27934        3353038                       21.000000   \n27935        3353044                       23.000000   \n27936        3353077                       23.000000   \n27937        3353097                       32.666667   \n27938        3353197                       24.375000   \n\n       min_bicarbonate_totalCO2_HCO3  max_bicarbonate_totalCO2_HCO3  \n0                                NaN                            NaN  \n1                               22.0                           23.0  \n2                               23.0                           23.0  \n3                               27.0                           27.0  \n4                               30.0                           30.0  \n...                              ...                            ...  \n27934                           21.0                           21.0  \n27935                           23.0                           23.0  \n27936                           22.0                           24.0  \n27937                           31.0                           35.0  \n27938                           23.0                           26.0  \n\n[27939 rows x 4 columns]",
      "text/html": "<div>\n<style scoped>\n    .dataframe tbody tr th:only-of-type {\n        vertical-align: middle;\n    }\n\n    .dataframe tbody tr th {\n        vertical-align: top;\n    }\n\n    .dataframe thead th {\n        text-align: right;\n    }\n</style>\n<table border=\"1\" class=\"dataframe\">\n  <thead>\n    <tr style=\"text-align: right;\">\n      <th></th>\n      <th>PatientStayID</th>\n      <th>mean_bicarbonate_totalCO2_HCO3</th>\n      <th>min_bicarbonate_totalCO2_HCO3</th>\n      <th>max_bicarbonate_totalCO2_HCO3</th>\n    </tr>\n  </thead>\n  <tbody>\n    <tr>\n      <th>0</th>\n      <td>149321</td>\n      <td>NaN</td>\n      <td>NaN</td>\n      <td>NaN</td>\n    </tr>\n    <tr>\n      <th>1</th>\n      <td>150934</td>\n      <td>22.666667</td>\n      <td>22.0</td>\n      <td>23.0</td>\n    </tr>\n    <tr>\n      <th>2</th>\n      <td>151213</td>\n      <td>23.000000</td>\n      <td>23.0</td>\n      <td>23.0</td>\n    </tr>\n    <tr>\n      <th>3</th>\n      <td>151708</td>\n      <td>27.000000</td>\n      <td>27.0</td>\n      <td>27.0</td>\n    </tr>\n    <tr>\n      <th>4</th>\n      <td>152171</td>\n      <td>30.000000</td>\n      <td>30.0</td>\n      <td>30.0</td>\n    </tr>\n    <tr>\n      <th>...</th>\n      <td>...</td>\n      <td>...</td>\n      <td>...</td>\n      <td>...</td>\n    </tr>\n    <tr>\n      <th>27934</th>\n      <td>3353038</td>\n      <td>21.000000</td>\n      <td>21.0</td>\n      <td>21.0</td>\n    </tr>\n    <tr>\n      <th>27935</th>\n      <td>3353044</td>\n      <td>23.000000</td>\n      <td>23.0</td>\n      <td>23.0</td>\n    </tr>\n    <tr>\n      <th>27936</th>\n      <td>3353077</td>\n      <td>23.000000</td>\n      <td>22.0</td>\n      <td>24.0</td>\n    </tr>\n    <tr>\n      <th>27937</th>\n      <td>3353097</td>\n      <td>32.666667</td>\n      <td>31.0</td>\n      <td>35.0</td>\n    </tr>\n    <tr>\n      <th>27938</th>\n      <td>3353197</td>\n      <td>24.375000</td>\n      <td>23.0</td>\n      <td>26.0</td>\n    </tr>\n  </tbody>\n</table>\n<p>27939 rows × 4 columns</p>\n</div>"
     },
     "metadata": {},
     "execution_count": 18
    }
   ],
   "source": [
    "bicarb = pd.read_csv(\"../csv/bicarbonate_totalCO2_HCO3.csv\")\n",
    "bicarb"
   ]
  },
  {
   "cell_type": "code",
   "execution_count": 19,
   "metadata": {},
   "outputs": [
    {
     "output_type": "execute_result",
     "data": {
      "text/plain": "       PatientStayID  Class   Age  APACHEIVscore  APACHEIVaScore  Coma  \\\n0             151708      1  79.0           38.0            38.0   0.0   \n1             152171      1  84.0           38.0            38.0   0.0   \n2             155126      1  71.0           65.0            65.0   0.0   \n3             156970      1  56.0           32.0            32.0   0.0   \n4             165069      1  84.0           46.0            46.0   0.0   \n...              ...    ...   ...            ...             ...   ...   \n19889        3352964      0  85.0           75.0            75.0   0.0   \n19890        3353044      0  52.0           41.0            41.0   0.0   \n19891        3353077      0  60.0           36.0            36.0   0.0   \n19892        3353097      1  41.0           89.0            89.0   0.0   \n19893        3353197      1  66.0            NaN             NaN   0.0   \n\n       Metabolic  UrgentAdmission  AdmissionCategory  Infection  ...  \\\n0              0              1.0                4.0          0  ...   \n1              0              0.0                4.0          0  ...   \n2              1              0.0                4.0          0  ...   \n3              0              1.0                4.0          0  ...   \n4              0              1.0                2.0          0  ...   \n...          ...              ...                ...        ...  ...   \n19889          0              1.0                2.0          0  ...   \n19890          0              1.0                4.0          0  ...   \n19891          0              1.0                4.0          1  ...   \n19892          0              1.0                4.0          0  ...   \n19893          0              0.0                1.0          0  ...   \n\n       comorbidity_wloss  comorbidity_fed comorbidity_blane comorbidity_dane  \\\n0                    0.0              0.0               0.0              0.0   \n1                    0.0              0.0               0.0              0.0   \n2                    0.0              0.0               0.0              0.0   \n3                    0.0              0.0               0.0              0.0   \n4                    0.0              0.0               0.0              0.0   \n...                  ...              ...               ...              ...   \n19889                0.0              0.0               0.0              0.0   \n19890                0.0              1.0               0.0              0.0   \n19891                0.0              0.0               0.0              0.0   \n19892                0.0              0.0               0.0              0.0   \n19893                NaN              NaN               NaN              NaN   \n\n      comorbidity_alcohol comorbidity_drug comorbidity_depre  \\\n0                     0.0              0.0               0.0   \n1                     0.0              0.0               0.0   \n2                     0.0              0.0               0.0   \n3                     1.0              0.0               0.0   \n4                     0.0              0.0               0.0   \n...                   ...              ...               ...   \n19889                 0.0              0.0               0.0   \n19890                 0.0              0.0               0.0   \n19891                 0.0              0.0               0.0   \n19892                 0.0              0.0               0.0   \n19893                 NaN              NaN               NaN   \n\n      mean_bicarbonate_totalCO2_HCO3 min_bicarbonate_totalCO2_HCO3  \\\n0                          27.000000                          27.0   \n1                          30.000000                          30.0   \n2                          21.333333                          19.0   \n3                          22.000000                          22.0   \n4                          30.000000                          30.0   \n...                              ...                           ...   \n19889                      37.250000                          36.5   \n19890                      23.000000                          23.0   \n19891                      23.000000                          22.0   \n19892                      32.666667                          31.0   \n19893                      24.375000                          23.0   \n\n      max_bicarbonate_totalCO2_HCO3  \n0                              27.0  \n1                              30.0  \n2                              24.0  \n3                              22.0  \n4                              30.0  \n...                             ...  \n19889                          38.0  \n19890                          23.0  \n19891                          24.0  \n19892                          35.0  \n19893                          26.0  \n\n[19894 rows x 252 columns]",
      "text/html": "<div>\n<style scoped>\n    .dataframe tbody tr th:only-of-type {\n        vertical-align: middle;\n    }\n\n    .dataframe tbody tr th {\n        vertical-align: top;\n    }\n\n    .dataframe thead th {\n        text-align: right;\n    }\n</style>\n<table border=\"1\" class=\"dataframe\">\n  <thead>\n    <tr style=\"text-align: right;\">\n      <th></th>\n      <th>PatientStayID</th>\n      <th>Class</th>\n      <th>Age</th>\n      <th>APACHEIVscore</th>\n      <th>APACHEIVaScore</th>\n      <th>Coma</th>\n      <th>Metabolic</th>\n      <th>UrgentAdmission</th>\n      <th>AdmissionCategory</th>\n      <th>Infection</th>\n      <th>...</th>\n      <th>comorbidity_wloss</th>\n      <th>comorbidity_fed</th>\n      <th>comorbidity_blane</th>\n      <th>comorbidity_dane</th>\n      <th>comorbidity_alcohol</th>\n      <th>comorbidity_drug</th>\n      <th>comorbidity_depre</th>\n      <th>mean_bicarbonate_totalCO2_HCO3</th>\n      <th>min_bicarbonate_totalCO2_HCO3</th>\n      <th>max_bicarbonate_totalCO2_HCO3</th>\n    </tr>\n  </thead>\n  <tbody>\n    <tr>\n      <th>0</th>\n      <td>151708</td>\n      <td>1</td>\n      <td>79.0</td>\n      <td>38.0</td>\n      <td>38.0</td>\n      <td>0.0</td>\n      <td>0</td>\n      <td>1.0</td>\n      <td>4.0</td>\n      <td>0</td>\n      <td>...</td>\n      <td>0.0</td>\n      <td>0.0</td>\n      <td>0.0</td>\n      <td>0.0</td>\n      <td>0.0</td>\n      <td>0.0</td>\n      <td>0.0</td>\n      <td>27.000000</td>\n      <td>27.0</td>\n      <td>27.0</td>\n    </tr>\n    <tr>\n      <th>1</th>\n      <td>152171</td>\n      <td>1</td>\n      <td>84.0</td>\n      <td>38.0</td>\n      <td>38.0</td>\n      <td>0.0</td>\n      <td>0</td>\n      <td>0.0</td>\n      <td>4.0</td>\n      <td>0</td>\n      <td>...</td>\n      <td>0.0</td>\n      <td>0.0</td>\n      <td>0.0</td>\n      <td>0.0</td>\n      <td>0.0</td>\n      <td>0.0</td>\n      <td>0.0</td>\n      <td>30.000000</td>\n      <td>30.0</td>\n      <td>30.0</td>\n    </tr>\n    <tr>\n      <th>2</th>\n      <td>155126</td>\n      <td>1</td>\n      <td>71.0</td>\n      <td>65.0</td>\n      <td>65.0</td>\n      <td>0.0</td>\n      <td>1</td>\n      <td>0.0</td>\n      <td>4.0</td>\n      <td>0</td>\n      <td>...</td>\n      <td>0.0</td>\n      <td>0.0</td>\n      <td>0.0</td>\n      <td>0.0</td>\n      <td>0.0</td>\n      <td>0.0</td>\n      <td>0.0</td>\n      <td>21.333333</td>\n      <td>19.0</td>\n      <td>24.0</td>\n    </tr>\n    <tr>\n      <th>3</th>\n      <td>156970</td>\n      <td>1</td>\n      <td>56.0</td>\n      <td>32.0</td>\n      <td>32.0</td>\n      <td>0.0</td>\n      <td>0</td>\n      <td>1.0</td>\n      <td>4.0</td>\n      <td>0</td>\n      <td>...</td>\n      <td>0.0</td>\n      <td>0.0</td>\n      <td>0.0</td>\n      <td>0.0</td>\n      <td>1.0</td>\n      <td>0.0</td>\n      <td>0.0</td>\n      <td>22.000000</td>\n      <td>22.0</td>\n      <td>22.0</td>\n    </tr>\n    <tr>\n      <th>4</th>\n      <td>165069</td>\n      <td>1</td>\n      <td>84.0</td>\n      <td>46.0</td>\n      <td>46.0</td>\n      <td>0.0</td>\n      <td>0</td>\n      <td>1.0</td>\n      <td>2.0</td>\n      <td>0</td>\n      <td>...</td>\n      <td>0.0</td>\n      <td>0.0</td>\n      <td>0.0</td>\n      <td>0.0</td>\n      <td>0.0</td>\n      <td>0.0</td>\n      <td>0.0</td>\n      <td>30.000000</td>\n      <td>30.0</td>\n      <td>30.0</td>\n    </tr>\n    <tr>\n      <th>...</th>\n      <td>...</td>\n      <td>...</td>\n      <td>...</td>\n      <td>...</td>\n      <td>...</td>\n      <td>...</td>\n      <td>...</td>\n      <td>...</td>\n      <td>...</td>\n      <td>...</td>\n      <td>...</td>\n      <td>...</td>\n      <td>...</td>\n      <td>...</td>\n      <td>...</td>\n      <td>...</td>\n      <td>...</td>\n      <td>...</td>\n      <td>...</td>\n      <td>...</td>\n      <td>...</td>\n    </tr>\n    <tr>\n      <th>19889</th>\n      <td>3352964</td>\n      <td>0</td>\n      <td>85.0</td>\n      <td>75.0</td>\n      <td>75.0</td>\n      <td>0.0</td>\n      <td>0</td>\n      <td>1.0</td>\n      <td>2.0</td>\n      <td>0</td>\n      <td>...</td>\n      <td>0.0</td>\n      <td>0.0</td>\n      <td>0.0</td>\n      <td>0.0</td>\n      <td>0.0</td>\n      <td>0.0</td>\n      <td>0.0</td>\n      <td>37.250000</td>\n      <td>36.5</td>\n      <td>38.0</td>\n    </tr>\n    <tr>\n      <th>19890</th>\n      <td>3353044</td>\n      <td>0</td>\n      <td>52.0</td>\n      <td>41.0</td>\n      <td>41.0</td>\n      <td>0.0</td>\n      <td>0</td>\n      <td>1.0</td>\n      <td>4.0</td>\n      <td>0</td>\n      <td>...</td>\n      <td>0.0</td>\n      <td>1.0</td>\n      <td>0.0</td>\n      <td>0.0</td>\n      <td>0.0</td>\n      <td>0.0</td>\n      <td>0.0</td>\n      <td>23.000000</td>\n      <td>23.0</td>\n      <td>23.0</td>\n    </tr>\n    <tr>\n      <th>19891</th>\n      <td>3353077</td>\n      <td>0</td>\n      <td>60.0</td>\n      <td>36.0</td>\n      <td>36.0</td>\n      <td>0.0</td>\n      <td>0</td>\n      <td>1.0</td>\n      <td>4.0</td>\n      <td>1</td>\n      <td>...</td>\n      <td>0.0</td>\n      <td>0.0</td>\n      <td>0.0</td>\n      <td>0.0</td>\n      <td>0.0</td>\n      <td>0.0</td>\n      <td>0.0</td>\n      <td>23.000000</td>\n      <td>22.0</td>\n      <td>24.0</td>\n    </tr>\n    <tr>\n      <th>19892</th>\n      <td>3353097</td>\n      <td>1</td>\n      <td>41.0</td>\n      <td>89.0</td>\n      <td>89.0</td>\n      <td>0.0</td>\n      <td>0</td>\n      <td>1.0</td>\n      <td>4.0</td>\n      <td>0</td>\n      <td>...</td>\n      <td>0.0</td>\n      <td>0.0</td>\n      <td>0.0</td>\n      <td>0.0</td>\n      <td>0.0</td>\n      <td>0.0</td>\n      <td>0.0</td>\n      <td>32.666667</td>\n      <td>31.0</td>\n      <td>35.0</td>\n    </tr>\n    <tr>\n      <th>19893</th>\n      <td>3353197</td>\n      <td>1</td>\n      <td>66.0</td>\n      <td>NaN</td>\n      <td>NaN</td>\n      <td>0.0</td>\n      <td>0</td>\n      <td>0.0</td>\n      <td>1.0</td>\n      <td>0</td>\n      <td>...</td>\n      <td>NaN</td>\n      <td>NaN</td>\n      <td>NaN</td>\n      <td>NaN</td>\n      <td>NaN</td>\n      <td>NaN</td>\n      <td>NaN</td>\n      <td>24.375000</td>\n      <td>23.0</td>\n      <td>26.0</td>\n    </tr>\n  </tbody>\n</table>\n<p>19894 rows × 252 columns</p>\n</div>"
     },
     "metadata": {},
     "execution_count": 19
    }
   ],
   "source": [
    "data = data.merge(comorbidity, how=\"left\", on=\"PatientStayID\")\n",
    "data = data.merge(bicarb, how=\"left\", on=\"PatientStayID\")\n",
    "data"
   ]
  },
  {
   "cell_type": "code",
   "execution_count": 20,
   "metadata": {},
   "outputs": [],
   "source": [
    "data.to_csv(\"../csv/early_24hr_data/complete_featurespace.csv\", index=False)"
   ]
  },
  {
   "cell_type": "code",
   "execution_count": 7,
   "metadata": {},
   "outputs": [
    {
     "output_type": "execute_result",
     "data": {
      "text/plain": [
       "       PatientStayID  Class   Age  APACHEIVscore  APACHEIVaScore  Coma  \\\n",
       "0             151708      1  79.0           38.0            38.0   0.0   \n",
       "1             152171      1  84.0           38.0            38.0   0.0   \n",
       "2             155126      1  71.0           65.0            65.0   0.0   \n",
       "3             156970      1  56.0           32.0            32.0   0.0   \n",
       "4             165069      1  84.0           46.0            46.0   0.0   \n",
       "...              ...    ...   ...            ...             ...   ...   \n",
       "19889        3352964      0  85.0           75.0            75.0   0.0   \n",
       "19890        3353044      0  52.0           41.0            41.0   0.0   \n",
       "19891        3353077      0  60.0           36.0            36.0   0.0   \n",
       "19892        3353097      1  41.0           89.0            89.0   0.0   \n",
       "19893        3353197      1  66.0            NaN             NaN   0.0   \n",
       "\n",
       "       Metabolic  UrgentAdmission  AdmissionCategory  Infection  ...  \\\n",
       "0              0              1.0                4.0          0  ...   \n",
       "1              0              0.0                4.0          0  ...   \n",
       "2              1              0.0                4.0          0  ...   \n",
       "3              0              1.0                4.0          0  ...   \n",
       "4              0              1.0                2.0          0  ...   \n",
       "...          ...              ...                ...        ...  ...   \n",
       "19889          0              1.0                2.0          0  ...   \n",
       "19890          0              1.0                4.0          0  ...   \n",
       "19891          0              1.0                4.0          1  ...   \n",
       "19892          0              1.0                4.0          0  ...   \n",
       "19893          0              0.0                1.0          0  ...   \n",
       "\n",
       "       comorbidity_wloss  comorbidity_fed comorbidity_blane comorbidity_dane  \\\n",
       "0                    0.0              0.0               0.0              0.0   \n",
       "1                    0.0              0.0               0.0              0.0   \n",
       "2                    0.0              0.0               0.0              0.0   \n",
       "3                    0.0              0.0               0.0              0.0   \n",
       "4                    0.0              0.0               0.0              0.0   \n",
       "...                  ...              ...               ...              ...   \n",
       "19889                0.0              0.0               0.0              0.0   \n",
       "19890                0.0              1.0               0.0              0.0   \n",
       "19891                0.0              0.0               0.0              0.0   \n",
       "19892                0.0              0.0               0.0              0.0   \n",
       "19893                NaN              NaN               NaN              NaN   \n",
       "\n",
       "       comorbidity_alcohol comorbidity_drug comorbidity_depre  \\\n",
       "0                      0.0              0.0               0.0   \n",
       "1                      0.0              0.0               0.0   \n",
       "2                      0.0              0.0               0.0   \n",
       "3                      1.0              0.0               0.0   \n",
       "4                      0.0              0.0               0.0   \n",
       "...                    ...              ...               ...   \n",
       "19889                  0.0              0.0               0.0   \n",
       "19890                  0.0              0.0               0.0   \n",
       "19891                  0.0              0.0               0.0   \n",
       "19892                  0.0              0.0               0.0   \n",
       "19893                  NaN              NaN               NaN   \n",
       "\n",
       "      mean_bicarbonate_totalCO2_HCO3 min_bicarbonate_totalCO2_HCO3  \\\n",
       "0                          27.000000                          27.0   \n",
       "1                          30.000000                          30.0   \n",
       "2                          21.333333                          19.0   \n",
       "3                          22.000000                          22.0   \n",
       "4                          30.000000                          30.0   \n",
       "...                              ...                           ...   \n",
       "19889                      37.250000                          36.5   \n",
       "19890                      23.000000                          23.0   \n",
       "19891                      23.000000                          22.0   \n",
       "19892                      32.666667                          31.0   \n",
       "19893                      24.375000                          23.0   \n",
       "\n",
       "      max_bicarbonate_totalCO2_HCO3  \n",
       "0                              27.0  \n",
       "1                              30.0  \n",
       "2                              24.0  \n",
       "3                              22.0  \n",
       "4                              30.0  \n",
       "...                             ...  \n",
       "19889                          38.0  \n",
       "19890                          23.0  \n",
       "19891                          24.0  \n",
       "19892                          35.0  \n",
       "19893                          26.0  \n",
       "\n",
       "[19894 rows x 252 columns]"
      ],
      "text/html": "<div>\n<style scoped>\n    .dataframe tbody tr th:only-of-type {\n        vertical-align: middle;\n    }\n\n    .dataframe tbody tr th {\n        vertical-align: top;\n    }\n\n    .dataframe thead th {\n        text-align: right;\n    }\n</style>\n<table border=\"1\" class=\"dataframe\">\n  <thead>\n    <tr style=\"text-align: right;\">\n      <th></th>\n      <th>PatientStayID</th>\n      <th>Class</th>\n      <th>Age</th>\n      <th>APACHEIVscore</th>\n      <th>APACHEIVaScore</th>\n      <th>Coma</th>\n      <th>Metabolic</th>\n      <th>UrgentAdmission</th>\n      <th>AdmissionCategory</th>\n      <th>Infection</th>\n      <th>...</th>\n      <th>comorbidity_wloss</th>\n      <th>comorbidity_fed</th>\n      <th>comorbidity_blane</th>\n      <th>comorbidity_dane</th>\n      <th>comorbidity_alcohol</th>\n      <th>comorbidity_drug</th>\n      <th>comorbidity_depre</th>\n      <th>mean_bicarbonate_totalCO2_HCO3</th>\n      <th>min_bicarbonate_totalCO2_HCO3</th>\n      <th>max_bicarbonate_totalCO2_HCO3</th>\n    </tr>\n  </thead>\n  <tbody>\n    <tr>\n      <th>0</th>\n      <td>151708</td>\n      <td>1</td>\n      <td>79.0</td>\n      <td>38.0</td>\n      <td>38.0</td>\n      <td>0.0</td>\n      <td>0</td>\n      <td>1.0</td>\n      <td>4.0</td>\n      <td>0</td>\n      <td>...</td>\n      <td>0.0</td>\n      <td>0.0</td>\n      <td>0.0</td>\n      <td>0.0</td>\n      <td>0.0</td>\n      <td>0.0</td>\n      <td>0.0</td>\n      <td>27.000000</td>\n      <td>27.0</td>\n      <td>27.0</td>\n    </tr>\n    <tr>\n      <th>1</th>\n      <td>152171</td>\n      <td>1</td>\n      <td>84.0</td>\n      <td>38.0</td>\n      <td>38.0</td>\n      <td>0.0</td>\n      <td>0</td>\n      <td>0.0</td>\n      <td>4.0</td>\n      <td>0</td>\n      <td>...</td>\n      <td>0.0</td>\n      <td>0.0</td>\n      <td>0.0</td>\n      <td>0.0</td>\n      <td>0.0</td>\n      <td>0.0</td>\n      <td>0.0</td>\n      <td>30.000000</td>\n      <td>30.0</td>\n      <td>30.0</td>\n    </tr>\n    <tr>\n      <th>2</th>\n      <td>155126</td>\n      <td>1</td>\n      <td>71.0</td>\n      <td>65.0</td>\n      <td>65.0</td>\n      <td>0.0</td>\n      <td>1</td>\n      <td>0.0</td>\n      <td>4.0</td>\n      <td>0</td>\n      <td>...</td>\n      <td>0.0</td>\n      <td>0.0</td>\n      <td>0.0</td>\n      <td>0.0</td>\n      <td>0.0</td>\n      <td>0.0</td>\n      <td>0.0</td>\n      <td>21.333333</td>\n      <td>19.0</td>\n      <td>24.0</td>\n    </tr>\n    <tr>\n      <th>3</th>\n      <td>156970</td>\n      <td>1</td>\n      <td>56.0</td>\n      <td>32.0</td>\n      <td>32.0</td>\n      <td>0.0</td>\n      <td>0</td>\n      <td>1.0</td>\n      <td>4.0</td>\n      <td>0</td>\n      <td>...</td>\n      <td>0.0</td>\n      <td>0.0</td>\n      <td>0.0</td>\n      <td>0.0</td>\n      <td>1.0</td>\n      <td>0.0</td>\n      <td>0.0</td>\n      <td>22.000000</td>\n      <td>22.0</td>\n      <td>22.0</td>\n    </tr>\n    <tr>\n      <th>4</th>\n      <td>165069</td>\n      <td>1</td>\n      <td>84.0</td>\n      <td>46.0</td>\n      <td>46.0</td>\n      <td>0.0</td>\n      <td>0</td>\n      <td>1.0</td>\n      <td>2.0</td>\n      <td>0</td>\n      <td>...</td>\n      <td>0.0</td>\n      <td>0.0</td>\n      <td>0.0</td>\n      <td>0.0</td>\n      <td>0.0</td>\n      <td>0.0</td>\n      <td>0.0</td>\n      <td>30.000000</td>\n      <td>30.0</td>\n      <td>30.0</td>\n    </tr>\n    <tr>\n      <th>...</th>\n      <td>...</td>\n      <td>...</td>\n      <td>...</td>\n      <td>...</td>\n      <td>...</td>\n      <td>...</td>\n      <td>...</td>\n      <td>...</td>\n      <td>...</td>\n      <td>...</td>\n      <td>...</td>\n      <td>...</td>\n      <td>...</td>\n      <td>...</td>\n      <td>...</td>\n      <td>...</td>\n      <td>...</td>\n      <td>...</td>\n      <td>...</td>\n      <td>...</td>\n      <td>...</td>\n    </tr>\n    <tr>\n      <th>19889</th>\n      <td>3352964</td>\n      <td>0</td>\n      <td>85.0</td>\n      <td>75.0</td>\n      <td>75.0</td>\n      <td>0.0</td>\n      <td>0</td>\n      <td>1.0</td>\n      <td>2.0</td>\n      <td>0</td>\n      <td>...</td>\n      <td>0.0</td>\n      <td>0.0</td>\n      <td>0.0</td>\n      <td>0.0</td>\n      <td>0.0</td>\n      <td>0.0</td>\n      <td>0.0</td>\n      <td>37.250000</td>\n      <td>36.5</td>\n      <td>38.0</td>\n    </tr>\n    <tr>\n      <th>19890</th>\n      <td>3353044</td>\n      <td>0</td>\n      <td>52.0</td>\n      <td>41.0</td>\n      <td>41.0</td>\n      <td>0.0</td>\n      <td>0</td>\n      <td>1.0</td>\n      <td>4.0</td>\n      <td>0</td>\n      <td>...</td>\n      <td>0.0</td>\n      <td>1.0</td>\n      <td>0.0</td>\n      <td>0.0</td>\n      <td>0.0</td>\n      <td>0.0</td>\n      <td>0.0</td>\n      <td>23.000000</td>\n      <td>23.0</td>\n      <td>23.0</td>\n    </tr>\n    <tr>\n      <th>19891</th>\n      <td>3353077</td>\n      <td>0</td>\n      <td>60.0</td>\n      <td>36.0</td>\n      <td>36.0</td>\n      <td>0.0</td>\n      <td>0</td>\n      <td>1.0</td>\n      <td>4.0</td>\n      <td>1</td>\n      <td>...</td>\n      <td>0.0</td>\n      <td>0.0</td>\n      <td>0.0</td>\n      <td>0.0</td>\n      <td>0.0</td>\n      <td>0.0</td>\n      <td>0.0</td>\n      <td>23.000000</td>\n      <td>22.0</td>\n      <td>24.0</td>\n    </tr>\n    <tr>\n      <th>19892</th>\n      <td>3353097</td>\n      <td>1</td>\n      <td>41.0</td>\n      <td>89.0</td>\n      <td>89.0</td>\n      <td>0.0</td>\n      <td>0</td>\n      <td>1.0</td>\n      <td>4.0</td>\n      <td>0</td>\n      <td>...</td>\n      <td>0.0</td>\n      <td>0.0</td>\n      <td>0.0</td>\n      <td>0.0</td>\n      <td>0.0</td>\n      <td>0.0</td>\n      <td>0.0</td>\n      <td>32.666667</td>\n      <td>31.0</td>\n      <td>35.0</td>\n    </tr>\n    <tr>\n      <th>19893</th>\n      <td>3353197</td>\n      <td>1</td>\n      <td>66.0</td>\n      <td>NaN</td>\n      <td>NaN</td>\n      <td>0.0</td>\n      <td>0</td>\n      <td>0.0</td>\n      <td>1.0</td>\n      <td>0</td>\n      <td>...</td>\n      <td>NaN</td>\n      <td>NaN</td>\n      <td>NaN</td>\n      <td>NaN</td>\n      <td>NaN</td>\n      <td>NaN</td>\n      <td>NaN</td>\n      <td>24.375000</td>\n      <td>23.0</td>\n      <td>26.0</td>\n    </tr>\n  </tbody>\n</table>\n<p>19894 rows × 252 columns</p>\n</div>"
     },
     "metadata": {},
     "execution_count": 7
    }
   ],
   "source": [
    "data=pd.read_csv(\"../csv/early_24hr_data/complete_featurespace.csv\")\n",
    "data"
   ]
  },
  {
   "cell_type": "code",
   "execution_count": 8,
   "metadata": {},
   "outputs": [
    {
     "output_type": "execute_result",
     "data": {
      "text/plain": [
       "       PatientStayID\n",
       "0             242154\n",
       "1             242290\n",
       "2             242474\n",
       "3             242505\n",
       "4             242714\n",
       "...              ...\n",
       "18438        3352193\n",
       "18439        3352331\n",
       "18440        3352964\n",
       "18441        3353044\n",
       "18442        3353077\n",
       "\n",
       "[18443 rows x 1 columns]"
      ],
      "text/html": "<div>\n<style scoped>\n    .dataframe tbody tr th:only-of-type {\n        vertical-align: middle;\n    }\n\n    .dataframe tbody tr th {\n        vertical-align: top;\n    }\n\n    .dataframe thead th {\n        text-align: right;\n    }\n</style>\n<table border=\"1\" class=\"dataframe\">\n  <thead>\n    <tr style=\"text-align: right;\">\n      <th></th>\n      <th>PatientStayID</th>\n    </tr>\n  </thead>\n  <tbody>\n    <tr>\n      <th>0</th>\n      <td>242154</td>\n    </tr>\n    <tr>\n      <th>1</th>\n      <td>242290</td>\n    </tr>\n    <tr>\n      <th>2</th>\n      <td>242474</td>\n    </tr>\n    <tr>\n      <th>3</th>\n      <td>242505</td>\n    </tr>\n    <tr>\n      <th>4</th>\n      <td>242714</td>\n    </tr>\n    <tr>\n      <th>...</th>\n      <td>...</td>\n    </tr>\n    <tr>\n      <th>18438</th>\n      <td>3352193</td>\n    </tr>\n    <tr>\n      <th>18439</th>\n      <td>3352331</td>\n    </tr>\n    <tr>\n      <th>18440</th>\n      <td>3352964</td>\n    </tr>\n    <tr>\n      <th>18441</th>\n      <td>3353044</td>\n    </tr>\n    <tr>\n      <th>18442</th>\n      <td>3353077</td>\n    </tr>\n  </tbody>\n</table>\n<p>18443 rows × 1 columns</p>\n</div>"
     },
     "metadata": {},
     "execution_count": 8
    }
   ],
   "source": [
    "cam = pd.read_csv(\"../csv/early_24hr_data/early_24hr_patientstayid.csv\")\n",
    "cam.rename(columns={\"patientunitstayid\" : \"PatientStayID\"}, inplace=True)\n",
    "cam.drop(columns=[\"del_onset\", \"del_positive\", \"LOS\"], inplace=True)\n",
    "cam"
   ]
  },
  {
   "cell_type": "code",
   "execution_count": 9,
   "metadata": {},
   "outputs": [
    {
     "output_type": "execute_result",
     "data": {
      "text/plain": [
       "       PatientStayID  Class   Age  APACHEIVscore  APACHEIVaScore  Coma  \\\n",
       "0             242154      1  46.0           77.0            77.0   1.0   \n",
       "1             242290      0  75.0           77.0            77.0   0.0   \n",
       "2             242474      0  52.0           64.0            64.0   0.0   \n",
       "3             242505      1  90.0           78.0            78.0   0.0   \n",
       "4             242714      0  78.0           -1.0            -1.0   0.0   \n",
       "...              ...    ...   ...            ...             ...   ...   \n",
       "18344        3352193      0  19.0           -1.0            -1.0  -1.0   \n",
       "18345        3352331      0  75.0           48.0            48.0   0.0   \n",
       "18346        3352964      0  85.0           75.0            75.0   0.0   \n",
       "18347        3353044      0  52.0           41.0            41.0   0.0   \n",
       "18348        3353077      0  60.0           36.0            36.0   0.0   \n",
       "\n",
       "       Metabolic  UrgentAdmission  AdmissionCategory  Infection  ...  \\\n",
       "0              0              1.0                2.0          1  ...   \n",
       "1              0              1.0                2.0          1  ...   \n",
       "2              1              1.0                4.0          0  ...   \n",
       "3              0              1.0                2.0          1  ...   \n",
       "4              0              1.0                4.0          1  ...   \n",
       "...          ...              ...                ...        ...  ...   \n",
       "18344          1              1.0                3.0          1  ...   \n",
       "18345          0              1.0                4.0          0  ...   \n",
       "18346          0              1.0                2.0          0  ...   \n",
       "18347          0              1.0                4.0          0  ...   \n",
       "18348          0              1.0                4.0          1  ...   \n",
       "\n",
       "       comorbidity_wloss  comorbidity_fed comorbidity_blane comorbidity_dane  \\\n",
       "0                    0.0              0.0               0.0              0.0   \n",
       "1                    0.0              0.0               0.0              0.0   \n",
       "2                    0.0              1.0               0.0              0.0   \n",
       "3                    0.0              0.0               0.0              0.0   \n",
       "4                    0.0              0.0               0.0              0.0   \n",
       "...                  ...              ...               ...              ...   \n",
       "18344                0.0              0.0               0.0              0.0   \n",
       "18345                0.0              0.0               0.0              0.0   \n",
       "18346                0.0              0.0               0.0              0.0   \n",
       "18347                0.0              1.0               0.0              0.0   \n",
       "18348                0.0              0.0               0.0              0.0   \n",
       "\n",
       "       comorbidity_alcohol comorbidity_drug comorbidity_depre  \\\n",
       "0                      0.0              0.0               0.0   \n",
       "1                      0.0              0.0               0.0   \n",
       "2                      1.0              0.0               0.0   \n",
       "3                      0.0              0.0               0.0   \n",
       "4                      0.0              0.0               0.0   \n",
       "...                    ...              ...               ...   \n",
       "18344                  1.0              0.0               0.0   \n",
       "18345                  0.0              0.0               0.0   \n",
       "18346                  0.0              0.0               0.0   \n",
       "18347                  0.0              0.0               0.0   \n",
       "18348                  0.0              0.0               0.0   \n",
       "\n",
       "      mean_bicarbonate_totalCO2_HCO3 min_bicarbonate_totalCO2_HCO3  \\\n",
       "0                          29.333333                          26.0   \n",
       "1                          21.500000                          20.0   \n",
       "2                          25.000000                          25.0   \n",
       "3                          19.000000                          19.0   \n",
       "4                          28.000000                          28.0   \n",
       "...                              ...                           ...   \n",
       "18344                      21.350000                          19.7   \n",
       "18345                            NaN                           NaN   \n",
       "18346                      37.250000                          36.5   \n",
       "18347                      23.000000                          23.0   \n",
       "18348                      23.000000                          22.0   \n",
       "\n",
       "      max_bicarbonate_totalCO2_HCO3  \n",
       "0                              32.0  \n",
       "1                              23.0  \n",
       "2                              25.0  \n",
       "3                              19.0  \n",
       "4                              28.0  \n",
       "...                             ...  \n",
       "18344                          23.0  \n",
       "18345                           NaN  \n",
       "18346                          38.0  \n",
       "18347                          23.0  \n",
       "18348                          24.0  \n",
       "\n",
       "[18349 rows x 252 columns]"
      ],
      "text/html": "<div>\n<style scoped>\n    .dataframe tbody tr th:only-of-type {\n        vertical-align: middle;\n    }\n\n    .dataframe tbody tr th {\n        vertical-align: top;\n    }\n\n    .dataframe thead th {\n        text-align: right;\n    }\n</style>\n<table border=\"1\" class=\"dataframe\">\n  <thead>\n    <tr style=\"text-align: right;\">\n      <th></th>\n      <th>PatientStayID</th>\n      <th>Class</th>\n      <th>Age</th>\n      <th>APACHEIVscore</th>\n      <th>APACHEIVaScore</th>\n      <th>Coma</th>\n      <th>Metabolic</th>\n      <th>UrgentAdmission</th>\n      <th>AdmissionCategory</th>\n      <th>Infection</th>\n      <th>...</th>\n      <th>comorbidity_wloss</th>\n      <th>comorbidity_fed</th>\n      <th>comorbidity_blane</th>\n      <th>comorbidity_dane</th>\n      <th>comorbidity_alcohol</th>\n      <th>comorbidity_drug</th>\n      <th>comorbidity_depre</th>\n      <th>mean_bicarbonate_totalCO2_HCO3</th>\n      <th>min_bicarbonate_totalCO2_HCO3</th>\n      <th>max_bicarbonate_totalCO2_HCO3</th>\n    </tr>\n  </thead>\n  <tbody>\n    <tr>\n      <th>0</th>\n      <td>242154</td>\n      <td>1</td>\n      <td>46.0</td>\n      <td>77.0</td>\n      <td>77.0</td>\n      <td>1.0</td>\n      <td>0</td>\n      <td>1.0</td>\n      <td>2.0</td>\n      <td>1</td>\n      <td>...</td>\n      <td>0.0</td>\n      <td>0.0</td>\n      <td>0.0</td>\n      <td>0.0</td>\n      <td>0.0</td>\n      <td>0.0</td>\n      <td>0.0</td>\n      <td>29.333333</td>\n      <td>26.0</td>\n      <td>32.0</td>\n    </tr>\n    <tr>\n      <th>1</th>\n      <td>242290</td>\n      <td>0</td>\n      <td>75.0</td>\n      <td>77.0</td>\n      <td>77.0</td>\n      <td>0.0</td>\n      <td>0</td>\n      <td>1.0</td>\n      <td>2.0</td>\n      <td>1</td>\n      <td>...</td>\n      <td>0.0</td>\n      <td>0.0</td>\n      <td>0.0</td>\n      <td>0.0</td>\n      <td>0.0</td>\n      <td>0.0</td>\n      <td>0.0</td>\n      <td>21.500000</td>\n      <td>20.0</td>\n      <td>23.0</td>\n    </tr>\n    <tr>\n      <th>2</th>\n      <td>242474</td>\n      <td>0</td>\n      <td>52.0</td>\n      <td>64.0</td>\n      <td>64.0</td>\n      <td>0.0</td>\n      <td>1</td>\n      <td>1.0</td>\n      <td>4.0</td>\n      <td>0</td>\n      <td>...</td>\n      <td>0.0</td>\n      <td>1.0</td>\n      <td>0.0</td>\n      <td>0.0</td>\n      <td>1.0</td>\n      <td>0.0</td>\n      <td>0.0</td>\n      <td>25.000000</td>\n      <td>25.0</td>\n      <td>25.0</td>\n    </tr>\n    <tr>\n      <th>3</th>\n      <td>242505</td>\n      <td>1</td>\n      <td>90.0</td>\n      <td>78.0</td>\n      <td>78.0</td>\n      <td>0.0</td>\n      <td>0</td>\n      <td>1.0</td>\n      <td>2.0</td>\n      <td>1</td>\n      <td>...</td>\n      <td>0.0</td>\n      <td>0.0</td>\n      <td>0.0</td>\n      <td>0.0</td>\n      <td>0.0</td>\n      <td>0.0</td>\n      <td>0.0</td>\n      <td>19.000000</td>\n      <td>19.0</td>\n      <td>19.0</td>\n    </tr>\n    <tr>\n      <th>4</th>\n      <td>242714</td>\n      <td>0</td>\n      <td>78.0</td>\n      <td>-1.0</td>\n      <td>-1.0</td>\n      <td>0.0</td>\n      <td>0</td>\n      <td>1.0</td>\n      <td>4.0</td>\n      <td>1</td>\n      <td>...</td>\n      <td>0.0</td>\n      <td>0.0</td>\n      <td>0.0</td>\n      <td>0.0</td>\n      <td>0.0</td>\n      <td>0.0</td>\n      <td>0.0</td>\n      <td>28.000000</td>\n      <td>28.0</td>\n      <td>28.0</td>\n    </tr>\n    <tr>\n      <th>...</th>\n      <td>...</td>\n      <td>...</td>\n      <td>...</td>\n      <td>...</td>\n      <td>...</td>\n      <td>...</td>\n      <td>...</td>\n      <td>...</td>\n      <td>...</td>\n      <td>...</td>\n      <td>...</td>\n      <td>...</td>\n      <td>...</td>\n      <td>...</td>\n      <td>...</td>\n      <td>...</td>\n      <td>...</td>\n      <td>...</td>\n      <td>...</td>\n      <td>...</td>\n      <td>...</td>\n    </tr>\n    <tr>\n      <th>18344</th>\n      <td>3352193</td>\n      <td>0</td>\n      <td>19.0</td>\n      <td>-1.0</td>\n      <td>-1.0</td>\n      <td>-1.0</td>\n      <td>1</td>\n      <td>1.0</td>\n      <td>3.0</td>\n      <td>1</td>\n      <td>...</td>\n      <td>0.0</td>\n      <td>0.0</td>\n      <td>0.0</td>\n      <td>0.0</td>\n      <td>1.0</td>\n      <td>0.0</td>\n      <td>0.0</td>\n      <td>21.350000</td>\n      <td>19.7</td>\n      <td>23.0</td>\n    </tr>\n    <tr>\n      <th>18345</th>\n      <td>3352331</td>\n      <td>0</td>\n      <td>75.0</td>\n      <td>48.0</td>\n      <td>48.0</td>\n      <td>0.0</td>\n      <td>0</td>\n      <td>1.0</td>\n      <td>4.0</td>\n      <td>0</td>\n      <td>...</td>\n      <td>0.0</td>\n      <td>0.0</td>\n      <td>0.0</td>\n      <td>0.0</td>\n      <td>0.0</td>\n      <td>0.0</td>\n      <td>0.0</td>\n      <td>NaN</td>\n      <td>NaN</td>\n      <td>NaN</td>\n    </tr>\n    <tr>\n      <th>18346</th>\n      <td>3352964</td>\n      <td>0</td>\n      <td>85.0</td>\n      <td>75.0</td>\n      <td>75.0</td>\n      <td>0.0</td>\n      <td>0</td>\n      <td>1.0</td>\n      <td>2.0</td>\n      <td>0</td>\n      <td>...</td>\n      <td>0.0</td>\n      <td>0.0</td>\n      <td>0.0</td>\n      <td>0.0</td>\n      <td>0.0</td>\n      <td>0.0</td>\n      <td>0.0</td>\n      <td>37.250000</td>\n      <td>36.5</td>\n      <td>38.0</td>\n    </tr>\n    <tr>\n      <th>18347</th>\n      <td>3353044</td>\n      <td>0</td>\n      <td>52.0</td>\n      <td>41.0</td>\n      <td>41.0</td>\n      <td>0.0</td>\n      <td>0</td>\n      <td>1.0</td>\n      <td>4.0</td>\n      <td>0</td>\n      <td>...</td>\n      <td>0.0</td>\n      <td>1.0</td>\n      <td>0.0</td>\n      <td>0.0</td>\n      <td>0.0</td>\n      <td>0.0</td>\n      <td>0.0</td>\n      <td>23.000000</td>\n      <td>23.0</td>\n      <td>23.0</td>\n    </tr>\n    <tr>\n      <th>18348</th>\n      <td>3353077</td>\n      <td>0</td>\n      <td>60.0</td>\n      <td>36.0</td>\n      <td>36.0</td>\n      <td>0.0</td>\n      <td>0</td>\n      <td>1.0</td>\n      <td>4.0</td>\n      <td>1</td>\n      <td>...</td>\n      <td>0.0</td>\n      <td>0.0</td>\n      <td>0.0</td>\n      <td>0.0</td>\n      <td>0.0</td>\n      <td>0.0</td>\n      <td>0.0</td>\n      <td>23.000000</td>\n      <td>22.0</td>\n      <td>24.0</td>\n    </tr>\n  </tbody>\n</table>\n<p>18349 rows × 252 columns</p>\n</div>"
     },
     "metadata": {},
     "execution_count": 9
    }
   ],
   "source": [
    "data = data.merge(cam, how=\"inner\", on=\"PatientStayID\")\n",
    "data"
   ]
  },
  {
   "cell_type": "code",
   "execution_count": 10,
   "metadata": {},
   "outputs": [
    {
     "output_type": "execute_result",
     "data": {
      "text/plain": [
       "       PatientStayID  Class   Age  APACHEIVscore  APACHEIVaScore  Coma  \\\n",
       "0             151708      1  79.0           38.0            38.0   0.0   \n",
       "1             152171      1  84.0           38.0            38.0   0.0   \n",
       "2             155126      1  71.0           65.0            65.0   0.0   \n",
       "3             156970      1  56.0           32.0            32.0   0.0   \n",
       "4             165069      1  84.0           46.0            46.0   0.0   \n",
       "...              ...    ...   ...            ...             ...   ...   \n",
       "19889        3352964      0  85.0           75.0            75.0   0.0   \n",
       "19890        3353044      0  52.0           41.0            41.0   0.0   \n",
       "19891        3353077      0  60.0           36.0            36.0   0.0   \n",
       "19892        3353097      1  41.0           89.0            89.0   0.0   \n",
       "19893        3353197      1  66.0            NaN             NaN   0.0   \n",
       "\n",
       "       Metabolic  UrgentAdmission  AdmissionCategory  Infection  ...  \\\n",
       "0              0              1.0                4.0          0  ...   \n",
       "1              0              0.0                4.0          0  ...   \n",
       "2              1              0.0                4.0          0  ...   \n",
       "3              0              1.0                4.0          0  ...   \n",
       "4              0              1.0                2.0          0  ...   \n",
       "...          ...              ...                ...        ...  ...   \n",
       "19889          0              1.0                2.0          0  ...   \n",
       "19890          0              1.0                4.0          0  ...   \n",
       "19891          0              1.0                4.0          1  ...   \n",
       "19892          0              1.0                4.0          0  ...   \n",
       "19893          0              0.0                1.0          0  ...   \n",
       "\n",
       "       24hrMeanVerbal  24hrMinTemp 24hrMaxTemp 24hrMeanTemp PhysicalExam  \\\n",
       "0                 NaN         35.8        37.0    36.685714         44.0   \n",
       "1                 NaN         36.4        38.4    37.598077        109.0   \n",
       "2                 NaN         36.3        36.8    36.580000          3.0   \n",
       "3                 NaN         36.3        36.9    36.583333         33.0   \n",
       "4                 NaN         36.7        37.2    36.883333          NaN   \n",
       "...               ...          ...         ...          ...          ...   \n",
       "19889             NaN         36.8        37.0    36.883333        182.0   \n",
       "19890             NaN         36.1        36.9    36.580000         12.0   \n",
       "19891             NaN         36.4        36.9    36.714286         87.0   \n",
       "19892             NaN         36.5        37.3    36.916667       1042.0   \n",
       "19893             NaN         35.8        37.4    36.975000       1327.0   \n",
       "\n",
       "      24hrNetFluidTotal SuspectedSepsis 24hrSepsis 24hrSepticShock 24hrAKI  \n",
       "0                -150.0               0          0               0       0  \n",
       "1                   0.0               0          0               0       0  \n",
       "2                   0.0               0          0               0       0  \n",
       "3                   0.0               0          0               0       0  \n",
       "4                   NaN               0          0               0       0  \n",
       "...                 ...             ...        ...             ...     ...  \n",
       "19889            -670.0               1          0               0       0  \n",
       "19890           -1495.0               0          0               0       0  \n",
       "19891            -450.0               0          0               0       0  \n",
       "19892            3493.0               0          0               0       1  \n",
       "19893            -512.0               0          0               0       0  \n",
       "\n",
       "[19894 rows x 221 columns]"
      ],
      "text/html": "<div>\n<style scoped>\n    .dataframe tbody tr th:only-of-type {\n        vertical-align: middle;\n    }\n\n    .dataframe tbody tr th {\n        vertical-align: top;\n    }\n\n    .dataframe thead th {\n        text-align: right;\n    }\n</style>\n<table border=\"1\" class=\"dataframe\">\n  <thead>\n    <tr style=\"text-align: right;\">\n      <th></th>\n      <th>PatientStayID</th>\n      <th>Class</th>\n      <th>Age</th>\n      <th>APACHEIVscore</th>\n      <th>APACHEIVaScore</th>\n      <th>Coma</th>\n      <th>Metabolic</th>\n      <th>UrgentAdmission</th>\n      <th>AdmissionCategory</th>\n      <th>Infection</th>\n      <th>...</th>\n      <th>24hrMeanVerbal</th>\n      <th>24hrMinTemp</th>\n      <th>24hrMaxTemp</th>\n      <th>24hrMeanTemp</th>\n      <th>PhysicalExam</th>\n      <th>24hrNetFluidTotal</th>\n      <th>SuspectedSepsis</th>\n      <th>24hrSepsis</th>\n      <th>24hrSepticShock</th>\n      <th>24hrAKI</th>\n    </tr>\n  </thead>\n  <tbody>\n    <tr>\n      <th>0</th>\n      <td>151708</td>\n      <td>1</td>\n      <td>79.0</td>\n      <td>38.0</td>\n      <td>38.0</td>\n      <td>0.0</td>\n      <td>0</td>\n      <td>1.0</td>\n      <td>4.0</td>\n      <td>0</td>\n      <td>...</td>\n      <td>NaN</td>\n      <td>35.8</td>\n      <td>37.0</td>\n      <td>36.685714</td>\n      <td>44.0</td>\n      <td>-150.0</td>\n      <td>0</td>\n      <td>0</td>\n      <td>0</td>\n      <td>0</td>\n    </tr>\n    <tr>\n      <th>1</th>\n      <td>152171</td>\n      <td>1</td>\n      <td>84.0</td>\n      <td>38.0</td>\n      <td>38.0</td>\n      <td>0.0</td>\n      <td>0</td>\n      <td>0.0</td>\n      <td>4.0</td>\n      <td>0</td>\n      <td>...</td>\n      <td>NaN</td>\n      <td>36.4</td>\n      <td>38.4</td>\n      <td>37.598077</td>\n      <td>109.0</td>\n      <td>0.0</td>\n      <td>0</td>\n      <td>0</td>\n      <td>0</td>\n      <td>0</td>\n    </tr>\n    <tr>\n      <th>2</th>\n      <td>155126</td>\n      <td>1</td>\n      <td>71.0</td>\n      <td>65.0</td>\n      <td>65.0</td>\n      <td>0.0</td>\n      <td>1</td>\n      <td>0.0</td>\n      <td>4.0</td>\n      <td>0</td>\n      <td>...</td>\n      <td>NaN</td>\n      <td>36.3</td>\n      <td>36.8</td>\n      <td>36.580000</td>\n      <td>3.0</td>\n      <td>0.0</td>\n      <td>0</td>\n      <td>0</td>\n      <td>0</td>\n      <td>0</td>\n    </tr>\n    <tr>\n      <th>3</th>\n      <td>156970</td>\n      <td>1</td>\n      <td>56.0</td>\n      <td>32.0</td>\n      <td>32.0</td>\n      <td>0.0</td>\n      <td>0</td>\n      <td>1.0</td>\n      <td>4.0</td>\n      <td>0</td>\n      <td>...</td>\n      <td>NaN</td>\n      <td>36.3</td>\n      <td>36.9</td>\n      <td>36.583333</td>\n      <td>33.0</td>\n      <td>0.0</td>\n      <td>0</td>\n      <td>0</td>\n      <td>0</td>\n      <td>0</td>\n    </tr>\n    <tr>\n      <th>4</th>\n      <td>165069</td>\n      <td>1</td>\n      <td>84.0</td>\n      <td>46.0</td>\n      <td>46.0</td>\n      <td>0.0</td>\n      <td>0</td>\n      <td>1.0</td>\n      <td>2.0</td>\n      <td>0</td>\n      <td>...</td>\n      <td>NaN</td>\n      <td>36.7</td>\n      <td>37.2</td>\n      <td>36.883333</td>\n      <td>NaN</td>\n      <td>NaN</td>\n      <td>0</td>\n      <td>0</td>\n      <td>0</td>\n      <td>0</td>\n    </tr>\n    <tr>\n      <th>...</th>\n      <td>...</td>\n      <td>...</td>\n      <td>...</td>\n      <td>...</td>\n      <td>...</td>\n      <td>...</td>\n      <td>...</td>\n      <td>...</td>\n      <td>...</td>\n      <td>...</td>\n      <td>...</td>\n      <td>...</td>\n      <td>...</td>\n      <td>...</td>\n      <td>...</td>\n      <td>...</td>\n      <td>...</td>\n      <td>...</td>\n      <td>...</td>\n      <td>...</td>\n      <td>...</td>\n    </tr>\n    <tr>\n      <th>19889</th>\n      <td>3352964</td>\n      <td>0</td>\n      <td>85.0</td>\n      <td>75.0</td>\n      <td>75.0</td>\n      <td>0.0</td>\n      <td>0</td>\n      <td>1.0</td>\n      <td>2.0</td>\n      <td>0</td>\n      <td>...</td>\n      <td>NaN</td>\n      <td>36.8</td>\n      <td>37.0</td>\n      <td>36.883333</td>\n      <td>182.0</td>\n      <td>-670.0</td>\n      <td>1</td>\n      <td>0</td>\n      <td>0</td>\n      <td>0</td>\n    </tr>\n    <tr>\n      <th>19890</th>\n      <td>3353044</td>\n      <td>0</td>\n      <td>52.0</td>\n      <td>41.0</td>\n      <td>41.0</td>\n      <td>0.0</td>\n      <td>0</td>\n      <td>1.0</td>\n      <td>4.0</td>\n      <td>0</td>\n      <td>...</td>\n      <td>NaN</td>\n      <td>36.1</td>\n      <td>36.9</td>\n      <td>36.580000</td>\n      <td>12.0</td>\n      <td>-1495.0</td>\n      <td>0</td>\n      <td>0</td>\n      <td>0</td>\n      <td>0</td>\n    </tr>\n    <tr>\n      <th>19891</th>\n      <td>3353077</td>\n      <td>0</td>\n      <td>60.0</td>\n      <td>36.0</td>\n      <td>36.0</td>\n      <td>0.0</td>\n      <td>0</td>\n      <td>1.0</td>\n      <td>4.0</td>\n      <td>1</td>\n      <td>...</td>\n      <td>NaN</td>\n      <td>36.4</td>\n      <td>36.9</td>\n      <td>36.714286</td>\n      <td>87.0</td>\n      <td>-450.0</td>\n      <td>0</td>\n      <td>0</td>\n      <td>0</td>\n      <td>0</td>\n    </tr>\n    <tr>\n      <th>19892</th>\n      <td>3353097</td>\n      <td>1</td>\n      <td>41.0</td>\n      <td>89.0</td>\n      <td>89.0</td>\n      <td>0.0</td>\n      <td>0</td>\n      <td>1.0</td>\n      <td>4.0</td>\n      <td>0</td>\n      <td>...</td>\n      <td>NaN</td>\n      <td>36.5</td>\n      <td>37.3</td>\n      <td>36.916667</td>\n      <td>1042.0</td>\n      <td>3493.0</td>\n      <td>0</td>\n      <td>0</td>\n      <td>0</td>\n      <td>1</td>\n    </tr>\n    <tr>\n      <th>19893</th>\n      <td>3353197</td>\n      <td>1</td>\n      <td>66.0</td>\n      <td>NaN</td>\n      <td>NaN</td>\n      <td>0.0</td>\n      <td>0</td>\n      <td>0.0</td>\n      <td>1.0</td>\n      <td>0</td>\n      <td>...</td>\n      <td>NaN</td>\n      <td>35.8</td>\n      <td>37.4</td>\n      <td>36.975000</td>\n      <td>1327.0</td>\n      <td>-512.0</td>\n      <td>0</td>\n      <td>0</td>\n      <td>0</td>\n      <td>0</td>\n    </tr>\n  </tbody>\n</table>\n<p>19894 rows × 221 columns</p>\n</div>"
     },
     "metadata": {},
     "execution_count": 10
    }
   ],
   "source": [
    "# invetigate differences\n",
    "data = load_data()\n",
    "data"
   ]
  },
  {
   "cell_type": "code",
   "execution_count": 11,
   "metadata": {},
   "outputs": [
    {
     "output_type": "execute_result",
     "data": {
      "text/plain": [
       "       PatientStayID\n",
       "0             242154\n",
       "1             242290\n",
       "2             242474\n",
       "3             242505\n",
       "4             242714\n",
       "...              ...\n",
       "18438        3352193\n",
       "18439        3352331\n",
       "18440        3352964\n",
       "18441        3353044\n",
       "18442        3353077\n",
       "\n",
       "[18443 rows x 1 columns]"
      ],
      "text/html": "<div>\n<style scoped>\n    .dataframe tbody tr th:only-of-type {\n        vertical-align: middle;\n    }\n\n    .dataframe tbody tr th {\n        vertical-align: top;\n    }\n\n    .dataframe thead th {\n        text-align: right;\n    }\n</style>\n<table border=\"1\" class=\"dataframe\">\n  <thead>\n    <tr style=\"text-align: right;\">\n      <th></th>\n      <th>PatientStayID</th>\n    </tr>\n  </thead>\n  <tbody>\n    <tr>\n      <th>0</th>\n      <td>242154</td>\n    </tr>\n    <tr>\n      <th>1</th>\n      <td>242290</td>\n    </tr>\n    <tr>\n      <th>2</th>\n      <td>242474</td>\n    </tr>\n    <tr>\n      <th>3</th>\n      <td>242505</td>\n    </tr>\n    <tr>\n      <th>4</th>\n      <td>242714</td>\n    </tr>\n    <tr>\n      <th>...</th>\n      <td>...</td>\n    </tr>\n    <tr>\n      <th>18438</th>\n      <td>3352193</td>\n    </tr>\n    <tr>\n      <th>18439</th>\n      <td>3352331</td>\n    </tr>\n    <tr>\n      <th>18440</th>\n      <td>3352964</td>\n    </tr>\n    <tr>\n      <th>18441</th>\n      <td>3353044</td>\n    </tr>\n    <tr>\n      <th>18442</th>\n      <td>3353077</td>\n    </tr>\n  </tbody>\n</table>\n<p>18443 rows × 1 columns</p>\n</div>"
     },
     "metadata": {},
     "execution_count": 11
    }
   ],
   "source": [
    "cam"
   ]
  },
  {
   "cell_type": "code",
   "execution_count": 12,
   "metadata": {},
   "outputs": [
    {
     "output_type": "execute_result",
     "data": {
      "text/plain": [
       "       PatientStayID  Class   Age  APACHEIVscore  APACHEIVaScore  Coma  \\\n",
       "0             242154    1.0  46.0           77.0            77.0   1.0   \n",
       "1             242290    0.0  75.0           77.0            77.0   0.0   \n",
       "2             242474    0.0  52.0           64.0            64.0   0.0   \n",
       "3             242505    1.0  90.0           78.0            78.0   0.0   \n",
       "4             242714    0.0  78.0           -1.0            -1.0   0.0   \n",
       "...              ...    ...   ...            ...             ...   ...   \n",
       "18438        3352193    0.0  19.0           -1.0            -1.0  -1.0   \n",
       "18439        3352331    0.0  75.0           48.0            48.0   0.0   \n",
       "18440        3352964    0.0  85.0           75.0            75.0   0.0   \n",
       "18441        3353044    0.0  52.0           41.0            41.0   0.0   \n",
       "18442        3353077    0.0  60.0           36.0            36.0   0.0   \n",
       "\n",
       "       Metabolic  UrgentAdmission  AdmissionCategory  Infection  ...  \\\n",
       "0            0.0              1.0                2.0        1.0  ...   \n",
       "1            0.0              1.0                2.0        1.0  ...   \n",
       "2            1.0              1.0                4.0        0.0  ...   \n",
       "3            0.0              1.0                2.0        1.0  ...   \n",
       "4            0.0              1.0                4.0        1.0  ...   \n",
       "...          ...              ...                ...        ...  ...   \n",
       "18438        1.0              1.0                3.0        1.0  ...   \n",
       "18439        0.0              1.0                4.0        0.0  ...   \n",
       "18440        0.0              1.0                2.0        0.0  ...   \n",
       "18441        0.0              1.0                4.0        0.0  ...   \n",
       "18442        0.0              1.0                4.0        1.0  ...   \n",
       "\n",
       "       24hrMeanVerbal  24hrMinTemp 24hrMaxTemp 24hrMeanTemp PhysicalExam  \\\n",
       "0            4.000000     36.39180    37.16964    36.814056          NaN   \n",
       "1            5.000000     36.78072    37.11408    36.928880          NaN   \n",
       "2            4.727273     33.90000    37.55856    36.403583        253.0   \n",
       "3            4.909091     36.50292    36.78072    36.653726       1340.0   \n",
       "4            4.000000     36.28068    37.55856    36.919620       1274.0   \n",
       "...               ...          ...         ...          ...          ...   \n",
       "18438             NaN     36.80000    39.40000    37.712500          NaN   \n",
       "18439             NaN     36.40000    37.00000    36.650000         49.0   \n",
       "18440             NaN     36.80000    37.00000    36.883333        182.0   \n",
       "18441             NaN     36.10000    36.90000    36.580000         12.0   \n",
       "18442             NaN     36.40000    36.90000    36.714286         87.0   \n",
       "\n",
       "      24hrNetFluidTotal SuspectedSepsis 24hrSepsis 24hrSepticShock 24hrAKI  \n",
       "0                   NaN             1.0        1.0             0.0     0.0  \n",
       "1                   NaN             0.0        0.0             0.0     1.0  \n",
       "2                   0.0             0.0        0.0             0.0     0.0  \n",
       "3                2325.0             0.0        0.0             0.0     0.0  \n",
       "4                -629.0             0.0        0.0             0.0     0.0  \n",
       "...                 ...             ...        ...             ...     ...  \n",
       "18438               NaN             0.0        0.0             0.0     0.0  \n",
       "18439               0.0             0.0        0.0             0.0     0.0  \n",
       "18440            -670.0             1.0        0.0             0.0     0.0  \n",
       "18441           -1495.0             0.0        0.0             0.0     0.0  \n",
       "18442            -450.0             0.0        0.0             0.0     0.0  \n",
       "\n",
       "[18443 rows x 221 columns]"
      ],
      "text/html": "<div>\n<style scoped>\n    .dataframe tbody tr th:only-of-type {\n        vertical-align: middle;\n    }\n\n    .dataframe tbody tr th {\n        vertical-align: top;\n    }\n\n    .dataframe thead th {\n        text-align: right;\n    }\n</style>\n<table border=\"1\" class=\"dataframe\">\n  <thead>\n    <tr style=\"text-align: right;\">\n      <th></th>\n      <th>PatientStayID</th>\n      <th>Class</th>\n      <th>Age</th>\n      <th>APACHEIVscore</th>\n      <th>APACHEIVaScore</th>\n      <th>Coma</th>\n      <th>Metabolic</th>\n      <th>UrgentAdmission</th>\n      <th>AdmissionCategory</th>\n      <th>Infection</th>\n      <th>...</th>\n      <th>24hrMeanVerbal</th>\n      <th>24hrMinTemp</th>\n      <th>24hrMaxTemp</th>\n      <th>24hrMeanTemp</th>\n      <th>PhysicalExam</th>\n      <th>24hrNetFluidTotal</th>\n      <th>SuspectedSepsis</th>\n      <th>24hrSepsis</th>\n      <th>24hrSepticShock</th>\n      <th>24hrAKI</th>\n    </tr>\n  </thead>\n  <tbody>\n    <tr>\n      <th>0</th>\n      <td>242154</td>\n      <td>1.0</td>\n      <td>46.0</td>\n      <td>77.0</td>\n      <td>77.0</td>\n      <td>1.0</td>\n      <td>0.0</td>\n      <td>1.0</td>\n      <td>2.0</td>\n      <td>1.0</td>\n      <td>...</td>\n      <td>4.000000</td>\n      <td>36.39180</td>\n      <td>37.16964</td>\n      <td>36.814056</td>\n      <td>NaN</td>\n      <td>NaN</td>\n      <td>1.0</td>\n      <td>1.0</td>\n      <td>0.0</td>\n      <td>0.0</td>\n    </tr>\n    <tr>\n      <th>1</th>\n      <td>242290</td>\n      <td>0.0</td>\n      <td>75.0</td>\n      <td>77.0</td>\n      <td>77.0</td>\n      <td>0.0</td>\n      <td>0.0</td>\n      <td>1.0</td>\n      <td>2.0</td>\n      <td>1.0</td>\n      <td>...</td>\n      <td>5.000000</td>\n      <td>36.78072</td>\n      <td>37.11408</td>\n      <td>36.928880</td>\n      <td>NaN</td>\n      <td>NaN</td>\n      <td>0.0</td>\n      <td>0.0</td>\n      <td>0.0</td>\n      <td>1.0</td>\n    </tr>\n    <tr>\n      <th>2</th>\n      <td>242474</td>\n      <td>0.0</td>\n      <td>52.0</td>\n      <td>64.0</td>\n      <td>64.0</td>\n      <td>0.0</td>\n      <td>1.0</td>\n      <td>1.0</td>\n      <td>4.0</td>\n      <td>0.0</td>\n      <td>...</td>\n      <td>4.727273</td>\n      <td>33.90000</td>\n      <td>37.55856</td>\n      <td>36.403583</td>\n      <td>253.0</td>\n      <td>0.0</td>\n      <td>0.0</td>\n      <td>0.0</td>\n      <td>0.0</td>\n      <td>0.0</td>\n    </tr>\n    <tr>\n      <th>3</th>\n      <td>242505</td>\n      <td>1.0</td>\n      <td>90.0</td>\n      <td>78.0</td>\n      <td>78.0</td>\n      <td>0.0</td>\n      <td>0.0</td>\n      <td>1.0</td>\n      <td>2.0</td>\n      <td>1.0</td>\n      <td>...</td>\n      <td>4.909091</td>\n      <td>36.50292</td>\n      <td>36.78072</td>\n      <td>36.653726</td>\n      <td>1340.0</td>\n      <td>2325.0</td>\n      <td>0.0</td>\n      <td>0.0</td>\n      <td>0.0</td>\n      <td>0.0</td>\n    </tr>\n    <tr>\n      <th>4</th>\n      <td>242714</td>\n      <td>0.0</td>\n      <td>78.0</td>\n      <td>-1.0</td>\n      <td>-1.0</td>\n      <td>0.0</td>\n      <td>0.0</td>\n      <td>1.0</td>\n      <td>4.0</td>\n      <td>1.0</td>\n      <td>...</td>\n      <td>4.000000</td>\n      <td>36.28068</td>\n      <td>37.55856</td>\n      <td>36.919620</td>\n      <td>1274.0</td>\n      <td>-629.0</td>\n      <td>0.0</td>\n      <td>0.0</td>\n      <td>0.0</td>\n      <td>0.0</td>\n    </tr>\n    <tr>\n      <th>...</th>\n      <td>...</td>\n      <td>...</td>\n      <td>...</td>\n      <td>...</td>\n      <td>...</td>\n      <td>...</td>\n      <td>...</td>\n      <td>...</td>\n      <td>...</td>\n      <td>...</td>\n      <td>...</td>\n      <td>...</td>\n      <td>...</td>\n      <td>...</td>\n      <td>...</td>\n      <td>...</td>\n      <td>...</td>\n      <td>...</td>\n      <td>...</td>\n      <td>...</td>\n      <td>...</td>\n    </tr>\n    <tr>\n      <th>18438</th>\n      <td>3352193</td>\n      <td>0.0</td>\n      <td>19.0</td>\n      <td>-1.0</td>\n      <td>-1.0</td>\n      <td>-1.0</td>\n      <td>1.0</td>\n      <td>1.0</td>\n      <td>3.0</td>\n      <td>1.0</td>\n      <td>...</td>\n      <td>NaN</td>\n      <td>36.80000</td>\n      <td>39.40000</td>\n      <td>37.712500</td>\n      <td>NaN</td>\n      <td>NaN</td>\n      <td>0.0</td>\n      <td>0.0</td>\n      <td>0.0</td>\n      <td>0.0</td>\n    </tr>\n    <tr>\n      <th>18439</th>\n      <td>3352331</td>\n      <td>0.0</td>\n      <td>75.0</td>\n      <td>48.0</td>\n      <td>48.0</td>\n      <td>0.0</td>\n      <td>0.0</td>\n      <td>1.0</td>\n      <td>4.0</td>\n      <td>0.0</td>\n      <td>...</td>\n      <td>NaN</td>\n      <td>36.40000</td>\n      <td>37.00000</td>\n      <td>36.650000</td>\n      <td>49.0</td>\n      <td>0.0</td>\n      <td>0.0</td>\n      <td>0.0</td>\n      <td>0.0</td>\n      <td>0.0</td>\n    </tr>\n    <tr>\n      <th>18440</th>\n      <td>3352964</td>\n      <td>0.0</td>\n      <td>85.0</td>\n      <td>75.0</td>\n      <td>75.0</td>\n      <td>0.0</td>\n      <td>0.0</td>\n      <td>1.0</td>\n      <td>2.0</td>\n      <td>0.0</td>\n      <td>...</td>\n      <td>NaN</td>\n      <td>36.80000</td>\n      <td>37.00000</td>\n      <td>36.883333</td>\n      <td>182.0</td>\n      <td>-670.0</td>\n      <td>1.0</td>\n      <td>0.0</td>\n      <td>0.0</td>\n      <td>0.0</td>\n    </tr>\n    <tr>\n      <th>18441</th>\n      <td>3353044</td>\n      <td>0.0</td>\n      <td>52.0</td>\n      <td>41.0</td>\n      <td>41.0</td>\n      <td>0.0</td>\n      <td>0.0</td>\n      <td>1.0</td>\n      <td>4.0</td>\n      <td>0.0</td>\n      <td>...</td>\n      <td>NaN</td>\n      <td>36.10000</td>\n      <td>36.90000</td>\n      <td>36.580000</td>\n      <td>12.0</td>\n      <td>-1495.0</td>\n      <td>0.0</td>\n      <td>0.0</td>\n      <td>0.0</td>\n      <td>0.0</td>\n    </tr>\n    <tr>\n      <th>18442</th>\n      <td>3353077</td>\n      <td>0.0</td>\n      <td>60.0</td>\n      <td>36.0</td>\n      <td>36.0</td>\n      <td>0.0</td>\n      <td>0.0</td>\n      <td>1.0</td>\n      <td>4.0</td>\n      <td>1.0</td>\n      <td>...</td>\n      <td>NaN</td>\n      <td>36.40000</td>\n      <td>36.90000</td>\n      <td>36.714286</td>\n      <td>87.0</td>\n      <td>-450.0</td>\n      <td>0.0</td>\n      <td>0.0</td>\n      <td>0.0</td>\n      <td>0.0</td>\n    </tr>\n  </tbody>\n</table>\n<p>18443 rows × 221 columns</p>\n</div>"
     },
     "metadata": {},
     "execution_count": 12
    }
   ],
   "source": [
    "test = cam.merge(data, how=\"left\", on=\"PatientStayID\")\n",
    "test"
   ]
  },
  {
   "cell_type": "code",
   "execution_count": 13,
   "metadata": {},
   "outputs": [],
   "source": [
    "x = test[np.isnan(test[\"Class\"])]"
   ]
  },
  {
   "cell_type": "code",
   "execution_count": 14,
   "metadata": {},
   "outputs": [
    {
     "output_type": "execute_result",
     "data": {
      "text/plain": [
       "       PatientStayID  Class  Age  APACHEIVscore  APACHEIVaScore  Coma  \\\n",
       "130           264458    NaN  NaN            NaN             NaN   NaN   \n",
       "132           264460    NaN  NaN            NaN             NaN   NaN   \n",
       "249           285325    NaN  NaN            NaN             NaN   NaN   \n",
       "351           305099    NaN  NaN            NaN             NaN   NaN   \n",
       "375           425564    NaN  NaN            NaN             NaN   NaN   \n",
       "...              ...    ...  ...            ...             ...   ...   \n",
       "17942        3157076    NaN  NaN            NaN             NaN   NaN   \n",
       "18035        3159582    NaN  NaN            NaN             NaN   NaN   \n",
       "18195        3184376    NaN  NaN            NaN             NaN   NaN   \n",
       "18290        3327039    NaN  NaN            NaN             NaN   NaN   \n",
       "18314        3331500    NaN  NaN            NaN             NaN   NaN   \n",
       "\n",
       "       Metabolic  UrgentAdmission  AdmissionCategory  Infection  ...  \\\n",
       "130          NaN              NaN                NaN        NaN  ...   \n",
       "132          NaN              NaN                NaN        NaN  ...   \n",
       "249          NaN              NaN                NaN        NaN  ...   \n",
       "351          NaN              NaN                NaN        NaN  ...   \n",
       "375          NaN              NaN                NaN        NaN  ...   \n",
       "...          ...              ...                ...        ...  ...   \n",
       "17942        NaN              NaN                NaN        NaN  ...   \n",
       "18035        NaN              NaN                NaN        NaN  ...   \n",
       "18195        NaN              NaN                NaN        NaN  ...   \n",
       "18290        NaN              NaN                NaN        NaN  ...   \n",
       "18314        NaN              NaN                NaN        NaN  ...   \n",
       "\n",
       "       24hrMeanVerbal  24hrMinTemp 24hrMaxTemp 24hrMeanTemp PhysicalExam  \\\n",
       "130               NaN          NaN         NaN          NaN          NaN   \n",
       "132               NaN          NaN         NaN          NaN          NaN   \n",
       "249               NaN          NaN         NaN          NaN          NaN   \n",
       "351               NaN          NaN         NaN          NaN          NaN   \n",
       "375               NaN          NaN         NaN          NaN          NaN   \n",
       "...               ...          ...         ...          ...          ...   \n",
       "17942             NaN          NaN         NaN          NaN          NaN   \n",
       "18035             NaN          NaN         NaN          NaN          NaN   \n",
       "18195             NaN          NaN         NaN          NaN          NaN   \n",
       "18290             NaN          NaN         NaN          NaN          NaN   \n",
       "18314             NaN          NaN         NaN          NaN          NaN   \n",
       "\n",
       "      24hrNetFluidTotal SuspectedSepsis 24hrSepsis 24hrSepticShock 24hrAKI  \n",
       "130                 NaN             NaN        NaN             NaN     NaN  \n",
       "132                 NaN             NaN        NaN             NaN     NaN  \n",
       "249                 NaN             NaN        NaN             NaN     NaN  \n",
       "351                 NaN             NaN        NaN             NaN     NaN  \n",
       "375                 NaN             NaN        NaN             NaN     NaN  \n",
       "...                 ...             ...        ...             ...     ...  \n",
       "17942               NaN             NaN        NaN             NaN     NaN  \n",
       "18035               NaN             NaN        NaN             NaN     NaN  \n",
       "18195               NaN             NaN        NaN             NaN     NaN  \n",
       "18290               NaN             NaN        NaN             NaN     NaN  \n",
       "18314               NaN             NaN        NaN             NaN     NaN  \n",
       "\n",
       "[94 rows x 221 columns]"
      ],
      "text/html": "<div>\n<style scoped>\n    .dataframe tbody tr th:only-of-type {\n        vertical-align: middle;\n    }\n\n    .dataframe tbody tr th {\n        vertical-align: top;\n    }\n\n    .dataframe thead th {\n        text-align: right;\n    }\n</style>\n<table border=\"1\" class=\"dataframe\">\n  <thead>\n    <tr style=\"text-align: right;\">\n      <th></th>\n      <th>PatientStayID</th>\n      <th>Class</th>\n      <th>Age</th>\n      <th>APACHEIVscore</th>\n      <th>APACHEIVaScore</th>\n      <th>Coma</th>\n      <th>Metabolic</th>\n      <th>UrgentAdmission</th>\n      <th>AdmissionCategory</th>\n      <th>Infection</th>\n      <th>...</th>\n      <th>24hrMeanVerbal</th>\n      <th>24hrMinTemp</th>\n      <th>24hrMaxTemp</th>\n      <th>24hrMeanTemp</th>\n      <th>PhysicalExam</th>\n      <th>24hrNetFluidTotal</th>\n      <th>SuspectedSepsis</th>\n      <th>24hrSepsis</th>\n      <th>24hrSepticShock</th>\n      <th>24hrAKI</th>\n    </tr>\n  </thead>\n  <tbody>\n    <tr>\n      <th>130</th>\n      <td>264458</td>\n      <td>NaN</td>\n      <td>NaN</td>\n      <td>NaN</td>\n      <td>NaN</td>\n      <td>NaN</td>\n      <td>NaN</td>\n      <td>NaN</td>\n      <td>NaN</td>\n      <td>NaN</td>\n      <td>...</td>\n      <td>NaN</td>\n      <td>NaN</td>\n      <td>NaN</td>\n      <td>NaN</td>\n      <td>NaN</td>\n      <td>NaN</td>\n      <td>NaN</td>\n      <td>NaN</td>\n      <td>NaN</td>\n      <td>NaN</td>\n    </tr>\n    <tr>\n      <th>132</th>\n      <td>264460</td>\n      <td>NaN</td>\n      <td>NaN</td>\n      <td>NaN</td>\n      <td>NaN</td>\n      <td>NaN</td>\n      <td>NaN</td>\n      <td>NaN</td>\n      <td>NaN</td>\n      <td>NaN</td>\n      <td>...</td>\n      <td>NaN</td>\n      <td>NaN</td>\n      <td>NaN</td>\n      <td>NaN</td>\n      <td>NaN</td>\n      <td>NaN</td>\n      <td>NaN</td>\n      <td>NaN</td>\n      <td>NaN</td>\n      <td>NaN</td>\n    </tr>\n    <tr>\n      <th>249</th>\n      <td>285325</td>\n      <td>NaN</td>\n      <td>NaN</td>\n      <td>NaN</td>\n      <td>NaN</td>\n      <td>NaN</td>\n      <td>NaN</td>\n      <td>NaN</td>\n      <td>NaN</td>\n      <td>NaN</td>\n      <td>...</td>\n      <td>NaN</td>\n      <td>NaN</td>\n      <td>NaN</td>\n      <td>NaN</td>\n      <td>NaN</td>\n      <td>NaN</td>\n      <td>NaN</td>\n      <td>NaN</td>\n      <td>NaN</td>\n      <td>NaN</td>\n    </tr>\n    <tr>\n      <th>351</th>\n      <td>305099</td>\n      <td>NaN</td>\n      <td>NaN</td>\n      <td>NaN</td>\n      <td>NaN</td>\n      <td>NaN</td>\n      <td>NaN</td>\n      <td>NaN</td>\n      <td>NaN</td>\n      <td>NaN</td>\n      <td>...</td>\n      <td>NaN</td>\n      <td>NaN</td>\n      <td>NaN</td>\n      <td>NaN</td>\n      <td>NaN</td>\n      <td>NaN</td>\n      <td>NaN</td>\n      <td>NaN</td>\n      <td>NaN</td>\n      <td>NaN</td>\n    </tr>\n    <tr>\n      <th>375</th>\n      <td>425564</td>\n      <td>NaN</td>\n      <td>NaN</td>\n      <td>NaN</td>\n      <td>NaN</td>\n      <td>NaN</td>\n      <td>NaN</td>\n      <td>NaN</td>\n      <td>NaN</td>\n      <td>NaN</td>\n      <td>...</td>\n      <td>NaN</td>\n      <td>NaN</td>\n      <td>NaN</td>\n      <td>NaN</td>\n      <td>NaN</td>\n      <td>NaN</td>\n      <td>NaN</td>\n      <td>NaN</td>\n      <td>NaN</td>\n      <td>NaN</td>\n    </tr>\n    <tr>\n      <th>...</th>\n      <td>...</td>\n      <td>...</td>\n      <td>...</td>\n      <td>...</td>\n      <td>...</td>\n      <td>...</td>\n      <td>...</td>\n      <td>...</td>\n      <td>...</td>\n      <td>...</td>\n      <td>...</td>\n      <td>...</td>\n      <td>...</td>\n      <td>...</td>\n      <td>...</td>\n      <td>...</td>\n      <td>...</td>\n      <td>...</td>\n      <td>...</td>\n      <td>...</td>\n      <td>...</td>\n    </tr>\n    <tr>\n      <th>17942</th>\n      <td>3157076</td>\n      <td>NaN</td>\n      <td>NaN</td>\n      <td>NaN</td>\n      <td>NaN</td>\n      <td>NaN</td>\n      <td>NaN</td>\n      <td>NaN</td>\n      <td>NaN</td>\n      <td>NaN</td>\n      <td>...</td>\n      <td>NaN</td>\n      <td>NaN</td>\n      <td>NaN</td>\n      <td>NaN</td>\n      <td>NaN</td>\n      <td>NaN</td>\n      <td>NaN</td>\n      <td>NaN</td>\n      <td>NaN</td>\n      <td>NaN</td>\n    </tr>\n    <tr>\n      <th>18035</th>\n      <td>3159582</td>\n      <td>NaN</td>\n      <td>NaN</td>\n      <td>NaN</td>\n      <td>NaN</td>\n      <td>NaN</td>\n      <td>NaN</td>\n      <td>NaN</td>\n      <td>NaN</td>\n      <td>NaN</td>\n      <td>...</td>\n      <td>NaN</td>\n      <td>NaN</td>\n      <td>NaN</td>\n      <td>NaN</td>\n      <td>NaN</td>\n      <td>NaN</td>\n      <td>NaN</td>\n      <td>NaN</td>\n      <td>NaN</td>\n      <td>NaN</td>\n    </tr>\n    <tr>\n      <th>18195</th>\n      <td>3184376</td>\n      <td>NaN</td>\n      <td>NaN</td>\n      <td>NaN</td>\n      <td>NaN</td>\n      <td>NaN</td>\n      <td>NaN</td>\n      <td>NaN</td>\n      <td>NaN</td>\n      <td>NaN</td>\n      <td>...</td>\n      <td>NaN</td>\n      <td>NaN</td>\n      <td>NaN</td>\n      <td>NaN</td>\n      <td>NaN</td>\n      <td>NaN</td>\n      <td>NaN</td>\n      <td>NaN</td>\n      <td>NaN</td>\n      <td>NaN</td>\n    </tr>\n    <tr>\n      <th>18290</th>\n      <td>3327039</td>\n      <td>NaN</td>\n      <td>NaN</td>\n      <td>NaN</td>\n      <td>NaN</td>\n      <td>NaN</td>\n      <td>NaN</td>\n      <td>NaN</td>\n      <td>NaN</td>\n      <td>NaN</td>\n      <td>...</td>\n      <td>NaN</td>\n      <td>NaN</td>\n      <td>NaN</td>\n      <td>NaN</td>\n      <td>NaN</td>\n      <td>NaN</td>\n      <td>NaN</td>\n      <td>NaN</td>\n      <td>NaN</td>\n      <td>NaN</td>\n    </tr>\n    <tr>\n      <th>18314</th>\n      <td>3331500</td>\n      <td>NaN</td>\n      <td>NaN</td>\n      <td>NaN</td>\n      <td>NaN</td>\n      <td>NaN</td>\n      <td>NaN</td>\n      <td>NaN</td>\n      <td>NaN</td>\n      <td>NaN</td>\n      <td>...</td>\n      <td>NaN</td>\n      <td>NaN</td>\n      <td>NaN</td>\n      <td>NaN</td>\n      <td>NaN</td>\n      <td>NaN</td>\n      <td>NaN</td>\n      <td>NaN</td>\n      <td>NaN</td>\n      <td>NaN</td>\n    </tr>\n  </tbody>\n</table>\n<p>94 rows × 221 columns</p>\n</div>"
     },
     "metadata": {},
     "execution_count": 14
    }
   ],
   "source": [
    "x"
   ]
  },
  {
   "cell_type": "code",
   "execution_count": 15,
   "metadata": {},
   "outputs": [
    {
     "output_type": "execute_result",
     "data": {
      "text/plain": [
       "130       264458\n",
       "132       264460\n",
       "249       285325\n",
       "351       305099\n",
       "375       425564\n",
       "          ...   \n",
       "17942    3157076\n",
       "18035    3159582\n",
       "18195    3184376\n",
       "18290    3327039\n",
       "18314    3331500\n",
       "Name: PatientStayID, Length: 94, dtype: int64"
      ]
     },
     "metadata": {},
     "execution_count": 15
    }
   ],
   "source": [
    "x = x[\"PatientStayID\"]\n",
    "x"
   ]
  },
  {
   "cell_type": "code",
   "execution_count": 16,
   "metadata": {},
   "outputs": [],
   "source": [
    "x.to_csv(\"../csv/missing_values.csv\")"
   ]
  },
  {
   "cell_type": "code",
   "execution_count": 17,
   "metadata": {},
   "outputs": [
    {
     "output_type": "execute_result",
     "data": {
      "text/plain": [
       "       PatientStayID  Class   Age  APACHEIVscore  APACHEIVaScore  Coma  \\\n",
       "0             151708      1  79.0           38.0            38.0   0.0   \n",
       "1             152171      1  84.0           38.0            38.0   0.0   \n",
       "2             155126      1  71.0           65.0            65.0   0.0   \n",
       "3             156970      1  56.0           32.0            32.0   0.0   \n",
       "4             165069      1  84.0           46.0            46.0   0.0   \n",
       "...              ...    ...   ...            ...             ...   ...   \n",
       "19889        3352964      0  85.0           75.0            75.0   0.0   \n",
       "19890        3353044      0  52.0           41.0            41.0   0.0   \n",
       "19891        3353077      0  60.0           36.0            36.0   0.0   \n",
       "19892        3353097      1  41.0           89.0            89.0   0.0   \n",
       "19893        3353197      1  66.0            NaN             NaN   0.0   \n",
       "\n",
       "       Metabolic  UrgentAdmission  AdmissionCategory  Infection  ...  \\\n",
       "0              0              1.0                4.0          0  ...   \n",
       "1              0              0.0                4.0          0  ...   \n",
       "2              1              0.0                4.0          0  ...   \n",
       "3              0              1.0                4.0          0  ...   \n",
       "4              0              1.0                2.0          0  ...   \n",
       "...          ...              ...                ...        ...  ...   \n",
       "19889          0              1.0                2.0          0  ...   \n",
       "19890          0              1.0                4.0          0  ...   \n",
       "19891          0              1.0                4.0          1  ...   \n",
       "19892          0              1.0                4.0          0  ...   \n",
       "19893          0              0.0                1.0          0  ...   \n",
       "\n",
       "       24hrMeanVerbal  24hrMinTemp 24hrMaxTemp 24hrMeanTemp PhysicalExam  \\\n",
       "0                 NaN         35.8        37.0    36.685714         44.0   \n",
       "1                 NaN         36.4        38.4    37.598077        109.0   \n",
       "2                 NaN         36.3        36.8    36.580000          3.0   \n",
       "3                 NaN         36.3        36.9    36.583333         33.0   \n",
       "4                 NaN         36.7        37.2    36.883333          NaN   \n",
       "...               ...          ...         ...          ...          ...   \n",
       "19889             NaN         36.8        37.0    36.883333        182.0   \n",
       "19890             NaN         36.1        36.9    36.580000         12.0   \n",
       "19891             NaN         36.4        36.9    36.714286         87.0   \n",
       "19892             NaN         36.5        37.3    36.916667       1042.0   \n",
       "19893             NaN         35.8        37.4    36.975000       1327.0   \n",
       "\n",
       "      24hrNetFluidTotal SuspectedSepsis 24hrSepsis 24hrSepticShock 24hrAKI  \n",
       "0                -150.0               0          0               0       0  \n",
       "1                   0.0               0          0               0       0  \n",
       "2                   0.0               0          0               0       0  \n",
       "3                   0.0               0          0               0       0  \n",
       "4                   NaN               0          0               0       0  \n",
       "...                 ...             ...        ...             ...     ...  \n",
       "19889            -670.0               1          0               0       0  \n",
       "19890           -1495.0               0          0               0       0  \n",
       "19891            -450.0               0          0               0       0  \n",
       "19892            3493.0               0          0               0       1  \n",
       "19893            -512.0               0          0               0       0  \n",
       "\n",
       "[19894 rows x 221 columns]"
      ],
      "text/html": "<div>\n<style scoped>\n    .dataframe tbody tr th:only-of-type {\n        vertical-align: middle;\n    }\n\n    .dataframe tbody tr th {\n        vertical-align: top;\n    }\n\n    .dataframe thead th {\n        text-align: right;\n    }\n</style>\n<table border=\"1\" class=\"dataframe\">\n  <thead>\n    <tr style=\"text-align: right;\">\n      <th></th>\n      <th>PatientStayID</th>\n      <th>Class</th>\n      <th>Age</th>\n      <th>APACHEIVscore</th>\n      <th>APACHEIVaScore</th>\n      <th>Coma</th>\n      <th>Metabolic</th>\n      <th>UrgentAdmission</th>\n      <th>AdmissionCategory</th>\n      <th>Infection</th>\n      <th>...</th>\n      <th>24hrMeanVerbal</th>\n      <th>24hrMinTemp</th>\n      <th>24hrMaxTemp</th>\n      <th>24hrMeanTemp</th>\n      <th>PhysicalExam</th>\n      <th>24hrNetFluidTotal</th>\n      <th>SuspectedSepsis</th>\n      <th>24hrSepsis</th>\n      <th>24hrSepticShock</th>\n      <th>24hrAKI</th>\n    </tr>\n  </thead>\n  <tbody>\n    <tr>\n      <th>0</th>\n      <td>151708</td>\n      <td>1</td>\n      <td>79.0</td>\n      <td>38.0</td>\n      <td>38.0</td>\n      <td>0.0</td>\n      <td>0</td>\n      <td>1.0</td>\n      <td>4.0</td>\n      <td>0</td>\n      <td>...</td>\n      <td>NaN</td>\n      <td>35.8</td>\n      <td>37.0</td>\n      <td>36.685714</td>\n      <td>44.0</td>\n      <td>-150.0</td>\n      <td>0</td>\n      <td>0</td>\n      <td>0</td>\n      <td>0</td>\n    </tr>\n    <tr>\n      <th>1</th>\n      <td>152171</td>\n      <td>1</td>\n      <td>84.0</td>\n      <td>38.0</td>\n      <td>38.0</td>\n      <td>0.0</td>\n      <td>0</td>\n      <td>0.0</td>\n      <td>4.0</td>\n      <td>0</td>\n      <td>...</td>\n      <td>NaN</td>\n      <td>36.4</td>\n      <td>38.4</td>\n      <td>37.598077</td>\n      <td>109.0</td>\n      <td>0.0</td>\n      <td>0</td>\n      <td>0</td>\n      <td>0</td>\n      <td>0</td>\n    </tr>\n    <tr>\n      <th>2</th>\n      <td>155126</td>\n      <td>1</td>\n      <td>71.0</td>\n      <td>65.0</td>\n      <td>65.0</td>\n      <td>0.0</td>\n      <td>1</td>\n      <td>0.0</td>\n      <td>4.0</td>\n      <td>0</td>\n      <td>...</td>\n      <td>NaN</td>\n      <td>36.3</td>\n      <td>36.8</td>\n      <td>36.580000</td>\n      <td>3.0</td>\n      <td>0.0</td>\n      <td>0</td>\n      <td>0</td>\n      <td>0</td>\n      <td>0</td>\n    </tr>\n    <tr>\n      <th>3</th>\n      <td>156970</td>\n      <td>1</td>\n      <td>56.0</td>\n      <td>32.0</td>\n      <td>32.0</td>\n      <td>0.0</td>\n      <td>0</td>\n      <td>1.0</td>\n      <td>4.0</td>\n      <td>0</td>\n      <td>...</td>\n      <td>NaN</td>\n      <td>36.3</td>\n      <td>36.9</td>\n      <td>36.583333</td>\n      <td>33.0</td>\n      <td>0.0</td>\n      <td>0</td>\n      <td>0</td>\n      <td>0</td>\n      <td>0</td>\n    </tr>\n    <tr>\n      <th>4</th>\n      <td>165069</td>\n      <td>1</td>\n      <td>84.0</td>\n      <td>46.0</td>\n      <td>46.0</td>\n      <td>0.0</td>\n      <td>0</td>\n      <td>1.0</td>\n      <td>2.0</td>\n      <td>0</td>\n      <td>...</td>\n      <td>NaN</td>\n      <td>36.7</td>\n      <td>37.2</td>\n      <td>36.883333</td>\n      <td>NaN</td>\n      <td>NaN</td>\n      <td>0</td>\n      <td>0</td>\n      <td>0</td>\n      <td>0</td>\n    </tr>\n    <tr>\n      <th>...</th>\n      <td>...</td>\n      <td>...</td>\n      <td>...</td>\n      <td>...</td>\n      <td>...</td>\n      <td>...</td>\n      <td>...</td>\n      <td>...</td>\n      <td>...</td>\n      <td>...</td>\n      <td>...</td>\n      <td>...</td>\n      <td>...</td>\n      <td>...</td>\n      <td>...</td>\n      <td>...</td>\n      <td>...</td>\n      <td>...</td>\n      <td>...</td>\n      <td>...</td>\n      <td>...</td>\n    </tr>\n    <tr>\n      <th>19889</th>\n      <td>3352964</td>\n      <td>0</td>\n      <td>85.0</td>\n      <td>75.0</td>\n      <td>75.0</td>\n      <td>0.0</td>\n      <td>0</td>\n      <td>1.0</td>\n      <td>2.0</td>\n      <td>0</td>\n      <td>...</td>\n      <td>NaN</td>\n      <td>36.8</td>\n      <td>37.0</td>\n      <td>36.883333</td>\n      <td>182.0</td>\n      <td>-670.0</td>\n      <td>1</td>\n      <td>0</td>\n      <td>0</td>\n      <td>0</td>\n    </tr>\n    <tr>\n      <th>19890</th>\n      <td>3353044</td>\n      <td>0</td>\n      <td>52.0</td>\n      <td>41.0</td>\n      <td>41.0</td>\n      <td>0.0</td>\n      <td>0</td>\n      <td>1.0</td>\n      <td>4.0</td>\n      <td>0</td>\n      <td>...</td>\n      <td>NaN</td>\n      <td>36.1</td>\n      <td>36.9</td>\n      <td>36.580000</td>\n      <td>12.0</td>\n      <td>-1495.0</td>\n      <td>0</td>\n      <td>0</td>\n      <td>0</td>\n      <td>0</td>\n    </tr>\n    <tr>\n      <th>19891</th>\n      <td>3353077</td>\n      <td>0</td>\n      <td>60.0</td>\n      <td>36.0</td>\n      <td>36.0</td>\n      <td>0.0</td>\n      <td>0</td>\n      <td>1.0</td>\n      <td>4.0</td>\n      <td>1</td>\n      <td>...</td>\n      <td>NaN</td>\n      <td>36.4</td>\n      <td>36.9</td>\n      <td>36.714286</td>\n      <td>87.0</td>\n      <td>-450.0</td>\n      <td>0</td>\n      <td>0</td>\n      <td>0</td>\n      <td>0</td>\n    </tr>\n    <tr>\n      <th>19892</th>\n      <td>3353097</td>\n      <td>1</td>\n      <td>41.0</td>\n      <td>89.0</td>\n      <td>89.0</td>\n      <td>0.0</td>\n      <td>0</td>\n      <td>1.0</td>\n      <td>4.0</td>\n      <td>0</td>\n      <td>...</td>\n      <td>NaN</td>\n      <td>36.5</td>\n      <td>37.3</td>\n      <td>36.916667</td>\n      <td>1042.0</td>\n      <td>3493.0</td>\n      <td>0</td>\n      <td>0</td>\n      <td>0</td>\n      <td>1</td>\n    </tr>\n    <tr>\n      <th>19893</th>\n      <td>3353197</td>\n      <td>1</td>\n      <td>66.0</td>\n      <td>NaN</td>\n      <td>NaN</td>\n      <td>0.0</td>\n      <td>0</td>\n      <td>0.0</td>\n      <td>1.0</td>\n      <td>0</td>\n      <td>...</td>\n      <td>NaN</td>\n      <td>35.8</td>\n      <td>37.4</td>\n      <td>36.975000</td>\n      <td>1327.0</td>\n      <td>-512.0</td>\n      <td>0</td>\n      <td>0</td>\n      <td>0</td>\n      <td>0</td>\n    </tr>\n  </tbody>\n</table>\n<p>19894 rows × 221 columns</p>\n</div>"
     },
     "metadata": {},
     "execution_count": 17
    }
   ],
   "source": [
    "data"
   ]
  },
  {
   "cell_type": "code",
   "execution_count": 18,
   "metadata": {},
   "outputs": [],
   "source": [
    "data[\"PatientStayID\"].to_csv(\"ryan_id_list.csv\",index=False)"
   ]
  },
  {
   "cell_type": "code",
   "execution_count": null,
   "metadata": {},
   "outputs": [],
   "source": []
  }
 ]
}