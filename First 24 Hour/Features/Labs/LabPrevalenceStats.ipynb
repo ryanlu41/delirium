{
 "cells": [
  {
   "cell_type": "code",
   "execution_count": 1,
   "metadata": {},
   "outputs": [],
   "source": [
    "from pathlib import Path, PurePath\n",
    "import glob\n",
    "import os\n",
    "import numpy as np\n",
    "import csv\n",
    "import pandas as pd\n",
    "import time\n",
    "import matplotlib.pyplot as plt"
   ]
  },
  {
   "cell_type": "code",
   "execution_count": 2,
   "metadata": {},
   "outputs": [],
   "source": [
    "file_path = PurePath(os.getcwd())\n",
    "dataset_path = file_path.parent.parent.parent.joinpath('eicu')"
   ]
  },
  {
   "cell_type": "code",
   "execution_count": 3,
   "metadata": {},
   "outputs": [],
   "source": [
    "lab_file = pd.read_csv(dataset_path.joinpath('lab.csv'), usecols=[\n",
    "    'patientunitstayid', 'labresultoffset', 'labname', 'labresultrevisedoffset'])\n",
    "\n",
    "d_lab_file = pd.read_csv(dataset_path.joinpath('lab_delirium.csv'), usecols=[\n",
    "    'patientunitstayid', 'labresultoffset', 'labname', 'labresultrevisedoffset'])\n"
   ]
  },
  {
   "cell_type": "code",
   "execution_count": 8,
   "metadata": {},
   "outputs": [],
   "source": [
    "# lab_file = lab_file[['patientunitstayid', 'labresultoffset', 'labname', 'labresultrevisedoffset']]\n",
    "# d_lab_file = d_lab_file[['patientunitstayid', 'labresultoffset', 'labname', 'labresultrevisedoffset']]"
   ]
  },
  {
   "cell_type": "markdown",
   "metadata": {},
   "source": [
    "'labid', 'patientunitstayid', 'labresultoffset', 'labtypeid', 'labname', 'labresult','labresulttext', 'labmeasurenamesystem', 'labmeasurenameinterface', 'labresultrevisedoffset'"
   ]
  },
  {
   "cell_type": "code",
   "execution_count": 4,
   "metadata": {},
   "outputs": [],
   "source": [
    "unique_ids = lab_file['patientunitstayid'].unique()\n",
    "d_unique_ids = d_lab_file['patientunitstayid'].unique()\n",
    "unique_labs = lab_file['labname'].unique()"
   ]
  },
  {
   "cell_type": "code",
   "execution_count": 10,
   "metadata": {},
   "outputs": [
    {
     "name": "stdout",
     "output_type": "stream",
     "text": [
      "[141168 141178 141179 141194 141196 141197 141203 141208 141227 141229]\n",
      "[149321 150934 151213 151708 152171 155126 156970 162054 163084 164338]\n",
      "['fibrinogen' 'PT - INR' 'magnesium' 'PT' 'pH' 'urinary creatinine' 'MCH'\n",
      " 'BUN' 'urinary sodium' 'HCO3']\n"
     ]
    }
   ],
   "source": [
    "print(unique_ids[0:10])\n",
    "print(d_unique_ids[0:10])\n",
    "print(unique_labs[0:10])"
   ]
  },
  {
   "cell_type": "code",
   "execution_count": 12,
   "metadata": {},
   "outputs": [],
   "source": [
    "\n",
    "\n",
    "# for id in unique_ids:\n",
    "\n",
    "#     df_id = lab_file[lab_file['patientunitstayid'] == id]\n",
    "\n",
    "#     for lab in unique_labs:\n",
    "        \n",
    "#         df_lab = df_id[df_id['labname'] == lab]\n",
    "#         # df_lab = df_lab.sort_values(axis=0, by='labresultoffset')\n",
    "#         # print(df_lab)\n",
    "#         times = np.sort(df_lab['labresultoffset'].to_numpy())\n",
    "#         rev_times = np.sort(df_lab['labresultrevisedoffset'].to_numpy())\n",
    "#         count = len(times)\n",
    "#         time_diff = times[1:] - times[:-1]\n",
    "#         time_diff = time_diff[time_diff != 0]\n",
    "#         rev_time_diff = rev_times[1:] - rev_times[:-1]\n",
    "#         rev_time_diff = rev_time_diff[rev_time_diff != 0]\n",
    "\n",
    "        "
   ]
  },
  {
   "cell_type": "code",
   "execution_count": 66,
   "metadata": {},
   "outputs": [
    {
     "name": "stdout",
     "output_type": "stream",
     "text": [
      "1.0\n"
     ]
    }
   ],
   "source": [
    "df_lab = lab_file[lab_file['labname'] == 'fibrinogen']\n",
    "# print(df_lab[df_lab['patientunitstayid'] == 2074269])\n",
    "lab_count = df_lab['patientunitstayid'].value_counts()\n",
    "print(lab_count.median())"
   ]
  },
  {
   "cell_type": "code",
   "execution_count": 18,
   "metadata": {},
   "outputs": [],
   "source": [
    "def get_stats(name, arr):\n",
    "    if arr.empty:\n",
    "        return [name, np.NaN, np.NaN, np.NaN, np.NaN, np.NaN, np.NaN, np.NaN]\n",
    "    else:\n",
    "        q3, q1 = np.percentile(arr, [75, 25])\n",
    "        IQR = q3 - q1\n",
    "    # mean = arr.mean()\n",
    "    # median = arr.median()\n",
    "    # var = arr.var()\n",
    "    # minima = arr.min()\n",
    "    # maxima = arr.max()\n",
    "    # return mean, var, median, IQR, minima, maxima\n",
    "    return [name, arr.mean(), arr.var(), np.median(arr), IQR, arr.min(), arr.max(), len(arr)]"
   ]
  },
  {
   "cell_type": "code",
   "execution_count": 55,
   "metadata": {},
   "outputs": [
    {
     "name": "stdout",
     "output_type": "stream",
     "text": [
      "1.3491873741149902\n",
      "1.3704020977020264\n",
      "1.3802015781402588\n",
      "1.3316471576690674\n",
      "1.3416483402252197\n",
      "1.283470630645752\n",
      "1.5045974254608154\n",
      "1.5130631923675537\n",
      "1.3143110275268555\n",
      "1.4126169681549072\n",
      "1.3567440509796143\n",
      "1.4446380138397217\n",
      "1.4272899627685547\n",
      "1.3690106868743896\n",
      "1.4017069339752197\n",
      "1.3119606971740723\n",
      "1.3828706741333008\n",
      "1.4640965461730957\n",
      "1.3645148277282715\n",
      "1.2930963039398193\n",
      "1.3722507953643799\n",
      "1.3711206912994385\n",
      "1.4041738510131836\n",
      "1.4383528232574463\n",
      "1.3251190185546875\n",
      "1.4813141822814941\n",
      "1.3147954940795898\n",
      "1.4885170459747314\n",
      "1.4788377285003662\n",
      "1.4409613609313965\n",
      "1.3342795372009277\n",
      "1.42588210105896\n",
      "1.4629340171813965\n",
      "1.4360263347625732\n",
      "1.4982011318206787\n",
      "1.4160194396972656\n",
      "1.4605154991149902\n",
      "1.3802988529205322\n",
      "1.3728954792022705\n",
      "1.3159880638122559\n",
      "1.3867683410644531\n",
      "1.3725473880767822\n",
      "1.3493456840515137\n",
      "1.3405966758728027\n",
      "1.4699959754943848\n",
      "1.362262487411499\n",
      "1.4302804470062256\n",
      "1.3443658351898193\n",
      "1.426342487335205\n",
      "1.360633134841919\n",
      "1.3004498481750488\n",
      "1.282400131225586\n",
      "1.3036487102508545\n",
      "1.2985849380493164\n",
      "1.4672317504882812\n",
      "1.2731208801269531\n",
      "1.293623924255371\n",
      "1.3467636108398438\n",
      "1.330549716949463\n",
      "1.311706781387329\n",
      "1.321950912475586\n"
     ]
    },
    {
     "ename": "KeyboardInterrupt",
     "evalue": "",
     "output_type": "error",
     "traceback": [
      "\u001b[0;31m---------------------------------------------------------------------------\u001b[0m",
      "\u001b[0;31mKeyboardInterrupt\u001b[0m                         Traceback (most recent call last)",
      "\u001b[0;32m/tmp/ipykernel_5178/4257400499.py\u001b[0m in \u001b[0;36m<module>\u001b[0;34m\u001b[0m\n\u001b[1;32m      2\u001b[0m \u001b[0;32mfor\u001b[0m \u001b[0mi\u001b[0m\u001b[0;34m,\u001b[0m \u001b[0mlab\u001b[0m \u001b[0;32min\u001b[0m \u001b[0menumerate\u001b[0m\u001b[0;34m(\u001b[0m\u001b[0munique_labs\u001b[0m\u001b[0;34m)\u001b[0m\u001b[0;34m:\u001b[0m\u001b[0;34m\u001b[0m\u001b[0;34m\u001b[0m\u001b[0m\n\u001b[1;32m      3\u001b[0m     \u001b[0mstart\u001b[0m \u001b[0;34m=\u001b[0m \u001b[0mtime\u001b[0m\u001b[0;34m.\u001b[0m\u001b[0mtime\u001b[0m\u001b[0;34m(\u001b[0m\u001b[0;34m)\u001b[0m\u001b[0;34m\u001b[0m\u001b[0;34m\u001b[0m\u001b[0m\n\u001b[0;32m----> 4\u001b[0;31m     \u001b[0mdf_lab\u001b[0m \u001b[0;34m=\u001b[0m \u001b[0mlab_file\u001b[0m\u001b[0;34m[\u001b[0m\u001b[0mlab_file\u001b[0m\u001b[0;34m[\u001b[0m\u001b[0;34m'labname'\u001b[0m\u001b[0;34m]\u001b[0m \u001b[0;34m==\u001b[0m \u001b[0mlab\u001b[0m\u001b[0;34m]\u001b[0m\u001b[0;34m\u001b[0m\u001b[0;34m\u001b[0m\u001b[0m\n\u001b[0m\u001b[1;32m      5\u001b[0m     \u001b[0mlab_count\u001b[0m \u001b[0;34m=\u001b[0m \u001b[0mdf_lab\u001b[0m\u001b[0;34m[\u001b[0m\u001b[0;34m'patientunitstayid'\u001b[0m\u001b[0;34m]\u001b[0m\u001b[0;34m.\u001b[0m\u001b[0mvalue_counts\u001b[0m\u001b[0;34m(\u001b[0m\u001b[0;34m)\u001b[0m\u001b[0;34m\u001b[0m\u001b[0;34m\u001b[0m\u001b[0m\n\u001b[1;32m      6\u001b[0m     \u001b[0mstats\u001b[0m \u001b[0;34m=\u001b[0m \u001b[0mget_stats\u001b[0m\u001b[0;34m(\u001b[0m\u001b[0mlab_count\u001b[0m\u001b[0;34m)\u001b[0m\u001b[0;34m\u001b[0m\u001b[0;34m\u001b[0m\u001b[0m\n",
      "\u001b[0;32m/mnt/Research/LCICM/Delirium/delirium/.venv/lib64/python3.10/site-packages/pandas/core/ops/common.py\u001b[0m in \u001b[0;36mnew_method\u001b[0;34m(self, other)\u001b[0m\n\u001b[1;32m     67\u001b[0m         \u001b[0mother\u001b[0m \u001b[0;34m=\u001b[0m \u001b[0mitem_from_zerodim\u001b[0m\u001b[0;34m(\u001b[0m\u001b[0mother\u001b[0m\u001b[0;34m)\u001b[0m\u001b[0;34m\u001b[0m\u001b[0;34m\u001b[0m\u001b[0m\n\u001b[1;32m     68\u001b[0m \u001b[0;34m\u001b[0m\u001b[0m\n\u001b[0;32m---> 69\u001b[0;31m         \u001b[0;32mreturn\u001b[0m \u001b[0mmethod\u001b[0m\u001b[0;34m(\u001b[0m\u001b[0mself\u001b[0m\u001b[0;34m,\u001b[0m \u001b[0mother\u001b[0m\u001b[0;34m)\u001b[0m\u001b[0;34m\u001b[0m\u001b[0;34m\u001b[0m\u001b[0m\n\u001b[0m\u001b[1;32m     70\u001b[0m \u001b[0;34m\u001b[0m\u001b[0m\n\u001b[1;32m     71\u001b[0m     \u001b[0;32mreturn\u001b[0m \u001b[0mnew_method\u001b[0m\u001b[0;34m\u001b[0m\u001b[0;34m\u001b[0m\u001b[0m\n",
      "\u001b[0;32m/mnt/Research/LCICM/Delirium/delirium/.venv/lib64/python3.10/site-packages/pandas/core/arraylike.py\u001b[0m in \u001b[0;36m__eq__\u001b[0;34m(self, other)\u001b[0m\n\u001b[1;32m     30\u001b[0m     \u001b[0;34m@\u001b[0m\u001b[0munpack_zerodim_and_defer\u001b[0m\u001b[0;34m(\u001b[0m\u001b[0;34m\"__eq__\"\u001b[0m\u001b[0;34m)\u001b[0m\u001b[0;34m\u001b[0m\u001b[0;34m\u001b[0m\u001b[0m\n\u001b[1;32m     31\u001b[0m     \u001b[0;32mdef\u001b[0m \u001b[0m__eq__\u001b[0m\u001b[0;34m(\u001b[0m\u001b[0mself\u001b[0m\u001b[0;34m,\u001b[0m \u001b[0mother\u001b[0m\u001b[0;34m)\u001b[0m\u001b[0;34m:\u001b[0m\u001b[0;34m\u001b[0m\u001b[0;34m\u001b[0m\u001b[0m\n\u001b[0;32m---> 32\u001b[0;31m         \u001b[0;32mreturn\u001b[0m \u001b[0mself\u001b[0m\u001b[0;34m.\u001b[0m\u001b[0m_cmp_method\u001b[0m\u001b[0;34m(\u001b[0m\u001b[0mother\u001b[0m\u001b[0;34m,\u001b[0m \u001b[0moperator\u001b[0m\u001b[0;34m.\u001b[0m\u001b[0meq\u001b[0m\u001b[0;34m)\u001b[0m\u001b[0;34m\u001b[0m\u001b[0;34m\u001b[0m\u001b[0m\n\u001b[0m\u001b[1;32m     33\u001b[0m \u001b[0;34m\u001b[0m\u001b[0m\n\u001b[1;32m     34\u001b[0m     \u001b[0;34m@\u001b[0m\u001b[0munpack_zerodim_and_defer\u001b[0m\u001b[0;34m(\u001b[0m\u001b[0;34m\"__ne__\"\u001b[0m\u001b[0;34m)\u001b[0m\u001b[0;34m\u001b[0m\u001b[0;34m\u001b[0m\u001b[0m\n",
      "\u001b[0;32m/mnt/Research/LCICM/Delirium/delirium/.venv/lib64/python3.10/site-packages/pandas/core/series.py\u001b[0m in \u001b[0;36m_cmp_method\u001b[0;34m(self, other, op)\u001b[0m\n\u001b[1;32m   5500\u001b[0m \u001b[0;34m\u001b[0m\u001b[0m\n\u001b[1;32m   5501\u001b[0m         \u001b[0;32mwith\u001b[0m \u001b[0mnp\u001b[0m\u001b[0;34m.\u001b[0m\u001b[0merrstate\u001b[0m\u001b[0;34m(\u001b[0m\u001b[0mall\u001b[0m\u001b[0;34m=\u001b[0m\u001b[0;34m\"ignore\"\u001b[0m\u001b[0;34m)\u001b[0m\u001b[0;34m:\u001b[0m\u001b[0;34m\u001b[0m\u001b[0;34m\u001b[0m\u001b[0m\n\u001b[0;32m-> 5502\u001b[0;31m             \u001b[0mres_values\u001b[0m \u001b[0;34m=\u001b[0m \u001b[0mops\u001b[0m\u001b[0;34m.\u001b[0m\u001b[0mcomparison_op\u001b[0m\u001b[0;34m(\u001b[0m\u001b[0mlvalues\u001b[0m\u001b[0;34m,\u001b[0m \u001b[0mrvalues\u001b[0m\u001b[0;34m,\u001b[0m \u001b[0mop\u001b[0m\u001b[0;34m)\u001b[0m\u001b[0;34m\u001b[0m\u001b[0;34m\u001b[0m\u001b[0m\n\u001b[0m\u001b[1;32m   5503\u001b[0m \u001b[0;34m\u001b[0m\u001b[0m\n\u001b[1;32m   5504\u001b[0m         \u001b[0;32mreturn\u001b[0m \u001b[0mself\u001b[0m\u001b[0;34m.\u001b[0m\u001b[0m_construct_result\u001b[0m\u001b[0;34m(\u001b[0m\u001b[0mres_values\u001b[0m\u001b[0;34m,\u001b[0m \u001b[0mname\u001b[0m\u001b[0;34m=\u001b[0m\u001b[0mres_name\u001b[0m\u001b[0;34m)\u001b[0m\u001b[0;34m\u001b[0m\u001b[0;34m\u001b[0m\u001b[0m\n",
      "\u001b[0;32m/mnt/Research/LCICM/Delirium/delirium/.venv/lib64/python3.10/site-packages/pandas/core/ops/array_ops.py\u001b[0m in \u001b[0;36mcomparison_op\u001b[0;34m(left, right, op)\u001b[0m\n\u001b[1;32m    282\u001b[0m \u001b[0;34m\u001b[0m\u001b[0m\n\u001b[1;32m    283\u001b[0m     \u001b[0;32melif\u001b[0m \u001b[0mis_object_dtype\u001b[0m\u001b[0;34m(\u001b[0m\u001b[0mlvalues\u001b[0m\u001b[0;34m.\u001b[0m\u001b[0mdtype\u001b[0m\u001b[0;34m)\u001b[0m \u001b[0;32mor\u001b[0m \u001b[0misinstance\u001b[0m\u001b[0;34m(\u001b[0m\u001b[0mrvalues\u001b[0m\u001b[0;34m,\u001b[0m \u001b[0mstr\u001b[0m\u001b[0;34m)\u001b[0m\u001b[0;34m:\u001b[0m\u001b[0;34m\u001b[0m\u001b[0;34m\u001b[0m\u001b[0m\n\u001b[0;32m--> 284\u001b[0;31m         \u001b[0mres_values\u001b[0m \u001b[0;34m=\u001b[0m \u001b[0mcomp_method_OBJECT_ARRAY\u001b[0m\u001b[0;34m(\u001b[0m\u001b[0mop\u001b[0m\u001b[0;34m,\u001b[0m \u001b[0mlvalues\u001b[0m\u001b[0;34m,\u001b[0m \u001b[0mrvalues\u001b[0m\u001b[0;34m)\u001b[0m\u001b[0;34m\u001b[0m\u001b[0;34m\u001b[0m\u001b[0m\n\u001b[0m\u001b[1;32m    285\u001b[0m \u001b[0;34m\u001b[0m\u001b[0m\n\u001b[1;32m    286\u001b[0m     \u001b[0;32melse\u001b[0m\u001b[0;34m:\u001b[0m\u001b[0;34m\u001b[0m\u001b[0;34m\u001b[0m\u001b[0m\n",
      "\u001b[0;32m/mnt/Research/LCICM/Delirium/delirium/.venv/lib64/python3.10/site-packages/pandas/core/ops/array_ops.py\u001b[0m in \u001b[0;36mcomp_method_OBJECT_ARRAY\u001b[0;34m(op, x, y)\u001b[0m\n\u001b[1;32m     71\u001b[0m         \u001b[0mresult\u001b[0m \u001b[0;34m=\u001b[0m \u001b[0mlibops\u001b[0m\u001b[0;34m.\u001b[0m\u001b[0mvec_compare\u001b[0m\u001b[0;34m(\u001b[0m\u001b[0mx\u001b[0m\u001b[0;34m.\u001b[0m\u001b[0mravel\u001b[0m\u001b[0;34m(\u001b[0m\u001b[0;34m)\u001b[0m\u001b[0;34m,\u001b[0m \u001b[0my\u001b[0m\u001b[0;34m.\u001b[0m\u001b[0mravel\u001b[0m\u001b[0;34m(\u001b[0m\u001b[0;34m)\u001b[0m\u001b[0;34m,\u001b[0m \u001b[0mop\u001b[0m\u001b[0;34m)\u001b[0m\u001b[0;34m\u001b[0m\u001b[0;34m\u001b[0m\u001b[0m\n\u001b[1;32m     72\u001b[0m     \u001b[0;32melse\u001b[0m\u001b[0;34m:\u001b[0m\u001b[0;34m\u001b[0m\u001b[0;34m\u001b[0m\u001b[0m\n\u001b[0;32m---> 73\u001b[0;31m         \u001b[0mresult\u001b[0m \u001b[0;34m=\u001b[0m \u001b[0mlibops\u001b[0m\u001b[0;34m.\u001b[0m\u001b[0mscalar_compare\u001b[0m\u001b[0;34m(\u001b[0m\u001b[0mx\u001b[0m\u001b[0;34m.\u001b[0m\u001b[0mravel\u001b[0m\u001b[0;34m(\u001b[0m\u001b[0;34m)\u001b[0m\u001b[0;34m,\u001b[0m \u001b[0my\u001b[0m\u001b[0;34m,\u001b[0m \u001b[0mop\u001b[0m\u001b[0;34m)\u001b[0m\u001b[0;34m\u001b[0m\u001b[0;34m\u001b[0m\u001b[0m\n\u001b[0m\u001b[1;32m     74\u001b[0m     \u001b[0;32mreturn\u001b[0m \u001b[0mresult\u001b[0m\u001b[0;34m.\u001b[0m\u001b[0mreshape\u001b[0m\u001b[0;34m(\u001b[0m\u001b[0mx\u001b[0m\u001b[0;34m.\u001b[0m\u001b[0mshape\u001b[0m\u001b[0;34m)\u001b[0m\u001b[0;34m\u001b[0m\u001b[0;34m\u001b[0m\u001b[0m\n\u001b[1;32m     75\u001b[0m \u001b[0;34m\u001b[0m\u001b[0m\n",
      "\u001b[0;31mKeyboardInterrupt\u001b[0m: "
     ]
    }
   ],
   "source": [
    "lab_count_arr = []\n",
    "for lab in unique_labs:\n",
    "\n",
    "    df_lab = lab_file[lab_file['labname'] == lab]\n",
    "    lab_count = df_lab['patientunitstayid'].value_counts()\n",
    "    stats = get_stats(lab, lab_count)\n",
    "    lab_count_arr.append(stats)\n",
    "\n",
    "count_df = pd.DataFrame(lab_count_arr, columns = [\"lab\", \"mean\", \"var\", \"median\", \"IQR\", \"min\", \"max\", \"n\"])"
   ]
  },
  {
   "cell_type": "markdown",
   "metadata": {},
   "source": [
    "With np\n",
    "1.3626985549926758\n",
    "1.3909518718719482\n",
    "1.426476001739502\n",
    "1.3307390213012695\n",
    "1.3294603824615479\n",
    "With PD and size\n",
    "1.3576700687408447\n",
    "1.3703715801239014\n",
    "1.4107935428619385\n",
    "1.35439133644104\n",
    "1.3607184886932373\n",
    "With PD and pd.DataFrame.empty\n",
    "1.3310844898223877\n",
    "1.3648407459259033\n",
    "1.3740041255950928\n",
    "1.3264544010162354\n",
    "1.3400328159332275\n",
    "With np using predefined array size\n",
    "1.3491873741149902\n",
    "1.3704020977020264\n",
    "1.3802015781402588\n",
    "1.3316471576690674\n",
    "1.3416483402252197"
   ]
  },
  {
   "cell_type": "code",
   "execution_count": 39,
   "metadata": {},
   "outputs": [],
   "source": [
    "d_lab_count_arr = []\n",
    "for lab in unique_labs:\n",
    "    df_lab = d_lab_file[d_lab_file['labname'] == lab]\n",
    "    lab_count = df_lab['patientunitstayid'].value_counts()\n",
    "    stats = get_stats(lab, lab_count.to_numpy())\n",
    "    d_lab_count_arr.append(stats)\n",
    "d_count_df = pd.DataFrame(d_lab_count_arr, columns = [\"lab\", \"mean\", \"var\", \"median\", \"IQR\", \"min\", \"max\", \"n\"])"
   ]
  },
  {
   "cell_type": "code",
   "execution_count": null,
   "metadata": {},
   "outputs": [],
   "source": [
    "count_df.to_csv(file_path.joinpath('LabCount.csv'))\n",
    "d_count_df.to_csv(file_path.joinpath('LabCount_delirium.csv'))"
   ]
  },
  {
   "cell_type": "code",
   "execution_count": 59,
   "metadata": {},
   "outputs": [
    {
     "name": "stderr",
     "output_type": "stream",
     "text": [
      "/mnt/Research/LCICM/Delirium/delirium/.venv/lib64/python3.10/site-packages/numpy/core/fromnumeric.py:3440: RuntimeWarning: Mean of empty slice.\n",
      "  return _methods._mean(a, axis=axis, dtype=dtype,\n",
      "/mnt/Research/LCICM/Delirium/delirium/.venv/lib64/python3.10/site-packages/numpy/core/_methods.py:189: RuntimeWarning: invalid value encountered in double_scalars\n",
      "  ret = ret.dtype.type(ret / rcount)\n"
     ]
    }
   ],
   "source": [
    "# freq_stats = []\n",
    "rev_freq_stats = []\n",
    "for lab in unique_labs:\n",
    "    print(lab)\n",
    "    df_lab = lab_file[lab_file['labname'] == lab]\n",
    "    lab_count = df_lab['patientunitstayid'].value_counts()\n",
    "    # freq_arr = []\n",
    "    rev_freq_arr = []\n",
    "    for id, count in lab_count.iteritems():\n",
    "        df_id = df_lab[df_lab['patientunitstayid'] == id]\n",
    "\n",
    "        # times = np.sort(df_id['labresultoffset'].to_numpy())\n",
    "        # time_diff = times[1:] - times[:-1]\n",
    "        # time_diff = time_diff[time_diff != 0]\n",
    "        # freq_arr.extend(time_diff)\n",
    "\n",
    "        rev_times = np.sort(df_id['labresultrevisedoffset'].to_numpy())\n",
    "        rev_time_diff = rev_times[1:] - rev_times[:-1]\n",
    "        rev_time_diff = rev_time_diff[rev_time_diff != 0]\n",
    "        rev_freq_arr.extend(rev_time_diff)\n",
    "\n",
    "    # freq_stats.append(get_stats(lab, pd.DataFrame(freq_arr)))\n",
    "    rev_freq_stats.append(get_stats(lab, pd.DataFrame(rev_freq_arr)))\n",
    "\n",
    "rev_freq_df = pd.DataFrame(rev_freq_stats)\n",
    "    \n",
    "        \n",
    "        \n"
   ]
  },
  {
   "cell_type": "code",
   "execution_count": 22,
   "metadata": {},
   "outputs": [
    {
     "name": "stdout",
     "output_type": "stream",
     "text": [
      "[-47319570      -350      -160        43       281       588       768\n",
      "      1251      1832      2235      2472      2683      3013      4125\n",
      "      4593      4887      5565      7348      8484     10210     13028\n",
      "     13041     14256     18869     19095] [47319220      190      203      238      307      180      483      581\n",
      "      403      237      211      330     1112      468      294      678\n",
      "     1783     1136     1726     2818       13     1215     4613      226]\n",
      "[-47319570      -350      -160        43       281       588       768\n",
      "      1251      1832      2235      2472      2683      3013      4125\n",
      "      4593      4887      5565      7348      8484     10210     13028\n",
      "     13041     14256     18869     19095] [47319220      190      203      238      307      180      483      581\n",
      "      403      237      211      330     1112      468      294      678\n",
      "     1783     1136     1726     2818       13     1215     4613      226]\n",
      "[-47319570      -350      -160        43       281       588       768\n",
      "      1251      1832      2235      2472      2683      3013      4125\n",
      "      4593      4887      5565      7348      8484     10210     13028\n",
      "     13041     14256     19095] [47319220      190      203      238      307      180      483      581\n",
      "      403      237      211      330     1112      468      294      678\n",
      "     1783     1136     1726     2818       13     1215     4839]\n",
      "[-47319570      -350      -160        43       281       588       768\n",
      "      1251      1832      2235      2472      2683      3013      4125\n",
      "      4593      4887      5565      7348      8484     10210     13028\n",
      "     13041     14256     18869     19095] [47319220      190      203      238      307      180      483      581\n",
      "      403      237      211      330     1112      468      294      678\n",
      "     1783     1136     1726     2818       13     1215     4613      226]\n",
      "[-47319570      -350      -160        43       281       588       768\n",
      "      1251      1832      2235      2472      2683      3013      4125\n",
      "      4593      4887      5565      7348      8484     10210     13028\n",
      "     13041     14256     18869     19095] [47319220      190      203      238      307      180      483      581\n",
      "      403      237      211      330     1112      468      294      678\n",
      "     1783     1136     1726     2818       13     1215     4613      226]\n",
      "[-47319570      -350      -344      -165      -160        43       281\n",
      "       588       768      1239      2235      2680      4125      4145\n",
      "      5565      5565      7052      8475      8484      9423      9915\n",
      "     10550     10550     10980     11315     12765     14152     14256\n",
      "     14725     15645     17093     17922     18570     19095] [47319220        6      179        5      203      238      307      180\n",
      "      471      996      445     1445       20     1420     1487     1423\n",
      "        9      939      492      635      430      335     1450     1387\n",
      "      104      469      920     1448      829      648      525]\n",
      "[-47319570      -350      -160        43       281       588       768\n",
      "      1251      1832      2235      2472      2683      3013      4125\n",
      "      4593      4887      5565      7348      8484     10210     13028\n",
      "     13041     14256     18869     19095] [47319220      190      203      238      307      180      483      581\n",
      "      403      237      211      330     1112      468      294      678\n",
      "     1783     1136     1726     2818       13     1215     4613      226]\n",
      "[-47319570      -350      -160        43       281       588       768\n",
      "      1251      1832      2235      2472      2683      3013      4125\n",
      "      4593      4887      5565      7348      8484     10210     13028\n",
      "     13041     14256     18869     19095] [47319220      190      203      238      307      180      483      581\n",
      "      403      237      211      330     1112      468      294      678\n",
      "     1783     1136     1726     2818       13     1215     4613      226]\n",
      "[-47319570      -350      -160        43       281       588       768\n",
      "      1251      1832      2235      2472      2683      3013      4125\n",
      "      4593      4887      5565      7348      8484     10210     13028\n",
      "     13041     14256] [47319220      190      203      238      307      180      483      581\n",
      "      403      237      211      330     1112      468      294      678\n",
      "     1783     1136     1726     2818       13     1215]\n"
     ]
    }
   ],
   "source": [
    "# d_freq_stats = []\n",
    "d_rev_freq_stats = []\n",
    "for lab in unique_labs:\n",
    "    \n",
    "    df_lab = d_lab_file[d_lab_file['labname'] == lab]\n",
    "    lab_count = df_lab['patientunitstayid'].value_counts()\n",
    "    # freq_arr = []\n",
    "    rev_freq_arr = []\n",
    "    for id, count in lab_count.iteritems():\n",
    "        df_id = df_lab[df_lab['patientunitstayid'] == id]\n",
    "\n",
    "        # times = np.sort(df_id['labresultoffset'].to_numpy())\n",
    "        # time_diff = times[1:] - times[:-1]\n",
    "        # time_diff = time_diff[time_diff != 0]\n",
    "        # freq_arr.extend(time_diff)\n",
    "\n",
    "        rev_times = np.sort(df_id['labresultrevisedoffset'].to_numpy(dtype=int))\n",
    "        rev_times = rev_times[rev_times > 0]\n",
    "        # print(id, type(rev_times))\n",
    "        #required because squeezing one row into a series turns \n",
    "        rev_time_diff = rev_times[1:] - rev_times[:-1]\n",
    "        rev_time_diff = rev_time_diff[rev_time_diff != 0]\n",
    "        rev_freq_arr.extend(rev_time_diff)\n",
    "\n",
    "        # print(rev_times)\n",
    "\n",
    "\n",
    "    # d_freq_stats.append(get_stats(lab, pd.DataFrame(freq_arr)))\n",
    "    d_rev_freq_stats.append(get_stats(lab, pd.DataFrame(rev_freq_arr)))\n",
    "d_rev_freq_df = pd.DataFrame(d_rev_freq_stats, columns=[\"lab\", \"mean\", \"var\", \"median\", \"IQR\", \"min\", \"max\", \"n\"])"
   ]
  },
  {
   "cell_type": "markdown",
   "metadata": {},
   "source": [
    "6.18 min using list appending and np array subtraction"
   ]
  },
  {
   "cell_type": "code",
   "execution_count": 23,
   "metadata": {},
   "outputs": [
    {
     "name": "stdout",
     "output_type": "stream",
     "text": [
      "                      lab                             mean  \\\n",
      "0              fibrinogen  0    1638.925429\n",
      "dtype: float64   \n",
      "1                PT - INR  0    1972.715887\n",
      "dtype: float64   \n",
      "2               magnesium  0    1636.070943\n",
      "dtype: float64   \n",
      "3                      PT  0    1974.185433\n",
      "dtype: float64   \n",
      "4                      pH  0    1992.917957\n",
      "dtype: float64   \n",
      "..                    ...                              ...   \n",
      "153       Amikacin - peak       0    2218.5\n",
      "dtype: float64   \n",
      "154            Vent Other   0    2121.27957\n",
      "dtype: float64   \n",
      "155  HSV 1&2 IgG AB titer                              NaN   \n",
      "156            HIV 1&2 AB                              NaN   \n",
      "157        HSV 1&2 IgG AB                              NaN   \n",
      "\n",
      "                                  var  median      IQR                    min  \\\n",
      "0    0    1.364972e+07\n",
      "dtype: float64   571.5  1113.25    0    1\n",
      "dtype: int64   \n",
      "1    0    1.468596e+07\n",
      "dtype: float64  1413.0   706.00    0    1\n",
      "dtype: int64   \n",
      "2    0    4.322204e+06\n",
      "dtype: float64  1409.0   743.00    0    1\n",
      "dtype: int64   \n",
      "3    0    1.471042e+07\n",
      "dtype: float64  1413.5   708.00    0    1\n",
      "dtype: int64   \n",
      "4    0    4.180781e+10\n",
      "dtype: float64   449.0  1206.00    0    1\n",
      "dtype: int64   \n",
      "..                                ...     ...      ...                    ...   \n",
      "153  0    3.316872e+06\n",
      "dtype: float64  2079.0  2239.00  0    286\n",
      "dtype: int64   \n",
      "154  0    1.682700e+07\n",
      "dtype: float64   854.0  1790.00    0    1\n",
      "dtype: int64   \n",
      "155                               NaN     NaN      NaN                    NaN   \n",
      "156                               NaN     NaN      NaN                    NaN   \n",
      "157                               NaN     NaN      NaN                    NaN   \n",
      "\n",
      "                            max        n  \n",
      "0       0    66118\n",
      "dtype: int64   3500.0  \n",
      "1      0    477665\n",
      "dtype: int64  47298.0  \n",
      "2       0    90605\n",
      "dtype: int64  82320.0  \n",
      "3      0    477665\n",
      "dtype: int64  47160.0  \n",
      "4    0    47319220\n",
      "dtype: int64  53606.0  \n",
      "..                          ...      ...  \n",
      "153      0    4430\n",
      "dtype: int64      4.0  \n",
      "154     0    57364\n",
      "dtype: int64    465.0  \n",
      "155                         NaN      NaN  \n",
      "156                         NaN      NaN  \n",
      "157                         NaN      NaN  \n",
      "\n",
      "[158 rows x 8 columns]\n"
     ]
    }
   ],
   "source": [
    "#rev_freq_df = pd.DataFrame(rev_freq_stats, columns=[\"lab\", \"mean\", \"var\", \"median\", \"IQR\", \"min\", \"max\", \"n\"])\n",
    "d_rev_freq_df.to_csv(file_path.joinpath('FreqPrevalence_delirium.csv'))\n",
    "print(d_rev_freq_df)"
   ]
  }
 ],
 "metadata": {
  "interpreter": {
   "hash": "b49efbba663b85a8e44b0a315541c3753d6b00aa565cbe8f63abd7edbe2c0996"
  },
  "kernelspec": {
   "display_name": "Python 3.10.1 64-bit ('.venv': venv)",
   "language": "python",
   "name": "python3"
  },
  "language_info": {
   "codemirror_mode": {
    "name": "ipython",
    "version": 3
   },
   "file_extension": ".py",
   "mimetype": "text/x-python",
   "name": "python",
   "nbconvert_exporter": "python",
   "pygments_lexer": "ipython3",
   "version": "3.10.1"
  },
  "orig_nbformat": 4
 },
 "nbformat": 4,
 "nbformat_minor": 2
}
