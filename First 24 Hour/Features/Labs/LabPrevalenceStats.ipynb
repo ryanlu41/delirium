{
 "cells": [
  {
   "cell_type": "code",
   "execution_count": 71,
   "metadata": {},
   "outputs": [],
   "source": [
    "from pathlib import Path, PurePath\n",
    "import glob\n",
    "import os\n",
    "import numpy as np\n",
    "import csv\n",
    "import pandas as pd\n",
    "import time\n",
    "import matplotlib.pyplot as plt"
   ]
  },
  {
   "cell_type": "code",
   "execution_count": 72,
   "metadata": {},
   "outputs": [],
   "source": [
    "file_path = PurePath(os.getcwd())\n",
    "dataset_path = file_path.parent.parent.parent.joinpath('eicu')"
   ]
  },
  {
   "cell_type": "code",
   "execution_count": 73,
   "metadata": {},
   "outputs": [],
   "source": [
    "lab_file = pd.read_csv(dataset_path.joinpath('lab.csv'))\n",
    "# lab_prev = lab_file['labname'].value_counts()\n",
    "d_lab_file = pd.read_csv(dataset_path.joinpath('lab_delirium.csv'))\n",
    "# lab_del_prev = lab_del_file['labname'].value_counts()"
   ]
  },
  {
   "cell_type": "code",
   "execution_count": 74,
   "metadata": {},
   "outputs": [],
   "source": [
    "lab_file = lab_file[['patientunitstayid', 'labresultoffset', 'labname', 'labresultrevisedoffset']]\n",
    "d_lab_file = d_lab_file[['patientunitstayid', 'labresultoffset', 'labname', 'labresultrevisedoffset']]"
   ]
  },
  {
   "cell_type": "markdown",
   "metadata": {},
   "source": [
    "'labid', 'patientunitstayid', 'labresultoffset', 'labtypeid', 'labname', 'labresult','labresulttext', 'labmeasurenamesystem', 'labmeasurenameinterface', 'labresultrevisedoffset'"
   ]
  },
  {
   "cell_type": "code",
   "execution_count": 75,
   "metadata": {},
   "outputs": [],
   "source": [
    "unique_ids = lab_file['patientunitstayid'].unique()\n",
    "d_unique_ids = d_lab_file['patientunitstayid'].unique()\n",
    "unique_labs = lab_file['labname'].unique()"
   ]
  },
  {
   "cell_type": "code",
   "execution_count": 76,
   "metadata": {},
   "outputs": [
    {
     "name": "stdout",
     "output_type": "stream",
     "text": [
      "[141168 141178 141179 141194 141196 141197 141203 141208 141227 141229]\n",
      "[149321 150934 151213 151708 152171 155126 156970 162054 163084 164338]\n",
      "['fibrinogen' 'PT - INR' 'magnesium' 'PT' 'pH' 'urinary creatinine' 'MCH'\n",
      " 'BUN' 'urinary sodium' 'HCO3']\n"
     ]
    }
   ],
   "source": [
    "print(unique_ids[0:10])\n",
    "print(d_unique_ids[0:10])\n",
    "print(unique_labs[0:10])"
   ]
  },
  {
   "cell_type": "code",
   "execution_count": 77,
   "metadata": {},
   "outputs": [],
   "source": [
    "columns = []\n",
    "for lab in unique_labs:\n",
    "    columns.append(lab + 'count')\n",
    "    columns.append(lab + 'mean')\n",
    "    columns.append(lab + 'median')\n",
    "    columns.append(lab)"
   ]
  },
  {
   "cell_type": "code",
   "execution_count": null,
   "metadata": {},
   "outputs": [],
   "source": [
    "\n",
    "\n",
    "for id in unique_ids:\n",
    "\n",
    "    df_id = lab_file[lab_file['patientunitstayid'] == id]\n",
    "\n",
    "    for lab in unique_labs:\n",
    "        \n",
    "        df_lab = df_id[df_id['labname'] == lab]\n",
    "        # df_lab = df_lab.sort_values(axis=0, by='labresultoffset')\n",
    "        # print(df_lab)\n",
    "        times = np.sort(df_lab['labresultoffset'].to_numpy())\n",
    "        rev_times = np.sort(df_lab['labresultrevisedoffset'].to_numpy())\n",
    "        count = len(times)\n",
    "        time_diff = times[1:] - times[:-1]\n",
    "        time_diff = time_diff[time_diff != 0]\n",
    "        rev_time_diff = rev_times[1:] - rev_times[:-1]\n",
    "        rev_time_diff = rev_time_diff[rev_time_diff != 0]\n",
    "\n",
    "        "
   ]
  },
  {
   "cell_type": "code",
   "execution_count": 86,
   "metadata": {},
   "outputs": [
    {
     "name": "stdout",
     "output_type": "stream",
     "text": [
      "1.0\n"
     ]
    }
   ],
   "source": [
    "df_lab = lab_file[lab_file['labname'] == 'fibrinogen']\n",
    "# print(df_lab[df_lab['patientunitstayid'] == 2074269])\n",
    "lab_count = df_lab['patientunitstayid'].value_counts()\n",
    "print(lab_count.median())"
   ]
  },
  {
   "cell_type": "code",
   "execution_count": 99,
   "metadata": {},
   "outputs": [],
   "source": [
    "def get_stats(arr : pd.DataFrame):\n",
    "    if arr.empty:\n",
    "        IQR = np.NaN\n",
    "    else: \n",
    "        q3, q1 = np.percentile(arr, [75, 25])\n",
    "        IQR = q3 - q1\n",
    "    # mean = arr.mean()\n",
    "    # median = arr.median()\n",
    "    # var = arr.var()\n",
    "    # minima = arr.min()\n",
    "    # maxima = arr.max()\n",
    "    # return mean, var, median, IQR, minima, maxima\n",
    "    return arr.mean(), arr.var(), arr.median(), IQR, arr.min(), arr.max(), len(arr)"
   ]
  },
  {
   "cell_type": "code",
   "execution_count": 102,
   "metadata": {},
   "outputs": [],
   "source": [
    "\n",
    "\n",
    "lab_count_arr = []\n",
    "for lab in unique_labs:\n",
    "    df_lab = lab_file[lab_file['labname'] == lab]\n",
    "    lab_count = df_lab['patientunitstayid'].value_counts()\n",
    "    mean, var, median, IQR, minima, maxima, count = get_stats(lab_count)\n",
    "    lab_count_arr.append([lab, mean, var, median, IQR, minima, maxima, count])\n",
    "count_df = pd.DataFrame(lab_count_arr, columns = [\"lab\", \"mean\", \"var\", \"median\", \"IQR\", \"min\", \"max\", \"n\"])\n",
    "\n"
   ]
  },
  {
   "cell_type": "code",
   "execution_count": 103,
   "metadata": {},
   "outputs": [],
   "source": [
    "d_lab_count_arr = []\n",
    "for lab in unique_labs:\n",
    "    df_lab = d_lab_file[d_lab_file['labname'] == lab]\n",
    "    lab_count = df_lab['patientunitstayid'].value_counts()\n",
    "    mean, var, median, IQR, minima, maxima, count = get_stats(lab_count)\n",
    "    d_lab_count_arr.append([lab, mean, var, median, IQR, minima, maxima, count])\n",
    "d_count_df = pd.DataFrame(d_lab_count_arr, columns = [\"lab\", \"mean\", \"var\", \"median\", \"IQR\", \"min\", \"max\", \"n\"])\n"
   ]
  },
  {
   "cell_type": "code",
   "execution_count": 104,
   "metadata": {},
   "outputs": [],
   "source": [
    "count_df.to_csv(file_path.joinpath('LabsPerPatientStats.csv'))\n",
    "d_count_df.to_csv(file_path.joinpath('LabsPerPatient_delirium.csv'))"
   ]
  }
 ],
 "metadata": {
  "interpreter": {
   "hash": "b49efbba663b85a8e44b0a315541c3753d6b00aa565cbe8f63abd7edbe2c0996"
  },
  "kernelspec": {
   "display_name": "Python 3.10.1 64-bit ('.venv': venv)",
   "language": "python",
   "name": "python3"
  },
  "language_info": {
   "codemirror_mode": {
    "name": "ipython",
    "version": 3
   },
   "file_extension": ".py",
   "mimetype": "text/x-python",
   "name": "python",
   "nbconvert_exporter": "python",
   "pygments_lexer": "ipython3",
   "version": "3.10.1"
  },
  "orig_nbformat": 4
 },
 "nbformat": 4,
 "nbformat_minor": 2
}
