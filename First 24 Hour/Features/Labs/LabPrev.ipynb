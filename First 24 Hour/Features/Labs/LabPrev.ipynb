{
 "cells": [
  {
   "cell_type": "code",
   "execution_count": 395,
   "metadata": {},
   "outputs": [],
   "source": [
    "from pathlib import Path, PurePath\n",
    "import glob\n",
    "import os\n",
    "import numpy as np\n",
    "import csv\n",
    "import pandas as pd\n",
    "import time\n",
    "import matplotlib.pyplot as plt"
   ]
  },
  {
   "cell_type": "code",
   "execution_count": 396,
   "metadata": {},
   "outputs": [],
   "source": [
    "file_path = PurePath(os.getcwd())\n",
    "dataset_path = file_path.parent.parent.parent.joinpath('eicu')"
   ]
  },
  {
   "cell_type": "code",
   "execution_count": 397,
   "metadata": {},
   "outputs": [],
   "source": [
    "column_names = [\n",
    "    'patientunitstayid', 'labresultoffset', 'labname', 'labresultrevisedoffset']"
   ]
  },
  {
   "cell_type": "code",
   "execution_count": 398,
   "metadata": {},
   "outputs": [],
   "source": [
    "lab_file = pd.read_csv(dataset_path.joinpath('lab.csv'), usecols=column_names)\n",
    "\n",
    "d_lab_file = pd.read_csv(dataset_path.joinpath('lab_delirium.csv'), usecols=column_names)\n",
    "\n"
   ]
  },
  {
   "cell_type": "code",
   "execution_count": 399,
   "metadata": {},
   "outputs": [],
   "source": [
    "lab_file = lab_file[lab_file['labresultoffset'] >0]\n",
    "d_lab_file = d_lab_file[d_lab_file['labresultoffset'] > 0]"
   ]
  },
  {
   "cell_type": "code",
   "execution_count": 400,
   "metadata": {},
   "outputs": [],
   "source": [
    "unique_ids = lab_file['patientunitstayid'].unique()\n",
    "d_unique_ids = d_lab_file['patientunitstayid'].unique()\n",
    "unique_labs = lab_file['labname'].unique()\n",
    "lab_index = {lab: idx for idx, lab in enumerate(unique_labs)}\n"
   ]
  },
  {
   "cell_type": "code",
   "execution_count": 401,
   "metadata": {},
   "outputs": [],
   "source": [
    "mapped_lab_file = lab_file.replace(lab_index)\n",
    "d_mapped_lab_file = d_lab_file.replace(lab_index)\n",
    "\n",
    "#saves me time in the long run by reducing computing times"
   ]
  },
  {
   "cell_type": "code",
   "execution_count": 402,
   "metadata": {},
   "outputs": [],
   "source": [
    "mapped_lab_arr = mapped_lab_file.to_numpy(dtype=int)\n",
    "d_mapped_lab_arr = d_mapped_lab_file.to_numpy(dtype=int)"
   ]
  },
  {
   "cell_type": "code",
   "execution_count": 403,
   "metadata": {},
   "outputs": [],
   "source": [
    "def get_stats(lab, arr):\n",
    "    if np.size(arr):\n",
    "        q3, q1 = np.percentile(arr, [75, 25])\n",
    "        IQR = q3 - q1\n",
    "    else:\n",
    "        return [unique_labs[lab], np.NaN, np.NaN, np.NaN, np.NaN]\n",
    "    # mean = arr.mean()\n",
    "    # median = arr.median()\n",
    "    # var = arr.var()\n",
    "    # minima = arr.min()\n",
    "    # maxima = arr.max()\n",
    "    # return mean, var, median, IQR, minima, maxima\n",
    "    return [unique_labs[lab], np.mean(arr), np.var(arr), np.median(arr), IQR, np.min(arr), np.max(arr)]\n",
    "    "
   ]
  },
  {
   "cell_type": "code",
   "execution_count": 428,
   "metadata": {},
   "outputs": [],
   "source": [
    "freq_stats = []\n",
    "count_stats = []\n",
    "for lab in range(158):\n",
    "    df_lab = mapped_lab_file[mapped_lab_file['labname'] == lab]\n",
    "    if df_lab.empty:\n",
    "        freq_stats.append(get_stats(lab, []))\n",
    "        continue\n",
    "    \n",
    "    df_lab_sorted = df_lab.sort_values(by=['patientunitstayid','labresultoffset']).reset_index()\n",
    "    lab_counts = df_lab_sorted['patientunitstayid'].value_counts()\n",
    "\n",
    "    count_stats.append([unique_labs[lab], lab_counts.mean(), lab_counts.var(), lab_counts.median(), lab_counts.sum(), len(lab_counts)])\n",
    "    \n",
    "    lab_counts = lab_counts.to_dict()\n",
    "    arr_lab = df_lab_sorted.to_numpy(dtype=int)\n",
    "    \n",
    "    index_map = [0]\n",
    "    length_map = []\n",
    "    for i, id in enumerate(df_lab['patientunitstayid'].unique()):\n",
    "        index_map.append(index_map[i] + lab_counts[id])\n",
    "        length_map.append(lab_counts[id])\n",
    "    index_map = index_map[:-1]\n",
    "    index_m_arr = np.asarray(index_map)\n",
    "    length_m_arr = np.asarray(length_map)\n",
    "\n",
    "    all_times = arr_lab[:, -3]\n",
    "    time_diff = all_times[1:] - all_times[:-1]\n",
    "    afil1 = index_m_arr - 1\n",
    "    afil2 = index_m_arr[length_m_arr == 1]\n",
    "    anti_filter = np.append(afil1, afil2)\n",
    "    true_filter = ~np.isin(np.arange(all_times.size - 1), anti_filter)\n",
    "    filtered_time_diff = time_diff[true_filter]\n",
    "    filtered_time_diff = filtered_time_diff[filtered_time_diff != 0]\n",
    "\n",
    "\n",
    "    freq_stats.append(get_stats(lab, filtered_time_diff))\n",
    "freq_stats_df = pd.DataFrame(freq_stats, columns = [\"lab\", \"mean\", \"var\", \"median\", \"IQR\", \"min\", \"max\"])\n",
    "\n",
    "    "
   ]
  },
  {
   "cell_type": "code",
   "execution_count": 430,
   "metadata": {},
   "outputs": [
    {
     "name": "stdout",
     "output_type": "stream",
     "text": [
      "                      lab      mean        var  median  total labs  \\\n",
      "0              fibrinogen  2.275553  11.554940     1.0       30456   \n",
      "1                PT - INR  3.551265  22.282565     2.0      296694   \n",
      "2               magnesium  4.592734  36.319997     3.0      576062   \n",
      "3                      PT  3.526298  21.938640     2.0      287150   \n",
      "4                      pH  4.717114  60.218341     2.0      318825   \n",
      "..                    ...       ...        ...     ...         ...   \n",
      "153            Vent Other  2.175074   4.513137     1.0        1466   \n",
      "154  HSV 1&2 IgG AB titer  1.000000   0.000000     1.0           7   \n",
      "155             RPR titer  1.000000        NaN     1.0           1   \n",
      "156            HIV 1&2 AB  1.000000   0.000000     1.0           6   \n",
      "157        HSV 1&2 IgG AB  1.096774   0.090323     1.0          34   \n",
      "\n",
      "     patients w/ lab  \n",
      "0              13384  \n",
      "1              83546  \n",
      "2             125429  \n",
      "3              81431  \n",
      "4              67589  \n",
      "..               ...  \n",
      "153              674  \n",
      "154                7  \n",
      "155                1  \n",
      "156                6  \n",
      "157               31  \n",
      "\n",
      "[158 rows x 6 columns]\n"
     ]
    }
   ],
   "source": [
    "count_stats_df = pd.DataFrame(count_stats, columns = [\"lab\", \"mean\", \"var\", \"median\", \"total labs\", \"patients w/ lab\"])\n",
    "print(count_stats_df)"
   ]
  },
  {
   "cell_type": "code",
   "execution_count": 405,
   "metadata": {},
   "outputs": [
    {
     "name": "stdout",
     "output_type": "stream",
     "text": [
      "                      lab         mean           var  median      IQR    min  \\\n",
      "0              fibrinogen  1353.188729  1.193593e+07   515.0  1048.00    1.0   \n",
      "1                PT - INR  1724.244717  8.861066e+06  1423.0   543.00    1.0   \n",
      "2               magnesium  1477.887199  3.226104e+06  1405.0   770.00    1.0   \n",
      "3                      PT  1722.247553  8.799621e+06  1423.0   533.00    1.0   \n",
      "4                      pH   973.109490  4.292318e+06   445.0  1174.00    1.0   \n",
      "..                    ...          ...           ...     ...      ...    ...   \n",
      "153            Vent Other  1816.184010  1.239065e+07   651.0  1416.75    2.0   \n",
      "154  HSV 1&2 IgG AB titer          NaN           NaN     NaN      NaN    NaN   \n",
      "155             RPR titer          NaN           NaN     NaN      NaN    NaN   \n",
      "156            HIV 1&2 AB          NaN           NaN     NaN      NaN    NaN   \n",
      "157        HSV 1&2 IgG AB   830.000000  0.000000e+00   830.0     0.00  830.0   \n",
      "\n",
      "          max  \n",
      "0    149635.0  \n",
      "1    477685.0  \n",
      "2    211660.0  \n",
      "3    477685.0  \n",
      "4    115264.0  \n",
      "..        ...  \n",
      "153   57363.0  \n",
      "154       NaN  \n",
      "155       NaN  \n",
      "156       NaN  \n",
      "157     830.0  \n",
      "\n",
      "[158 rows x 7 columns]\n"
     ]
    }
   ],
   "source": [
    "print(freq_stats_df)\n",
    "# freq_stats_df.to_csv(file_path.joinpath('Lab_Frequency.csv'))"
   ]
  },
  {
   "cell_type": "code",
   "execution_count": 408,
   "metadata": {},
   "outputs": [],
   "source": [
    "d_freq_stats = []\n",
    "for lab in range(158):\n",
    "    df_lab = d_mapped_lab_file[d_mapped_lab_file['labname'] == lab]\n",
    "    if df_lab.empty:\n",
    "        d_freq_stats.append(get_stats(lab, []))\n",
    "    # Filters out one type of lab only\n",
    "    df_lab_sorted = df_lab.sort_values(by=['patientunitstayid', 'labresultoffset']).reset_index()\n",
    "    # Sorts by patient, then time to make subtraction later on easier\n",
    "\n",
    "    # Creates\n",
    "    lab_counts = df_lab_sorted['patientunitstayid'].value_counts().to_dict()\n",
    "    arr_lab = df_lab_sorted.to_numpy(dtype=int)\n",
    "\n",
    "    index_map = [0]\n",
    "    length_map = []\n",
    "    for i, id in enumerate(df_lab['patientunitstayid'].unique()):\n",
    "        index_map.append(index_map[i] + lab_counts[id])\n",
    "        length_map.append(lab_counts[id])\n",
    "    index_map = index_map[:-1]\n",
    "    index_m_arr = np.asarray(index_map)\n",
    "    length_m_arr = np.asarray(length_map)\n",
    "\n",
    "    all_times = arr_lab[:, -3]\n",
    "    if all_times.size != 0:\n",
    "        time_diff = all_times[1:] - all_times[:-1]\n",
    "        afil1 = index_m_arr - 1\n",
    "        afil2 = index_m_arr[length_m_arr == 1]\n",
    "        anti_filter = np.append(afil1, afil2)\n",
    "        true_filter = ~np.isin(np.arange(all_times.size - 1), anti_filter)\n",
    "        filtered_time_diff = time_diff[true_filter]\n",
    "        filtered_time_diff = filtered_time_diff[filtered_time_diff != 0]\n",
    "    d_freq_stats.append(get_stats(lab, filtered_time_diff))\n",
    "d_freq_stats_df = pd.DataFrame(d_freq_stats, columns = [\"lab\", \"mean\", \"var\", \"median\", \"IQR\", \"min\", \"max\"])"
   ]
  },
  {
   "cell_type": "code",
   "execution_count": 409,
   "metadata": {},
   "outputs": [
    {
     "name": "stdout",
     "output_type": "stream",
     "text": [
      "                      lab         mean           var  median      IQR  min  \\\n",
      "0              fibrinogen  1569.987567  1.241292e+07   615.0  1089.00  1.0   \n",
      "1                PT - INR  1878.614975  1.473883e+07  1425.0   522.75  1.0   \n",
      "2               magnesium  1609.303855  3.662724e+06  1418.0   702.50  1.0   \n",
      "3                      PT  1881.034873  1.477390e+07  1425.0   523.00  1.0   \n",
      "4                      pH  1116.792751  5.275647e+06   542.0  1208.00  1.0   \n",
      "..                    ...          ...           ...     ...      ...  ...   \n",
      "155  HSV 1&2 IgG AB titer  1998.791667  1.582595e+07   789.5  1697.50  4.0   \n",
      "156             RPR titer          NaN           NaN     NaN      NaN  NaN   \n",
      "157            HIV 1&2 AB          NaN           NaN     NaN      NaN  NaN   \n",
      "158            HIV 1&2 AB          NaN           NaN     NaN      NaN  NaN   \n",
      "159        HSV 1&2 IgG AB          NaN           NaN     NaN      NaN  NaN   \n",
      "\n",
      "          max  \n",
      "0     66170.0  \n",
      "1    477685.0  \n",
      "2     87915.0  \n",
      "3    477685.0  \n",
      "4    104989.0  \n",
      "..        ...  \n",
      "155   57363.0  \n",
      "156       NaN  \n",
      "157       NaN  \n",
      "158       NaN  \n",
      "159       NaN  \n",
      "\n",
      "[160 rows x 7 columns]\n"
     ]
    }
   ],
   "source": [
    "print(d_freq_stats_df)\n",
    "# d_freq_stats_df.to_csv(file_path.joinpath('Lab_Frequency_delirium.csv'))"
   ]
  }
 ],
 "metadata": {
  "interpreter": {
   "hash": "b49efbba663b85a8e44b0a315541c3753d6b00aa565cbe8f63abd7edbe2c0996"
  },
  "kernelspec": {
   "display_name": "Python 3.10.1 64-bit ('.venv': venv)",
   "language": "python",
   "name": "python3"
  },
  "language_info": {
   "codemirror_mode": {
    "name": "ipython",
    "version": 3
   },
   "file_extension": ".py",
   "mimetype": "text/x-python",
   "name": "python",
   "nbconvert_exporter": "python",
   "pygments_lexer": "ipython3",
   "version": "3.10.1"
  },
  "orig_nbformat": 4
 },
 "nbformat": 4,
 "nbformat_minor": 2
}
