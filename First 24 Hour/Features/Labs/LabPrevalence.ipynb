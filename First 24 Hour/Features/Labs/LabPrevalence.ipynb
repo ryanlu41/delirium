{
 "cells": [
  {
   "cell_type": "code",
   "execution_count": 65,
   "metadata": {},
   "outputs": [],
   "source": [
    "\n",
    "from pathlib import Path, PurePath\n",
    "import glob\n",
    "import os\n",
    "import numpy as np\n",
    "import csv\n",
    "import pandas as pd\n",
    "import time\n",
    "import matplotlib.pyplot as plt"
   ]
  },
  {
   "cell_type": "code",
   "execution_count": 66,
   "metadata": {},
   "outputs": [
    {
     "name": "stdout",
     "output_type": "stream",
     "text": [
      "/mnt/Research/LCICM/Delirium/delirium/eicu\n"
     ]
    }
   ],
   "source": [
    "file_path = PurePath(os.getcwd())\n",
    "dataset_path = file_path.parent.parent.parent.joinpath('eicu')\n",
    "print(dataset_path)"
   ]
  },
  {
   "cell_type": "code",
   "execution_count": 83,
   "metadata": {},
   "outputs": [],
   "source": [
    "lab_file = pd.read_csv(dataset_path.joinpath('lab.csv.gz'), compression='gzip')\n",
    "lab_prev = lab_file['labname'].value_counts()\n",
    "lab_del_file = pd.read_csv(dataset_path.joinpath('lab_delirium.csv'))\n",
    "lab_del_prev = lab_del_file['labname'].value_counts()"
   ]
  },
  {
   "cell_type": "code",
   "execution_count": 115,
   "metadata": {},
   "outputs": [],
   "source": [
    "lab_prev = lab_prev.rename('Total Prevalence').sort_index()\n",
    "lab_del_prev = lab_del_prev.rename('Delirium Prevalence').sort_index()\n"
   ]
  },
  {
   "cell_type": "code",
   "execution_count": 171,
   "metadata": {},
   "outputs": [],
   "source": [
    "df = pd.concat([lab_prev, lab_del_prev], axis=1)\n",
    "\n",
    "df.to_csv(file_path.joinpath('LabPrevalence.csv'))"
   ]
  },
  {
   "cell_type": "code",
   "execution_count": 172,
   "metadata": {},
   "outputs": [],
   "source": [
    "used_list = pd.read_csv(file_path.joinpath('LabsList.csv'))\n"
   ]
  },
  {
   "cell_type": "code",
   "execution_count": 173,
   "metadata": {},
   "outputs": [
    {
     "name": "stdout",
     "output_type": "stream",
     "text": [
      "Total Prevalence       506025.0\n",
      "Delirium Prevalence     80928.0\n",
      "Name: albumin, dtype: float64\n"
     ]
    }
   ],
   "source": [
    "print(df.loc['albumin'])"
   ]
  },
  {
   "cell_type": "code",
   "execution_count": 174,
   "metadata": {},
   "outputs": [],
   "source": [
    "used_prev = pd.DataFrame()\n",
    "\n",
    "for i in used_list['Lab Name']:\n",
    "    try: \n",
    "        used_prev = used_prev.append(df.loc[i].copy())\n",
    "        df = df.drop(i, axis=0)\n",
    "    except: \n",
    "        continue\n"
   ]
  },
  {
   "cell_type": "code",
   "execution_count": 176,
   "metadata": {},
   "outputs": [
    {
     "name": "stdout",
     "output_type": "stream",
     "text": [
      "41\n"
     ]
    }
   ],
   "source": [
    "print(len(used_prev))"
   ]
  },
  {
   "cell_type": "code",
   "execution_count": 178,
   "metadata": {},
   "outputs": [],
   "source": [
    "df.to_csv(file_path.joinpath('UnusedLabPrev.csv'))\n",
    "used_prev.to_csv(file_path.joinpath('UsedLabPrev.csv'))\n",
    "# df.to_csv(file_path.joinpath('UnusedLabPrev.csv.gz'), compression='gzip')\n",
    "# used_prev.to_csv(file_path.joinpath('UsedLabPrev.csv.gz'), compression='gzip')"
   ]
  }
 ],
 "metadata": {
  "interpreter": {
   "hash": "b49efbba663b85a8e44b0a315541c3753d6b00aa565cbe8f63abd7edbe2c0996"
  },
  "kernelspec": {
   "display_name": "Python 3.10.1 64-bit ('.venv': venv)",
   "language": "python",
   "name": "python3"
  },
  "language_info": {
   "codemirror_mode": {
    "name": "ipython",
    "version": 3
   },
   "file_extension": ".py",
   "mimetype": "text/x-python",
   "name": "python",
   "nbconvert_exporter": "python",
   "pygments_lexer": "ipython3",
   "version": "3.10.1"
  },
  "orig_nbformat": 4
 },
 "nbformat": 4,
 "nbformat_minor": 2
}
